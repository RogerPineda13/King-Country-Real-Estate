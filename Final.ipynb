{
 "cells": [
  {
   "cell_type": "markdown",
   "metadata": {},
   "source": [
    "# King County Real Estate\n",
    "## Designing Data-Driven Price Model\n",
    "\n",
    "###### <font color='gray'>By: Jeonwook Kang, Daniel Burdeno, Roger Pineda</font>"
   ]
  },
  {
   "cell_type": "markdown",
   "metadata": {},
   "source": [
    "# Overview\n",
    "**This project analyzes King County housing sales data to create both predictive and inferential price model**\n",
    "\n",
    "The project highlights four key features that most strongly impacts our housing price:\n",
    "- Square feet\n",
    "- Zip code\n",
    "- Water Front \n",
    "- View"
   ]
  },
  {
   "cell_type": "markdown",
   "metadata": {},
   "source": [
    "# Business Problem\n",
    "As a real estate agency firm, their primary role is to connect potential buyers and sellers of real estate properties. It is therefore imperative that they provide an accurate information and services to their clients and ensure both parties consent on a fair property price. Every Door Real Estate Company needs a model that provides statistically significant information on features that impact housing value and predicts a fair price based on those features and will make ssure the client is content on their decision of choosing Every Door Real Estate Company.\n",
    "\n",
    "Key questions:\n",
    "- Which specific features significantly influence the overall value of the house?\n",
    "- How significant are the locations of the house within King County?\n",
    "- Is it possible to predict the housing price based on its features?\n",
    "- How can Every Door Real Estate Company utilize this model to increase their profit?"
   ]
  },
  {
   "cell_type": "markdown",
   "metadata": {},
   "source": [
    "----"
   ]
  },
  {
   "cell_type": "markdown",
   "metadata": {},
   "source": [
    "# Data Preparation"
   ]
  },
  {
   "cell_type": "code",
   "execution_count": 1,
   "metadata": {},
   "outputs": [],
   "source": [
    "import pandas as pd\n",
    "import numpy as np\n",
    "import seaborn as sns\n",
    "from sklearn.preprocessing import OneHotEncoder\n",
    "from sklearn.linear_model import LinearRegression\n",
    "from sklearn.metrics import mean_squared_error\n",
    "from sklearn.preprocessing import StandardScaler\n",
    "from sklearn.model_selection import cross_val_score\n",
    "from statsmodels.formula.api import ols\n",
    "from sklearn.impute import SimpleImputer\n",
    "from sklearn.model_selection import train_test_split\n",
    "from sklearn.preprocessing import OrdinalEncoder\n",
    "from sklearn.dummy import DummyRegressor\n",
    "import matplotlib.pyplot as plt\n",
    "import statsmodels.api as sm\n",
    "%matplotlib inline"
   ]
  },
  {
   "cell_type": "code",
   "execution_count": 2,
   "metadata": {},
   "outputs": [
    {
     "name": "stdout",
     "output_type": "stream",
     "text": [
      "<class 'pandas.core.frame.DataFrame'>\n",
      "RangeIndex: 21597 entries, 0 to 21596\n",
      "Data columns (total 21 columns):\n",
      " #   Column         Non-Null Count  Dtype  \n",
      "---  ------         --------------  -----  \n",
      " 0   id             21597 non-null  int64  \n",
      " 1   date           21597 non-null  object \n",
      " 2   price          21597 non-null  float64\n",
      " 3   bedrooms       21597 non-null  int64  \n",
      " 4   bathrooms      21597 non-null  float64\n",
      " 5   sqft_living    21597 non-null  int64  \n",
      " 6   sqft_lot       21597 non-null  int64  \n",
      " 7   floors         21597 non-null  float64\n",
      " 8   waterfront     19221 non-null  object \n",
      " 9   view           21534 non-null  object \n",
      " 10  condition      21597 non-null  object \n",
      " 11  grade          21597 non-null  object \n",
      " 12  sqft_above     21597 non-null  int64  \n",
      " 13  sqft_basement  21597 non-null  object \n",
      " 14  yr_built       21597 non-null  int64  \n",
      " 15  yr_renovated   17755 non-null  float64\n",
      " 16  zipcode        21597 non-null  int64  \n",
      " 17  lat            21597 non-null  float64\n",
      " 18  long           21597 non-null  float64\n",
      " 19  sqft_living15  21597 non-null  int64  \n",
      " 20  sqft_lot15     21597 non-null  int64  \n",
      "dtypes: float64(6), int64(9), object(6)\n",
      "memory usage: 3.5+ MB\n"
     ]
    }
   ],
   "source": [
    "# Loading in the given data set into variable housing_df to check the data type for each column\n",
    "housing_df = pd.read_csv('data/kc_house_data.csv')\n",
    "housing_df.info()"
   ]
  },
  {
   "cell_type": "code",
   "execution_count": 3,
   "metadata": {},
   "outputs": [
    {
     "data": {
      "text/plain": [
       "id                  0\n",
       "date                0\n",
       "price               0\n",
       "bedrooms            0\n",
       "bathrooms           0\n",
       "sqft_living         0\n",
       "sqft_lot            0\n",
       "floors              0\n",
       "waterfront       2376\n",
       "view               63\n",
       "condition           0\n",
       "grade               0\n",
       "sqft_above          0\n",
       "sqft_basement       0\n",
       "yr_built            0\n",
       "yr_renovated     3842\n",
       "zipcode             0\n",
       "lat                 0\n",
       "long                0\n",
       "sqft_living15       0\n",
       "sqft_lot15          0\n",
       "dtype: int64"
      ]
     },
     "execution_count": 3,
     "metadata": {},
     "output_type": "execute_result"
    }
   ],
   "source": [
    "# Checking to see if any columns in the dataframe have any NaN values\n",
    "housing_df.isna().sum()"
   ]
  },
  {
   "cell_type": "markdown",
   "metadata": {},
   "source": [
    "**Observations**\n",
    "<ul>\n",
    "<li> We see waterfront, view and yr_renocated columns are the only columns with NaN values.\n",
    "<li> We will be using sklearn Simple Imputer to later fill in the missing values in our desired columns.\n",
    "<li> Also there are many columns with non-numerical values, so we will convert those values into integers using an appropriate sklearn tools. "
   ]
  },
  {
   "cell_type": "code",
   "execution_count": 4,
   "metadata": {},
   "outputs": [],
   "source": [
    "# Grabbing the age of the home\n",
    "housing_df['datetime'] = pd.to_datetime(housing_df['date'])\n",
    "housing_df['soldyear'] = housing_df['datetime'].dt.year\n",
    "housing_df['age_when_sold'] = housing_df['soldyear'] - housing_df['yr_built']"
   ]
  },
  {
   "cell_type": "code",
   "execution_count": 5,
   "metadata": {},
   "outputs": [],
   "source": [
    "# Just getting the numeric values of Graade\n",
    "housing_df['grade_num'] = housing_df['grade'].str.split()\n",
    "housing_df['grade_num'] = housing_df['grade_num'].str[0]\n",
    "housing_df['grade_num'] = housing_df['grade_num'].astype(int)"
   ]
  },
  {
   "cell_type": "code",
   "execution_count": 6,
   "metadata": {},
   "outputs": [],
   "source": [
    "# Creating a new column 'Basement' that will have a value of 1 or 0 in reference to whther a house has a basement or not.\n",
    "housing_df['sqft_basement'] = housing_df['sqft_living'] - housing_df['sqft_above']\n",
    "housing_df['Basement'] = None\n",
    "housing_df['Basement'] = housing_df['sqft_basement'].map(lambda x: False if x == 0 else True)\n",
    "housing_df['Basement'] = housing_df['Basement'].astype(int)"
   ]
  },
  {
   "cell_type": "code",
   "execution_count": 7,
   "metadata": {},
   "outputs": [
    {
     "data": {
      "text/plain": [
       "Average      14020\n",
       "Good          5677\n",
       "Very Good     1701\n",
       "Fair           170\n",
       "Poor            29\n",
       "Name: condition, dtype: int64"
      ]
     },
     "execution_count": 7,
     "metadata": {},
     "output_type": "execute_result"
    }
   ],
   "source": [
    "housing_df.condition.value_counts()"
   ]
  },
  {
   "cell_type": "code",
   "execution_count": 8,
   "metadata": {},
   "outputs": [],
   "source": [
    "# Changing all the values in the 'condition' column to integers.\n",
    "replace_dict2 = {'Poor': 1, 'Fair': 2, 'Average': 3, 'Good': 4, 'Very Good': 5}\n",
    "housing_df['condition'] = housing_df['condition'].replace(replace_dict2)"
   ]
  },
  {
   "cell_type": "code",
   "execution_count": 9,
   "metadata": {},
   "outputs": [],
   "source": [
    "wtr_col = housing_df[['waterfront']]\n",
    "imputer = SimpleImputer(strategy='constant', fill_value = 'NO')\n",
    "imputer.fit(wtr_col)\n",
    "waterfront_imputed = imputer.transform(wtr_col)\n",
    "housing_df.waterfront = waterfront_imputed"
   ]
  },
  {
   "cell_type": "code",
   "execution_count": 10,
   "metadata": {},
   "outputs": [],
   "source": [
    "wtr_col = housing_df[['waterfront']]\n",
    "encoder_wtr = OrdinalEncoder()\n",
    "encoder_wtr.fit(wtr_col)\n",
    "encoded_wtr = encoder_wtr.transform(wtr_col)\n",
    "encoded_wtr = encoded_wtr.flatten()\n",
    "housing_df.waterfront = encoded_wtr"
   ]
  },
  {
   "cell_type": "code",
   "execution_count": 11,
   "metadata": {},
   "outputs": [],
   "source": [
    "view_col = housing_df[['view']]\n",
    "imputer = SimpleImputer(strategy='constant', fill_value = 'NONE')\n",
    "imputer.fit(view_col)\n",
    "view_imputed = imputer.transform(view_col)\n",
    "housing_df.view = view_imputed"
   ]
  },
  {
   "cell_type": "code",
   "execution_count": 12,
   "metadata": {},
   "outputs": [
    {
     "data": {
      "text/plain": [
       "id                  0\n",
       "date                0\n",
       "price               0\n",
       "bedrooms            0\n",
       "bathrooms           0\n",
       "sqft_living         0\n",
       "sqft_lot            0\n",
       "floors              0\n",
       "waterfront          0\n",
       "view                0\n",
       "condition           0\n",
       "grade               0\n",
       "sqft_above          0\n",
       "sqft_basement       0\n",
       "yr_built            0\n",
       "yr_renovated     3842\n",
       "zipcode             0\n",
       "lat                 0\n",
       "long                0\n",
       "sqft_living15       0\n",
       "sqft_lot15          0\n",
       "datetime            0\n",
       "soldyear            0\n",
       "age_when_sold       0\n",
       "grade_num           0\n",
       "Basement            0\n",
       "dtype: int64"
      ]
     },
     "execution_count": 12,
     "metadata": {},
     "output_type": "execute_result"
    }
   ],
   "source": [
    "housing_df.isna().sum()"
   ]
  },
  {
   "cell_type": "markdown",
   "metadata": {},
   "source": [
    "We don't see much usage in certain columns or we have already used the column information to its max and will no longer be needing them."
   ]
  },
  {
   "cell_type": "code",
   "execution_count": 13,
   "metadata": {},
   "outputs": [],
   "source": [
    "housing_ols = housing_df.drop(['datetime', 'date', 'soldyear', 'yr_built', 'lat', 'long',\n",
    " 'sqft_above', 'sqft_lot15', 'sqft_living15', 'grade', 'sqft_above', 'sqft_basement', 'yr_renovated'], axis = 1)"
   ]
  },
  {
   "cell_type": "code",
   "execution_count": 14,
   "metadata": {
    "scrolled": false
   },
   "outputs": [
    {
     "data": {
      "text/html": [
       "<div>\n",
       "<style scoped>\n",
       "    .dataframe tbody tr th:only-of-type {\n",
       "        vertical-align: middle;\n",
       "    }\n",
       "\n",
       "    .dataframe tbody tr th {\n",
       "        vertical-align: top;\n",
       "    }\n",
       "\n",
       "    .dataframe thead th {\n",
       "        text-align: right;\n",
       "    }\n",
       "</style>\n",
       "<table border=\"1\" class=\"dataframe\">\n",
       "  <thead>\n",
       "    <tr style=\"text-align: right;\">\n",
       "      <th></th>\n",
       "      <th>id</th>\n",
       "      <th>price</th>\n",
       "      <th>bedrooms</th>\n",
       "      <th>bathrooms</th>\n",
       "      <th>sqft_living</th>\n",
       "      <th>sqft_lot</th>\n",
       "      <th>floors</th>\n",
       "      <th>waterfront</th>\n",
       "      <th>view</th>\n",
       "      <th>condition</th>\n",
       "      <th>zipcode</th>\n",
       "      <th>age_when_sold</th>\n",
       "      <th>grade_num</th>\n",
       "      <th>Basement</th>\n",
       "    </tr>\n",
       "  </thead>\n",
       "  <tbody>\n",
       "    <tr>\n",
       "      <th>0</th>\n",
       "      <td>7129300520</td>\n",
       "      <td>221900.0</td>\n",
       "      <td>3</td>\n",
       "      <td>1.00</td>\n",
       "      <td>1180</td>\n",
       "      <td>5650</td>\n",
       "      <td>1.0</td>\n",
       "      <td>0.0</td>\n",
       "      <td>NONE</td>\n",
       "      <td>3</td>\n",
       "      <td>98178</td>\n",
       "      <td>59</td>\n",
       "      <td>7</td>\n",
       "      <td>0</td>\n",
       "    </tr>\n",
       "    <tr>\n",
       "      <th>1</th>\n",
       "      <td>6414100192</td>\n",
       "      <td>538000.0</td>\n",
       "      <td>3</td>\n",
       "      <td>2.25</td>\n",
       "      <td>2570</td>\n",
       "      <td>7242</td>\n",
       "      <td>2.0</td>\n",
       "      <td>0.0</td>\n",
       "      <td>NONE</td>\n",
       "      <td>3</td>\n",
       "      <td>98125</td>\n",
       "      <td>63</td>\n",
       "      <td>7</td>\n",
       "      <td>1</td>\n",
       "    </tr>\n",
       "    <tr>\n",
       "      <th>2</th>\n",
       "      <td>5631500400</td>\n",
       "      <td>180000.0</td>\n",
       "      <td>2</td>\n",
       "      <td>1.00</td>\n",
       "      <td>770</td>\n",
       "      <td>10000</td>\n",
       "      <td>1.0</td>\n",
       "      <td>0.0</td>\n",
       "      <td>NONE</td>\n",
       "      <td>3</td>\n",
       "      <td>98028</td>\n",
       "      <td>82</td>\n",
       "      <td>6</td>\n",
       "      <td>0</td>\n",
       "    </tr>\n",
       "    <tr>\n",
       "      <th>3</th>\n",
       "      <td>2487200875</td>\n",
       "      <td>604000.0</td>\n",
       "      <td>4</td>\n",
       "      <td>3.00</td>\n",
       "      <td>1960</td>\n",
       "      <td>5000</td>\n",
       "      <td>1.0</td>\n",
       "      <td>0.0</td>\n",
       "      <td>NONE</td>\n",
       "      <td>5</td>\n",
       "      <td>98136</td>\n",
       "      <td>49</td>\n",
       "      <td>7</td>\n",
       "      <td>1</td>\n",
       "    </tr>\n",
       "    <tr>\n",
       "      <th>4</th>\n",
       "      <td>1954400510</td>\n",
       "      <td>510000.0</td>\n",
       "      <td>3</td>\n",
       "      <td>2.00</td>\n",
       "      <td>1680</td>\n",
       "      <td>8080</td>\n",
       "      <td>1.0</td>\n",
       "      <td>0.0</td>\n",
       "      <td>NONE</td>\n",
       "      <td>3</td>\n",
       "      <td>98074</td>\n",
       "      <td>28</td>\n",
       "      <td>8</td>\n",
       "      <td>0</td>\n",
       "    </tr>\n",
       "    <tr>\n",
       "      <th>...</th>\n",
       "      <td>...</td>\n",
       "      <td>...</td>\n",
       "      <td>...</td>\n",
       "      <td>...</td>\n",
       "      <td>...</td>\n",
       "      <td>...</td>\n",
       "      <td>...</td>\n",
       "      <td>...</td>\n",
       "      <td>...</td>\n",
       "      <td>...</td>\n",
       "      <td>...</td>\n",
       "      <td>...</td>\n",
       "      <td>...</td>\n",
       "      <td>...</td>\n",
       "    </tr>\n",
       "    <tr>\n",
       "      <th>21592</th>\n",
       "      <td>263000018</td>\n",
       "      <td>360000.0</td>\n",
       "      <td>3</td>\n",
       "      <td>2.50</td>\n",
       "      <td>1530</td>\n",
       "      <td>1131</td>\n",
       "      <td>3.0</td>\n",
       "      <td>0.0</td>\n",
       "      <td>NONE</td>\n",
       "      <td>3</td>\n",
       "      <td>98103</td>\n",
       "      <td>5</td>\n",
       "      <td>8</td>\n",
       "      <td>0</td>\n",
       "    </tr>\n",
       "    <tr>\n",
       "      <th>21593</th>\n",
       "      <td>6600060120</td>\n",
       "      <td>400000.0</td>\n",
       "      <td>4</td>\n",
       "      <td>2.50</td>\n",
       "      <td>2310</td>\n",
       "      <td>5813</td>\n",
       "      <td>2.0</td>\n",
       "      <td>0.0</td>\n",
       "      <td>NONE</td>\n",
       "      <td>3</td>\n",
       "      <td>98146</td>\n",
       "      <td>1</td>\n",
       "      <td>8</td>\n",
       "      <td>0</td>\n",
       "    </tr>\n",
       "    <tr>\n",
       "      <th>21594</th>\n",
       "      <td>1523300141</td>\n",
       "      <td>402101.0</td>\n",
       "      <td>2</td>\n",
       "      <td>0.75</td>\n",
       "      <td>1020</td>\n",
       "      <td>1350</td>\n",
       "      <td>2.0</td>\n",
       "      <td>0.0</td>\n",
       "      <td>NONE</td>\n",
       "      <td>3</td>\n",
       "      <td>98144</td>\n",
       "      <td>5</td>\n",
       "      <td>7</td>\n",
       "      <td>0</td>\n",
       "    </tr>\n",
       "    <tr>\n",
       "      <th>21595</th>\n",
       "      <td>291310100</td>\n",
       "      <td>400000.0</td>\n",
       "      <td>3</td>\n",
       "      <td>2.50</td>\n",
       "      <td>1600</td>\n",
       "      <td>2388</td>\n",
       "      <td>2.0</td>\n",
       "      <td>0.0</td>\n",
       "      <td>NONE</td>\n",
       "      <td>3</td>\n",
       "      <td>98027</td>\n",
       "      <td>11</td>\n",
       "      <td>8</td>\n",
       "      <td>0</td>\n",
       "    </tr>\n",
       "    <tr>\n",
       "      <th>21596</th>\n",
       "      <td>1523300157</td>\n",
       "      <td>325000.0</td>\n",
       "      <td>2</td>\n",
       "      <td>0.75</td>\n",
       "      <td>1020</td>\n",
       "      <td>1076</td>\n",
       "      <td>2.0</td>\n",
       "      <td>0.0</td>\n",
       "      <td>NONE</td>\n",
       "      <td>3</td>\n",
       "      <td>98144</td>\n",
       "      <td>6</td>\n",
       "      <td>7</td>\n",
       "      <td>0</td>\n",
       "    </tr>\n",
       "  </tbody>\n",
       "</table>\n",
       "<p>21597 rows × 14 columns</p>\n",
       "</div>"
      ],
      "text/plain": [
       "               id     price  bedrooms  bathrooms  sqft_living  sqft_lot  \\\n",
       "0      7129300520  221900.0         3       1.00         1180      5650   \n",
       "1      6414100192  538000.0         3       2.25         2570      7242   \n",
       "2      5631500400  180000.0         2       1.00          770     10000   \n",
       "3      2487200875  604000.0         4       3.00         1960      5000   \n",
       "4      1954400510  510000.0         3       2.00         1680      8080   \n",
       "...           ...       ...       ...        ...          ...       ...   \n",
       "21592   263000018  360000.0         3       2.50         1530      1131   \n",
       "21593  6600060120  400000.0         4       2.50         2310      5813   \n",
       "21594  1523300141  402101.0         2       0.75         1020      1350   \n",
       "21595   291310100  400000.0         3       2.50         1600      2388   \n",
       "21596  1523300157  325000.0         2       0.75         1020      1076   \n",
       "\n",
       "       floors  waterfront  view  condition  zipcode  age_when_sold  grade_num  \\\n",
       "0         1.0         0.0  NONE          3    98178             59          7   \n",
       "1         2.0         0.0  NONE          3    98125             63          7   \n",
       "2         1.0         0.0  NONE          3    98028             82          6   \n",
       "3         1.0         0.0  NONE          5    98136             49          7   \n",
       "4         1.0         0.0  NONE          3    98074             28          8   \n",
       "...       ...         ...   ...        ...      ...            ...        ...   \n",
       "21592     3.0         0.0  NONE          3    98103              5          8   \n",
       "21593     2.0         0.0  NONE          3    98146              1          8   \n",
       "21594     2.0         0.0  NONE          3    98144              5          7   \n",
       "21595     2.0         0.0  NONE          3    98027             11          8   \n",
       "21596     2.0         0.0  NONE          3    98144              6          7   \n",
       "\n",
       "       Basement  \n",
       "0             0  \n",
       "1             1  \n",
       "2             0  \n",
       "3             1  \n",
       "4             0  \n",
       "...         ...  \n",
       "21592         0  \n",
       "21593         0  \n",
       "21594         0  \n",
       "21595         0  \n",
       "21596         0  \n",
       "\n",
       "[21597 rows x 14 columns]"
      ]
     },
     "execution_count": 14,
     "metadata": {},
     "output_type": "execute_result"
    }
   ],
   "source": [
    "housing_ols"
   ]
  },
  {
   "cell_type": "code",
   "execution_count": 15,
   "metadata": {},
   "outputs": [],
   "source": [
    "housing_ols['bathrooms'] = housing_ols['bathrooms'][housing_ols['bathrooms'].between(housing_ols['bathrooms'].quantile(.025), housing_ols['bathrooms'].quantile(.975), inclusive=True)]\n",
    "housing_ols['floors'] = housing_ols['floors'][housing_ols['floors'].between(housing_ols['floors'].quantile(.025), housing_ols['floors'].quantile(.975), inclusive=True)]\n",
    "housing_ols['condition'] = housing_ols['condition'][housing_ols['condition'].between(housing_ols['condition'].quantile(.025), housing_ols['condition'].quantile(.975), inclusive=True)]\n",
    "housing_ols['age_when_sold'] = housing_ols['age_when_sold'][housing_ols['age_when_sold'].between(housing_ols['age_when_sold'].quantile(.025), housing_ols['age_when_sold'].quantile(.975), inclusive=True)]\n",
    "housing_ols['grade_num'] = housing_ols['grade_num'][housing_ols['grade_num'].between(housing_ols['grade_num'].quantile(.025), housing_ols['grade_num'].quantile(.975), inclusive=True)]\n",
    "housing_ols['sqft_living'] = housing_ols['sqft_living'][housing_ols['sqft_living'].between(housing_ols['sqft_living'].quantile(.025), housing_ols['sqft_living'].quantile(.975), inclusive=True)]"
   ]
  },
  {
   "cell_type": "code",
   "execution_count": 16,
   "metadata": {},
   "outputs": [],
   "source": [
    "housing_ols.dropna(inplace=True)"
   ]
  },
  {
   "cell_type": "code",
   "execution_count": 17,
   "metadata": {},
   "outputs": [
    {
     "name": "stdout",
     "output_type": "stream",
     "text": [
      "<class 'pandas.core.frame.DataFrame'>\n",
      "Int64Index: 18982 entries, 0 to 21595\n",
      "Data columns (total 14 columns):\n",
      " #   Column         Non-Null Count  Dtype  \n",
      "---  ------         --------------  -----  \n",
      " 0   id             18982 non-null  int64  \n",
      " 1   price          18982 non-null  float64\n",
      " 2   bedrooms       18982 non-null  int64  \n",
      " 3   bathrooms      18982 non-null  float64\n",
      " 4   sqft_living    18982 non-null  float64\n",
      " 5   sqft_lot       18982 non-null  int64  \n",
      " 6   floors         18982 non-null  float64\n",
      " 7   waterfront     18982 non-null  float64\n",
      " 8   view           18982 non-null  object \n",
      " 9   condition      18982 non-null  float64\n",
      " 10  zipcode        18982 non-null  int64  \n",
      " 11  age_when_sold  18982 non-null  float64\n",
      " 12  grade_num      18982 non-null  float64\n",
      " 13  Basement       18982 non-null  int64  \n",
      "dtypes: float64(8), int64(5), object(1)\n",
      "memory usage: 2.2+ MB\n"
     ]
    }
   ],
   "source": [
    "housing_ols.info()"
   ]
  },
  {
   "cell_type": "markdown",
   "metadata": {},
   "source": [
    "With new working dataframe we want to see how the remaining columns correlates to our target,price, as well as to other columns to check for collinearity"
   ]
  },
  {
   "cell_type": "code",
   "execution_count": 18,
   "metadata": {
    "scrolled": true
   },
   "outputs": [
    {
     "data": {
      "text/html": [
       "<div>\n",
       "<style scoped>\n",
       "    .dataframe tbody tr th:only-of-type {\n",
       "        vertical-align: middle;\n",
       "    }\n",
       "\n",
       "    .dataframe tbody tr th {\n",
       "        vertical-align: top;\n",
       "    }\n",
       "\n",
       "    .dataframe thead th {\n",
       "        text-align: right;\n",
       "    }\n",
       "</style>\n",
       "<table border=\"1\" class=\"dataframe\">\n",
       "  <thead>\n",
       "    <tr style=\"text-align: right;\">\n",
       "      <th></th>\n",
       "      <th>id</th>\n",
       "      <th>price</th>\n",
       "      <th>bedrooms</th>\n",
       "      <th>bathrooms</th>\n",
       "      <th>sqft_living</th>\n",
       "      <th>sqft_lot</th>\n",
       "      <th>floors</th>\n",
       "      <th>waterfront</th>\n",
       "      <th>condition</th>\n",
       "      <th>zipcode</th>\n",
       "      <th>age_when_sold</th>\n",
       "      <th>grade_num</th>\n",
       "      <th>Basement</th>\n",
       "    </tr>\n",
       "  </thead>\n",
       "  <tbody>\n",
       "    <tr>\n",
       "      <th>id</th>\n",
       "      <td>1.000000</td>\n",
       "      <td>-0.000928</td>\n",
       "      <td>0.008006</td>\n",
       "      <td>0.023486</td>\n",
       "      <td>0.007682</td>\n",
       "      <td>-0.133692</td>\n",
       "      <td>0.028339</td>\n",
       "      <td>-0.001261</td>\n",
       "      <td>-0.027560</td>\n",
       "      <td>-0.010194</td>\n",
       "      <td>-0.028447</td>\n",
       "      <td>0.023935</td>\n",
       "      <td>-0.002596</td>\n",
       "    </tr>\n",
       "    <tr>\n",
       "      <th>price</th>\n",
       "      <td>-0.000928</td>\n",
       "      <td>1.000000</td>\n",
       "      <td>0.240653</td>\n",
       "      <td>0.410585</td>\n",
       "      <td>0.602894</td>\n",
       "      <td>0.069183</td>\n",
       "      <td>0.206349</td>\n",
       "      <td>0.199812</td>\n",
       "      <td>0.063917</td>\n",
       "      <td>-0.013711</td>\n",
       "      <td>0.025395</td>\n",
       "      <td>0.606747</td>\n",
       "      <td>0.167110</td>\n",
       "    </tr>\n",
       "    <tr>\n",
       "      <th>bedrooms</th>\n",
       "      <td>0.008006</td>\n",
       "      <td>0.240653</td>\n",
       "      <td>1.000000</td>\n",
       "      <td>0.428823</td>\n",
       "      <td>0.538763</td>\n",
       "      <td>0.019597</td>\n",
       "      <td>0.106570</td>\n",
       "      <td>-0.018726</td>\n",
       "      <td>0.039335</td>\n",
       "      <td>-0.128411</td>\n",
       "      <td>-0.091938</td>\n",
       "      <td>0.254965</td>\n",
       "      <td>0.128265</td>\n",
       "    </tr>\n",
       "    <tr>\n",
       "      <th>bathrooms</th>\n",
       "      <td>0.023486</td>\n",
       "      <td>0.410585</td>\n",
       "      <td>0.428823</td>\n",
       "      <td>1.000000</td>\n",
       "      <td>0.681695</td>\n",
       "      <td>0.057580</td>\n",
       "      <td>0.489728</td>\n",
       "      <td>0.026091</td>\n",
       "      <td>-0.144666</td>\n",
       "      <td>-0.189508</td>\n",
       "      <td>-0.515920</td>\n",
       "      <td>0.586130</td>\n",
       "      <td>0.114819</td>\n",
       "    </tr>\n",
       "    <tr>\n",
       "      <th>sqft_living</th>\n",
       "      <td>0.007682</td>\n",
       "      <td>0.602894</td>\n",
       "      <td>0.538763</td>\n",
       "      <td>0.681695</td>\n",
       "      <td>1.000000</td>\n",
       "      <td>0.149898</td>\n",
       "      <td>0.303125</td>\n",
       "      <td>0.052234</td>\n",
       "      <td>-0.057134</td>\n",
       "      <td>-0.178894</td>\n",
       "      <td>-0.279177</td>\n",
       "      <td>0.685861</td>\n",
       "      <td>0.171674</td>\n",
       "    </tr>\n",
       "    <tr>\n",
       "      <th>sqft_lot</th>\n",
       "      <td>-0.133692</td>\n",
       "      <td>0.069183</td>\n",
       "      <td>0.019597</td>\n",
       "      <td>0.057580</td>\n",
       "      <td>0.149898</td>\n",
       "      <td>1.000000</td>\n",
       "      <td>-0.019939</td>\n",
       "      <td>0.024670</td>\n",
       "      <td>0.002893</td>\n",
       "      <td>-0.121881</td>\n",
       "      <td>-0.041776</td>\n",
       "      <td>0.092503</td>\n",
       "      <td>-0.045031</td>\n",
       "    </tr>\n",
       "    <tr>\n",
       "      <th>floors</th>\n",
       "      <td>0.028339</td>\n",
       "      <td>0.206349</td>\n",
       "      <td>0.106570</td>\n",
       "      <td>0.489728</td>\n",
       "      <td>0.303125</td>\n",
       "      <td>-0.019939</td>\n",
       "      <td>1.000000</td>\n",
       "      <td>0.009563</td>\n",
       "      <td>-0.291515</td>\n",
       "      <td>-0.050391</td>\n",
       "      <td>-0.506532</td>\n",
       "      <td>0.427576</td>\n",
       "      <td>-0.308340</td>\n",
       "    </tr>\n",
       "    <tr>\n",
       "      <th>waterfront</th>\n",
       "      <td>-0.001261</td>\n",
       "      <td>0.199812</td>\n",
       "      <td>-0.018726</td>\n",
       "      <td>0.026091</td>\n",
       "      <td>0.052234</td>\n",
       "      <td>0.024670</td>\n",
       "      <td>0.009563</td>\n",
       "      <td>1.000000</td>\n",
       "      <td>0.020148</td>\n",
       "      <td>0.037290</td>\n",
       "      <td>0.041026</td>\n",
       "      <td>0.047250</td>\n",
       "      <td>0.032024</td>\n",
       "    </tr>\n",
       "    <tr>\n",
       "      <th>condition</th>\n",
       "      <td>-0.027560</td>\n",
       "      <td>0.063917</td>\n",
       "      <td>0.039335</td>\n",
       "      <td>-0.144666</td>\n",
       "      <td>-0.057134</td>\n",
       "      <td>0.002893</td>\n",
       "      <td>-0.291515</td>\n",
       "      <td>0.020148</td>\n",
       "      <td>1.000000</td>\n",
       "      <td>0.002346</td>\n",
       "      <td>0.397815</td>\n",
       "      <td>-0.170227</td>\n",
       "      <td>0.144455</td>\n",
       "    </tr>\n",
       "    <tr>\n",
       "      <th>zipcode</th>\n",
       "      <td>-0.010194</td>\n",
       "      <td>-0.013711</td>\n",
       "      <td>-0.128411</td>\n",
       "      <td>-0.189508</td>\n",
       "      <td>-0.178894</td>\n",
       "      <td>-0.121881</td>\n",
       "      <td>-0.050391</td>\n",
       "      <td>0.037290</td>\n",
       "      <td>0.002346</td>\n",
       "      <td>1.000000</td>\n",
       "      <td>0.340941</td>\n",
       "      <td>-0.166271</td>\n",
       "      <td>0.193399</td>\n",
       "    </tr>\n",
       "    <tr>\n",
       "      <th>age_when_sold</th>\n",
       "      <td>-0.028447</td>\n",
       "      <td>0.025395</td>\n",
       "      <td>-0.091938</td>\n",
       "      <td>-0.515920</td>\n",
       "      <td>-0.279177</td>\n",
       "      <td>-0.041776</td>\n",
       "      <td>-0.506532</td>\n",
       "      <td>0.041026</td>\n",
       "      <td>0.397815</td>\n",
       "      <td>0.340941</td>\n",
       "      <td>1.000000</td>\n",
       "      <td>-0.423001</td>\n",
       "      <td>0.228450</td>\n",
       "    </tr>\n",
       "    <tr>\n",
       "      <th>grade_num</th>\n",
       "      <td>0.023935</td>\n",
       "      <td>0.606747</td>\n",
       "      <td>0.254965</td>\n",
       "      <td>0.586130</td>\n",
       "      <td>0.685861</td>\n",
       "      <td>0.092503</td>\n",
       "      <td>0.427576</td>\n",
       "      <td>0.047250</td>\n",
       "      <td>-0.170227</td>\n",
       "      <td>-0.166271</td>\n",
       "      <td>-0.423001</td>\n",
       "      <td>1.000000</td>\n",
       "      <td>-0.015762</td>\n",
       "    </tr>\n",
       "    <tr>\n",
       "      <th>Basement</th>\n",
       "      <td>-0.002596</td>\n",
       "      <td>0.167110</td>\n",
       "      <td>0.128265</td>\n",
       "      <td>0.114819</td>\n",
       "      <td>0.171674</td>\n",
       "      <td>-0.045031</td>\n",
       "      <td>-0.308340</td>\n",
       "      <td>0.032024</td>\n",
       "      <td>0.144455</td>\n",
       "      <td>0.193399</td>\n",
       "      <td>0.228450</td>\n",
       "      <td>-0.015762</td>\n",
       "      <td>1.000000</td>\n",
       "    </tr>\n",
       "  </tbody>\n",
       "</table>\n",
       "</div>"
      ],
      "text/plain": [
       "                     id     price  bedrooms  bathrooms  sqft_living  sqft_lot  \\\n",
       "id             1.000000 -0.000928  0.008006   0.023486     0.007682 -0.133692   \n",
       "price         -0.000928  1.000000  0.240653   0.410585     0.602894  0.069183   \n",
       "bedrooms       0.008006  0.240653  1.000000   0.428823     0.538763  0.019597   \n",
       "bathrooms      0.023486  0.410585  0.428823   1.000000     0.681695  0.057580   \n",
       "sqft_living    0.007682  0.602894  0.538763   0.681695     1.000000  0.149898   \n",
       "sqft_lot      -0.133692  0.069183  0.019597   0.057580     0.149898  1.000000   \n",
       "floors         0.028339  0.206349  0.106570   0.489728     0.303125 -0.019939   \n",
       "waterfront    -0.001261  0.199812 -0.018726   0.026091     0.052234  0.024670   \n",
       "condition     -0.027560  0.063917  0.039335  -0.144666    -0.057134  0.002893   \n",
       "zipcode       -0.010194 -0.013711 -0.128411  -0.189508    -0.178894 -0.121881   \n",
       "age_when_sold -0.028447  0.025395 -0.091938  -0.515920    -0.279177 -0.041776   \n",
       "grade_num      0.023935  0.606747  0.254965   0.586130     0.685861  0.092503   \n",
       "Basement      -0.002596  0.167110  0.128265   0.114819     0.171674 -0.045031   \n",
       "\n",
       "                 floors  waterfront  condition   zipcode  age_when_sold  \\\n",
       "id             0.028339   -0.001261  -0.027560 -0.010194      -0.028447   \n",
       "price          0.206349    0.199812   0.063917 -0.013711       0.025395   \n",
       "bedrooms       0.106570   -0.018726   0.039335 -0.128411      -0.091938   \n",
       "bathrooms      0.489728    0.026091  -0.144666 -0.189508      -0.515920   \n",
       "sqft_living    0.303125    0.052234  -0.057134 -0.178894      -0.279177   \n",
       "sqft_lot      -0.019939    0.024670   0.002893 -0.121881      -0.041776   \n",
       "floors         1.000000    0.009563  -0.291515 -0.050391      -0.506532   \n",
       "waterfront     0.009563    1.000000   0.020148  0.037290       0.041026   \n",
       "condition     -0.291515    0.020148   1.000000  0.002346       0.397815   \n",
       "zipcode       -0.050391    0.037290   0.002346  1.000000       0.340941   \n",
       "age_when_sold -0.506532    0.041026   0.397815  0.340941       1.000000   \n",
       "grade_num      0.427576    0.047250  -0.170227 -0.166271      -0.423001   \n",
       "Basement      -0.308340    0.032024   0.144455  0.193399       0.228450   \n",
       "\n",
       "               grade_num  Basement  \n",
       "id              0.023935 -0.002596  \n",
       "price           0.606747  0.167110  \n",
       "bedrooms        0.254965  0.128265  \n",
       "bathrooms       0.586130  0.114819  \n",
       "sqft_living     0.685861  0.171674  \n",
       "sqft_lot        0.092503 -0.045031  \n",
       "floors          0.427576 -0.308340  \n",
       "waterfront      0.047250  0.032024  \n",
       "condition      -0.170227  0.144455  \n",
       "zipcode        -0.166271  0.193399  \n",
       "age_when_sold  -0.423001  0.228450  \n",
       "grade_num       1.000000 -0.015762  \n",
       "Basement       -0.015762  1.000000  "
      ]
     },
     "execution_count": 18,
     "metadata": {},
     "output_type": "execute_result"
    }
   ],
   "source": [
    "housing_ols.corr()"
   ]
  },
  {
   "cell_type": "code",
   "execution_count": 19,
   "metadata": {
    "scrolled": true
   },
   "outputs": [
    {
     "data": {
      "image/png": "[encoded data removed]",
      "text/plain": [
       "<Figure size 1080x1080 with 12 Axes>"
      ]
     },
     "metadata": {
      "needs_background": "light"
     },
     "output_type": "display_data"
    }
   ],
   "source": [
    "# Visually inspecting all columns association with price\n",
    "fig, (axes1, axes2, axes3, axes4) = plt.subplots(nrows=4, ncols=3, figsize=(15,15))\n",
    "for xcol, ax in zip(['bedrooms', 'bathrooms', 'sqft_living'], axes1):\n",
    "    housing_ols.plot(kind='scatter', x=xcol, y='price', ax=ax, alpha=0.4, color='b')\n",
    "for xcols, axs in zip(['sqft_lot', 'floors', 'view'], axes2):\n",
    "    housing_ols.plot(kind='scatter', x=xcols, y='price', ax=axs, alpha=0.4, color='b')\n",
    "for xcolss, axss in zip(['condition', 'age_when_sold', 'grade_num'], axes3):\n",
    "    housing_ols.plot(kind='scatter', x=xcolss, y='price', ax=axss, alpha=0.4, color='b')\n",
    "for xcolss, axss in zip(['waterfront', 'Basement'], axes4):\n",
    "    housing_ols.plot(kind='scatter', x=xcolss, y='price', ax=axss, alpha=0.4, color='b')"
   ]
  },
  {
   "cell_type": "code",
   "execution_count": 20,
   "metadata": {},
   "outputs": [],
   "source": [
    "housing_pred = housing_ols.copy()"
   ]
  },
  {
   "cell_type": "code",
   "execution_count": 21,
   "metadata": {},
   "outputs": [],
   "source": [
    "# All of these columns are categorical values so we will we will create separate columns with OneHotEncoder. \n",
    "# Using the new columns found within each categories, we will concat them all into one dataframe.\n",
    "# Categorical columns include: 'bedrooms', 'grade_num', 'condition', 'bahrooms', 'view', 'floors', 'zipcode'\n",
    "\n",
    "bedrooms_ohe = housing_pred[['bedrooms']]\n",
    "ohe_bedrooms = OneHotEncoder(categories ='auto', sparse =False)\n",
    "ohe_bedrooms.fit(bedrooms_ohe)\n",
    "ohe_bedrooms_encoded = ohe_bedrooms.transform(bedrooms_ohe)\n",
    "bedrooms_encoded_ohe = pd.DataFrame(ohe_bedrooms_encoded, columns = ohe_bedrooms.get_feature_names(['bedrooms']), index = housing_pred.index )\n",
    "housing_pred1 = pd.concat([housing_pred, bedrooms_encoded_ohe ], axis =1)\n",
    "\n",
    "grade_num_ohe = housing_pred[['grade_num']]\n",
    "ohe_grade_num = OneHotEncoder(categories ='auto', sparse =False)\n",
    "ohe_grade_num.fit(grade_num_ohe)\n",
    "ohe_grade_num_encoded = ohe_grade_num.transform(grade_num_ohe)\n",
    "grade_num_encoded_ohe = pd.DataFrame(ohe_grade_num_encoded, columns = ohe_grade_num.get_feature_names(['grade_num']), index = housing_pred.index )\n",
    "housing_pred2 = pd.concat([housing_pred1, grade_num_encoded_ohe], axis =1)\n",
    "\n",
    "condition_ohe = housing_pred[['condition']]\n",
    "ohe = OneHotEncoder(categories=\"auto\", sparse=False)\n",
    "cond_encoded_ohe = pd.DataFrame (ohe.fit_transform(condition_ohe), index = housing_pred.index)\n",
    "cond_encoded_ohe.columns = ohe.get_feature_names(['condition'])\n",
    "housing_pred3 = pd.concat([housing_pred2, cond_encoded_ohe], axis = 1)\n",
    "\n",
    "bathrooms_ohe = housing_pred[['bathrooms']]\n",
    "ohe = OneHotEncoder(categories='auto', sparse=False, handle_unknown='ignore')\n",
    "bathrooms_transform = ohe.fit_transform(bathrooms_ohe)\n",
    "bathrooms_encoded_ohe = pd.DataFrame(bathrooms_transform, columns=ohe.get_feature_names(['bathrooms']), index=housing_pred.index)\n",
    "housing_pred4 = pd.concat([housing_pred3, bathrooms_encoded_ohe], axis = 1)\n",
    "\n",
    "view_ohe = housing_pred[['view']]\n",
    "ohe = OneHotEncoder(categories=\"auto\", sparse=False)\n",
    "ohe.fit(view_ohe)\n",
    "view_encoded = ohe.transform(view_ohe)\n",
    "view_encoded_ohe =pd.DataFrame(view_encoded, columns=ohe.get_feature_names(['view']), index=housing_pred.index)\n",
    "housing_pred5 = pd.concat([housing_pred4, view_encoded_ohe], axis = 1)\n",
    "\n",
    "floors_ohe = housing_pred[['floors']]\n",
    "ohe_floors = OneHotEncoder(categories ='auto', sparse =False)\n",
    "ohe_floors.fit(floors_ohe)\n",
    "ohe_floors_encoded = ohe_floors.transform(floors_ohe)\n",
    "floors_encoded_ohe = pd.DataFrame(ohe_floors_encoded, columns = ohe_floors.get_feature_names(['floors']), index = housing_pred.index )\n",
    "housing_pred6 = pd.concat([housing_pred5, floors_encoded_ohe ], axis =1)\n",
    "\n",
    "zipcode_ohe = housing_pred[['zipcode']]\n",
    "ohe = OneHotEncoder(categories=\"auto\", sparse=False)\n",
    "ohe.fit(zipcode_ohe)\n",
    "zipcode_encoded = ohe.transform(zipcode_ohe)\n",
    "zipcode_encoded_ohe =pd.DataFrame(zipcode_encoded, columns=ohe.get_feature_names(['zipcode']), index=housing_pred.index)\n",
    "housing_pred_final = pd.concat([housing_pred6, zipcode_encoded_ohe ], axis =1)"
   ]
  },
  {
   "cell_type": "code",
   "execution_count": 22,
   "metadata": {},
   "outputs": [],
   "source": [
    "# Final dataframe after dealing with the catgoricals and dropping the original columns.\n",
    "housing_pred_final.drop(['id', 'floors', 'bedrooms', 'bathrooms', 'view', 'condition', 'zipcode', 'grade_num'], axis = 1, inplace=True)"
   ]
  },
  {
   "cell_type": "markdown",
   "metadata": {},
   "source": [
    "Finally we want to log transform our target variable, price, in order to account for heteroscesdsitdy in the data"
   ]
  },
  {
   "cell_type": "code",
   "execution_count": 23,
   "metadata": {},
   "outputs": [],
   "source": [
    "# Creating a new column that takes the log of price\n",
    "housing_pred_final['log_price'] = np.log(housing_pred_final['price'])"
   ]
  },
  {
   "cell_type": "markdown",
   "metadata": {},
   "source": [
    "**Insights and Observations:**\n",
    "<ul>\n",
    "    After cleaning all the data, we used log transformation in order to change all our prices into logarithmic scale. The reason is that compared to our other values, the the value of price was far greater which caused violations in our linear regression assumptions. After this transformation we were able to normalize the data to a certain degree as well as control the heteroscedasticity."
   ]
  },
  {
   "cell_type": "markdown",
   "metadata": {},
   "source": [
    "# Predictive Model Results"
   ]
  },
  {
   "cell_type": "markdown",
   "metadata": {},
   "source": [
    "### Dummy Regressor (Baseline)"
   ]
  },
  {
   "cell_type": "code",
   "execution_count": 24,
   "metadata": {},
   "outputs": [
    {
     "name": "stdout",
     "output_type": "stream",
     "text": [
      "0.0\n",
      "-1.7223170907021412e-05\n"
     ]
    }
   ],
   "source": [
    "# Putting our target in the y_dummy variable and the rest of the dataframe without price in the X_dummy variable\n",
    "X_dummy = housing_pred_final.drop('price', axis = 1)\n",
    "y_dummy = housing_pred_final['log_price']\n",
    "\n",
    "# Splitting up our dummy variables into two subsets: for training data and testing data\n",
    "X_train, X_test, y_train, y_test = train_test_split(X_dummy, y_dummy, test_size=0.2, random_state=42)\n",
    "\n",
    "# Setting up our dummy regressor\n",
    "dummy_regr = DummyRegressor(strategy=\"mean\")\n",
    "dummy_regr.fit(X_train, y_train)\n",
    "print(dummy_regr.score(X_train, y_train))\n",
    "print(dummy_regr.score(X_test, y_test))"
   ]
  },
  {
   "cell_type": "markdown",
   "metadata": {},
   "source": [
    "### Simple Regression"
   ]
  },
  {
   "cell_type": "code",
   "execution_count": 25,
   "metadata": {
    "scrolled": true
   },
   "outputs": [
    {
     "data": {
      "image/png": "[encoded data removed]",
      "text/plain": [
       "<Figure size 432x288 with 2 Axes>"
      ]
     },
     "metadata": {
      "needs_background": "light"
     },
     "output_type": "display_data"
    }
   ],
   "source": [
    "heat_map = housing_pred.corr()\n",
    "heat_map_price = heat_map[['price']]\n",
    "sns.heatmap(heat_map_price, annot=True, linewidths =2.5);"
   ]
  },
  {
   "cell_type": "code",
   "execution_count": 26,
   "metadata": {},
   "outputs": [],
   "source": [
    "heat_map_price = heat_map_price.reset_index().sort_values(by='price', ascending=True)\n",
    "heat_map_price = heat_map_price[(heat_map_price['index']=='sqft_living')|\n",
    "                                (heat_map_price['index']=='grade_num')|\n",
    "                                (heat_map_price['index']=='bathrooms')|\n",
    "                                (heat_map_price['index']=='bedrooms')|\n",
    "                                (heat_map_price['index']=='waterfront')|\n",
    "                                (heat_map_price['index']=='floors')]\n",
    "\n"
   ]
  },
  {
   "cell_type": "code",
   "execution_count": 27,
   "metadata": {},
   "outputs": [
    {
     "data": {
      "image/png": "[encoded data removed]",
      "text/plain": [
       "<Figure size 1000x600 with 1 Axes>"
      ]
     },
     "metadata": {},
     "output_type": "display_data"
    }
   ],
   "source": [
    "sns.set_style(\"dark\")\n",
    "heat_fig, ax = plt.subplots(figsize=(10,6), dpi=100)\n",
    "x_cor = heat_map_price['index']\n",
    "y_cor = heat_map_price['price']\n",
    "clrs=['grey' if (x != 'sqft_living') else 'red' for x in x_cor]\n",
    "\n",
    "ax.bar(x_cor, y_cor, color=clrs)\n",
    "ax.tick_params(axis='x', rotation=45)\n",
    "plt.title('Correlation of Features', size=20)\n",
    "plt.ylabel('Price', size=15)\n",
    "plt.xlabel('Features', size=15)\n",
    "plt.savefig('images/heat_fig.png', bbox_inches = 'tight');"
   ]
  },
  {
   "cell_type": "markdown",
   "metadata": {},
   "source": [
    "**We see from above that sqft_living has the highest correlation from non-catergorical to price therefore it will be used as the feature in the simple model.**"
   ]
  },
  {
   "cell_type": "code",
   "execution_count": 28,
   "metadata": {},
   "outputs": [
    {
     "name": "stdout",
     "output_type": "stream",
     "text": [
      "0.3814740612115821\n",
      "0.37977233074408945\n",
      "Train Mean Squarred Error: 45436829723.37744\n",
      "Test Mean Squarred Error: 44990685853.56912\n",
      "Test RMSE:  212110.0795661751\n"
     ]
    },
    {
     "name": "stderr",
     "output_type": "stream",
     "text": [
      "<ipython-input-28-e9403d6fd8c2>:17: SettingWithCopyWarning: \n",
      "A value is trying to be set on a copy of a slice from a DataFrame.\n",
      "Try using .loc[row_indexer,col_indexer] = value instead\n",
      "\n",
      "See the caveats in the documentation: https://pandas.pydata.org/pandas-docs/stable/user_guide/indexing.html#returning-a-view-versus-a-copy\n",
      "  X_train_s['sqft_living'] = scaled_columns['sqft_living']\n",
      "<ipython-input-28-e9403d6fd8c2>:29: SettingWithCopyWarning: \n",
      "A value is trying to be set on a copy of a slice from a DataFrame.\n",
      "Try using .loc[row_indexer,col_indexer] = value instead\n",
      "\n",
      "See the caveats in the documentation: https://pandas.pydata.org/pandas-docs/stable/user_guide/indexing.html#returning-a-view-versus-a-copy\n",
      "  X_test_s['sqft_living'] = scaled_columns_test['sqft_living']\n"
     ]
    }
   ],
   "source": [
    "# y variable will always be our target which is price and X variable will contain our housing features\n",
    "# Here in our simple model, X is only sqft_living\n",
    "simple_model_df = pd.concat([housing_pred_final['log_price'], housing_pred_final['sqft_living']], axis = 1)\n",
    "X_simple = simple_model_df.drop('log_price', axis = 1)\n",
    "y_simple = simple_model_df['log_price']\n",
    "\n",
    "# Splitting up our dummy variables into two subsets: for training data and testing data\n",
    "X_train_s, X_test_s, y_train_s, y_test_s = train_test_split(X_simple, y_simple, test_size=0.2, random_state=42)\n",
    "\n",
    "# Scaling sqft_living(standardscaler)\n",
    "cols_scale = ['sqft_living']\n",
    "scaler = StandardScaler()\n",
    "scaled_fit = scaler.fit(X_train_s[cols_scale])\n",
    "scaled_columns = scaled_fit.transform(X_train_s[cols_scale])\n",
    "scaled_columns = pd.DataFrame(scaled_columns, index = X_train_s.index)\n",
    "scaled_columns.columns = cols_scale\n",
    "X_train_s['sqft_living'] = scaled_columns['sqft_living']\n",
    "\n",
    "# Setting up simple linear regression\n",
    "simple_reg = LinearRegression()\n",
    "simple_reg.fit(X_train_s, y_train_s)\n",
    "print(simple_reg.score(X_train_s, y_train_s))\n",
    "\n",
    "# Scaling test set\n",
    "scale_test = X_test_s[cols_scale]\n",
    "scaled_columns_test = scaled_fit.transform(scale_test)\n",
    "scaled_columns_test = pd.DataFrame(scaled_columns_test, index = X_test_s.index)\n",
    "scaled_columns_test.columns = cols_scale\n",
    "X_test_s['sqft_living'] = scaled_columns_test['sqft_living']\n",
    "print(simple_reg.score(X_test_s, y_test_s))\n",
    "\n",
    "# Calculating predicted value of our model \n",
    "# determine the mean squared error for train and test data\n",
    "y_hat_train_s = np.exp(simple_reg.predict(X_train_s))\n",
    "y_hat_test_s = np.exp(simple_reg.predict(X_test_s))\n",
    "train_mse_s = mean_squared_error(np.exp(y_train_s), y_hat_train_s)\n",
    "test_mse_s = mean_squared_error(np.exp(y_test_s), y_hat_test_s)\n",
    "test_rmse_s = np.sqrt(test_mse_s)\n",
    "print('Train Mean Squarred Error:', train_mse_s)\n",
    "print('Test Mean Squarred Error:', test_mse_s)\n",
    "print('Test RMSE: ', test_rmse_s)"
   ]
  },
  {
   "cell_type": "markdown",
   "metadata": {},
   "source": [
    "### Multiple Linear Regression"
   ]
  },
  {
   "cell_type": "markdown",
   "metadata": {},
   "source": [
    "#### Model 1"
   ]
  },
  {
   "cell_type": "code",
   "execution_count": 29,
   "metadata": {},
   "outputs": [
    {
     "name": "stdout",
     "output_type": "stream",
     "text": [
      "0.4145358683225331\n",
      "0.41421241610395343\n",
      "Train Mean Squarred Error: 40959072171.22711\n",
      "Test Mean Squarred Error: 40373113700.03922\n",
      "Test RSME:  200930.61912023072\n"
     ]
    },
    {
     "name": "stderr",
     "output_type": "stream",
     "text": [
      "<ipython-input-29-0c364ecdab16>:17: SettingWithCopyWarning: \n",
      "A value is trying to be set on a copy of a slice from a DataFrame.\n",
      "Try using .loc[row_indexer,col_indexer] = value instead\n",
      "\n",
      "See the caveats in the documentation: https://pandas.pydata.org/pandas-docs/stable/user_guide/indexing.html#returning-a-view-versus-a-copy\n",
      "  X_train_m1['sqft_living'] = scaled_columns['sqft_living']\n",
      "<ipython-input-29-0c364ecdab16>:29: SettingWithCopyWarning: \n",
      "A value is trying to be set on a copy of a slice from a DataFrame.\n",
      "Try using .loc[row_indexer,col_indexer] = value instead\n",
      "\n",
      "See the caveats in the documentation: https://pandas.pydata.org/pandas-docs/stable/user_guide/indexing.html#returning-a-view-versus-a-copy\n",
      "  X_test_m1['sqft_living'] = scaled_columns_test['sqft_living']\n"
     ]
    }
   ],
   "source": [
    "# y variable will always be our target which is price and X variable will contain our housing features\n",
    "# This is our first muliple linear regression model with just sqft_living and view\n",
    "multi_model_1 = pd.concat([housing_pred_final['log_price'], housing_pred_final['sqft_living'], view_encoded_ohe], axis = 1)\n",
    "X_multi1 = multi_model_1.drop('log_price', axis = 1)\n",
    "y_multi1 = multi_model_1['log_price']\n",
    "\n",
    "# Splitting up our dummy variables into two subsets: for training data and testing data\n",
    "X_train_m1, X_test_m1, y_train_m1, y_test_m1 = train_test_split(X_multi1, y_multi1, test_size=0.2, random_state=42)\n",
    "\n",
    "# Scaling sqft_living(standardscaler)\n",
    "cols_scale = ['sqft_living']\n",
    "scaler = StandardScaler()\n",
    "scaled_fit = scaler.fit(X_train_m1[cols_scale])\n",
    "scaled_columns = scaled_fit.transform(X_train_m1[cols_scale])\n",
    "scaled_columns = pd.DataFrame(scaled_columns, index = X_train_m1.index)\n",
    "scaled_columns.columns = cols_scale\n",
    "X_train_m1['sqft_living'] = scaled_columns['sqft_living']\n",
    "\n",
    "# Setting up our first multiple linear regression\n",
    "multi1_reg = LinearRegression()\n",
    "multi1_reg.fit(X_train_m1, y_train_m1)\n",
    "print(multi1_reg.score(X_train_m1, y_train_m1))\n",
    "\n",
    "# Scaling test set\n",
    "scale_test = X_test_m1[cols_scale]\n",
    "scaled_columns_test = scaled_fit.transform(scale_test)\n",
    "scaled_columns_test = pd.DataFrame(scaled_columns_test, index = X_test_m1.index)\n",
    "scaled_columns_test.columns = cols_scale\n",
    "X_test_m1['sqft_living'] = scaled_columns_test['sqft_living']\n",
    "print(multi1_reg.score(X_test_m1, y_test_m1))\n",
    "\n",
    "# Calculating predicted value of our model \n",
    "# determine the mean squared error for train and test data\n",
    "y_hat_train_m1 = np.exp(multi1_reg.predict(X_train_m1))\n",
    "y_hat_test_m1 = np.exp(multi1_reg.predict(X_test_m1))\n",
    "train_mse_m1 = mean_squared_error(np.exp(y_train_m1), y_hat_train_m1)\n",
    "test_mse_m1 = mean_squared_error(np.exp(y_test_m1), y_hat_test_m1)\n",
    "test_rmse_m1 = np.sqrt(test_mse_m1)\n",
    "print('Train Mean Squarred Error:', train_mse_m1)\n",
    "print('Test Mean Squarred Error:', test_mse_m1)\n",
    "print('Test RSME: ', test_rmse_m1)"
   ]
  },
  {
   "cell_type": "markdown",
   "metadata": {},
   "source": [
    "#### Model 2"
   ]
  },
  {
   "cell_type": "code",
   "execution_count": 30,
   "metadata": {
    "scrolled": true
   },
   "outputs": [
    {
     "name": "stdout",
     "output_type": "stream",
     "text": [
      "0.42079615153025773\n",
      "0.4206121732453748\n",
      "Train Mean Squarred Error: 0.12664226500285877\n",
      "Test Mean Squarred Error: 0.1265955962814896\n"
     ]
    },
    {
     "name": "stderr",
     "output_type": "stream",
     "text": [
      "<ipython-input-30-aa8a41f7274c>:17: SettingWithCopyWarning: \n",
      "A value is trying to be set on a copy of a slice from a DataFrame.\n",
      "Try using .loc[row_indexer,col_indexer] = value instead\n",
      "\n",
      "See the caveats in the documentation: https://pandas.pydata.org/pandas-docs/stable/user_guide/indexing.html#returning-a-view-versus-a-copy\n",
      "  X_train_m2['sqft_living'] = scaled_columns['sqft_living']\n",
      "<ipython-input-30-aa8a41f7274c>:28: SettingWithCopyWarning: \n",
      "A value is trying to be set on a copy of a slice from a DataFrame.\n",
      "Try using .loc[row_indexer,col_indexer] = value instead\n",
      "\n",
      "See the caveats in the documentation: https://pandas.pydata.org/pandas-docs/stable/user_guide/indexing.html#returning-a-view-versus-a-copy\n",
      "  X_test_m2['sqft_living'] = scaled_columns_test['sqft_living']\n"
     ]
    }
   ],
   "source": [
    "# Above Steps repeated with different combinations of housing features to see if it improves our model\n",
    "# Multiple Linear Regression Model number 2\n",
    "\n",
    "multi_model_2 = pd.concat([housing_pred_final['log_price'], housing_pred_final['sqft_living'], view_encoded_ohe, cond_encoded_ohe], axis = 1)\n",
    "X_multi2 = multi_model_2.drop('log_price', axis = 1)\n",
    "y_multi2 = multi_model_2['log_price']\n",
    "\n",
    "X_train_m2, X_test_m2, y_train_m2, y_test_m2 = train_test_split(X_multi2, y_multi2, test_size=0.2, random_state=42)\n",
    "\n",
    "# Scaling sqft_living(standardscaler)\n",
    "cols_scale = ['sqft_living']\n",
    "scaler = StandardScaler()\n",
    "scaled_fit = scaler.fit(X_train_m2[cols_scale])\n",
    "scaled_columns = scaled_fit.transform(X_train_m2[cols_scale])\n",
    "scaled_columns = pd.DataFrame(scaled_columns, index = X_train_m2.index)\n",
    "scaled_columns.columns = cols_scale\n",
    "X_train_m2['sqft_living'] = scaled_columns['sqft_living']\n",
    "\n",
    "multi2_reg = LinearRegression()\n",
    "multi2_reg.fit(X_train_m2, y_train_m2)\n",
    "print(multi2_reg.score(X_train_m2, y_train_m2))\n",
    "\n",
    "# Scaling test set\n",
    "scale_test = X_test_m2[cols_scale]\n",
    "scaled_columns_test = scaled_fit.transform(scale_test)\n",
    "scaled_columns_test = pd.DataFrame(scaled_columns_test, index = X_test_m2.index)\n",
    "scaled_columns_test.columns = cols_scale\n",
    "X_test_m2['sqft_living'] = scaled_columns_test['sqft_living']\n",
    "print(multi2_reg.score(X_test_m2, y_test_m2))\n",
    "\n",
    "y_hat_train_m2 = multi2_reg.predict(X_train_m2)\n",
    "y_hat_test_m2 = multi2_reg.predict(X_test_m2)\n",
    "train_mse_m2 = mean_squared_error(y_train_m2, y_hat_train_m2)\n",
    "test_mse_m2 = mean_squared_error(y_test_m2, y_hat_test_m2)\n",
    "print('Train Mean Squarred Error:', train_mse_m2)\n",
    "print('Test Mean Squarred Error:', test_mse_m2)"
   ]
  },
  {
   "cell_type": "markdown",
   "metadata": {},
   "source": [
    "#### Model 3"
   ]
  },
  {
   "cell_type": "code",
   "execution_count": 31,
   "metadata": {},
   "outputs": [
    {
     "name": "stderr",
     "output_type": "stream",
     "text": [
      "<ipython-input-31-b54327c02ec4>:17: SettingWithCopyWarning: \n",
      "A value is trying to be set on a copy of a slice from a DataFrame.\n",
      "Try using .loc[row_indexer,col_indexer] = value instead\n",
      "\n",
      "See the caveats in the documentation: https://pandas.pydata.org/pandas-docs/stable/user_guide/indexing.html#returning-a-view-versus-a-copy\n",
      "  X_train_m3['sqft_living'] = scaled_columns['sqft_living']\n"
     ]
    },
    {
     "name": "stdout",
     "output_type": "stream",
     "text": [
      "0.8077781253231829\n",
      "0.8023579863514646\n",
      "Train Mean Squarred Error: 0.04202909503533707\n",
      "Test Mean Squarred Error: 0.043184560345806235\n"
     ]
    },
    {
     "name": "stderr",
     "output_type": "stream",
     "text": [
      "<ipython-input-31-b54327c02ec4>:28: SettingWithCopyWarning: \n",
      "A value is trying to be set on a copy of a slice from a DataFrame.\n",
      "Try using .loc[row_indexer,col_indexer] = value instead\n",
      "\n",
      "See the caveats in the documentation: https://pandas.pydata.org/pandas-docs/stable/user_guide/indexing.html#returning-a-view-versus-a-copy\n",
      "  X_test_m3['sqft_living'] = scaled_columns_test['sqft_living']\n"
     ]
    }
   ],
   "source": [
    "# Above Steps repeated with different combinations of housing features to see if it improves our model\n",
    "# Multiple Linear Regression Model number 3\n",
    "\n",
    "multi_model_3 = pd.concat([housing_pred_final['log_price'], housing_pred_final['sqft_living'], zipcode_encoded_ohe], axis = 1)\n",
    "X_multi3 = multi_model_3.drop('log_price', axis = 1)\n",
    "y_multi3 = multi_model_3['log_price']\n",
    "\n",
    "X_train_m3, X_test_m3, y_train_m3, y_test_m3 = train_test_split(X_multi3, y_multi3, test_size=0.2, random_state=42)\n",
    "\n",
    "# Scaling sqft_living(standardscaler)\n",
    "cols_scale = ['sqft_living']\n",
    "scaler = StandardScaler()\n",
    "scaled_fit = scaler.fit(X_train_m3[cols_scale])\n",
    "scaled_columns = scaled_fit.transform(X_train_m3[cols_scale])\n",
    "scaled_columns = pd.DataFrame(scaled_columns, index = X_train_m3.index)\n",
    "scaled_columns.columns = cols_scale\n",
    "X_train_m3['sqft_living'] = scaled_columns['sqft_living']\n",
    "\n",
    "multi3_reg = LinearRegression()\n",
    "multi3_reg.fit(X_train_m3, y_train_m3)\n",
    "print(multi3_reg.score(X_train_m3, y_train_m3))\n",
    "\n",
    "# Scaling test set\n",
    "scale_test = X_test_m3[cols_scale]\n",
    "scaled_columns_test = scaled_fit.transform(scale_test)\n",
    "scaled_columns_test = pd.DataFrame(scaled_columns_test, index = X_test_m3.index)\n",
    "scaled_columns_test.columns = cols_scale\n",
    "X_test_m3['sqft_living'] = scaled_columns_test['sqft_living']\n",
    "print(multi3_reg.score(X_test_m3, y_test_m3))\n",
    "\n",
    "y_hat_train_m3 = multi3_reg.predict(X_train_m3)\n",
    "y_hat_test_m3 = multi3_reg.predict(X_test_m3)\n",
    "train_mse_m3 = mean_squared_error(y_train_m3, y_hat_train_m3)\n",
    "test_mse_m3 = mean_squared_error(y_test_m3, y_hat_test_m3)\n",
    "print('Train Mean Squarred Error:', train_mse_m3)\n",
    "print('Test Mean Squarred Error:', test_mse_m3)"
   ]
  },
  {
   "cell_type": "markdown",
   "metadata": {},
   "source": [
    "#### Model 4"
   ]
  },
  {
   "cell_type": "code",
   "execution_count": 32,
   "metadata": {},
   "outputs": [
    {
     "name": "stderr",
     "output_type": "stream",
     "text": [
      "<ipython-input-32-66268b2c37bf>:17: SettingWithCopyWarning: \n",
      "A value is trying to be set on a copy of a slice from a DataFrame.\n",
      "Try using .loc[row_indexer,col_indexer] = value instead\n",
      "\n",
      "See the caveats in the documentation: https://pandas.pydata.org/pandas-docs/stable/user_guide/indexing.html#returning-a-view-versus-a-copy\n",
      "  X_train_m4['sqft_living'] = scaled_columns['sqft_living']\n"
     ]
    },
    {
     "name": "stdout",
     "output_type": "stream",
     "text": [
      "0.80957729967266\n",
      "0.8033227099439944\n"
     ]
    },
    {
     "name": "stderr",
     "output_type": "stream",
     "text": [
      "<ipython-input-32-66268b2c37bf>:28: SettingWithCopyWarning: \n",
      "A value is trying to be set on a copy of a slice from a DataFrame.\n",
      "Try using .loc[row_indexer,col_indexer] = value instead\n",
      "\n",
      "See the caveats in the documentation: https://pandas.pydata.org/pandas-docs/stable/user_guide/indexing.html#returning-a-view-versus-a-copy\n",
      "  X_test_m4['sqft_living'] = scaled_columns_test['sqft_living']\n"
     ]
    }
   ],
   "source": [
    "# Above Steps repeated with different combinations of housing features to see if it improves our model\n",
    "# Multiple Linear Regression Model number 4\n",
    "\n",
    "multi_model_4 = pd.concat([housing_pred_final['log_price'], housing_pred_final['sqft_living'], zipcode_encoded_ohe, bathrooms_encoded_ohe], axis = 1)\n",
    "X_multi4 = multi_model_4.drop('log_price', axis = 1)\n",
    "y_multi4 = multi_model_4['log_price']\n",
    "\n",
    "X_train_m4, X_test_m4, y_train_m4, y_test_m4 = train_test_split(X_multi4, y_multi4, test_size=0.2, random_state=42)\n",
    "\n",
    "# Scaling sqft_living(standardscaler)\n",
    "cols_scale = ['sqft_living']\n",
    "scaler = StandardScaler()\n",
    "scaled_fit = scaler.fit(X_train_m4[cols_scale])\n",
    "scaled_columns = scaled_fit.transform(X_train_m4[cols_scale])\n",
    "scaled_columns = pd.DataFrame(scaled_columns, index = X_train_m4.index)\n",
    "scaled_columns.columns = cols_scale\n",
    "X_train_m4['sqft_living'] = scaled_columns['sqft_living']\n",
    "\n",
    "multi4_reg = LinearRegression()\n",
    "multi4_reg.fit(X_train_m4, y_train_m4)\n",
    "print(multi4_reg.score(X_train_m4, y_train_m4))\n",
    "\n",
    "# Scaling test set\n",
    "scale_test = X_test_m4[cols_scale]\n",
    "scaled_columns_test = scaled_fit.transform(scale_test)\n",
    "scaled_columns_test = pd.DataFrame(scaled_columns_test, index = X_test_m4.index)\n",
    "scaled_columns_test.columns = cols_scale\n",
    "X_test_m4['sqft_living'] = scaled_columns_test['sqft_living']\n",
    "print(multi4_reg.score(X_test_m4, y_test_m4))\n"
   ]
  },
  {
   "cell_type": "markdown",
   "metadata": {},
   "source": [
    "#### Model 5"
   ]
  },
  {
   "cell_type": "code",
   "execution_count": 33,
   "metadata": {},
   "outputs": [
    {
     "name": "stderr",
     "output_type": "stream",
     "text": [
      "<ipython-input-33-870ca2e432c9>:17: SettingWithCopyWarning: \n",
      "A value is trying to be set on a copy of a slice from a DataFrame.\n",
      "Try using .loc[row_indexer,col_indexer] = value instead\n",
      "\n",
      "See the caveats in the documentation: https://pandas.pydata.org/pandas-docs/stable/user_guide/indexing.html#returning-a-view-versus-a-copy\n",
      "  X_train_m5['sqft_living'] = scaled_columns['sqft_living']\n"
     ]
    },
    {
     "name": "stdout",
     "output_type": "stream",
     "text": [
      "0.8106170118024505\n",
      "0.8064115588587291\n",
      "Train Mean Squarred Error: 0.04140837572421664\n",
      "Test Mean Squarred Error: 0.04229885925763905\n"
     ]
    },
    {
     "name": "stderr",
     "output_type": "stream",
     "text": [
      "<ipython-input-33-870ca2e432c9>:28: SettingWithCopyWarning: \n",
      "A value is trying to be set on a copy of a slice from a DataFrame.\n",
      "Try using .loc[row_indexer,col_indexer] = value instead\n",
      "\n",
      "See the caveats in the documentation: https://pandas.pydata.org/pandas-docs/stable/user_guide/indexing.html#returning-a-view-versus-a-copy\n",
      "  X_test_m5['sqft_living'] = scaled_columns_test['sqft_living']\n"
     ]
    }
   ],
   "source": [
    "# Above Steps repeated with different combinations of housing features to see if it improves our model\n",
    "# Multiple Linear Regression Model number 5\n",
    "\n",
    "multi_model_5 = pd.concat([housing_pred_final['log_price'], housing_pred_final['sqft_living'], zipcode_encoded_ohe, bedrooms_encoded_ohe], axis = 1)\n",
    "X_multi5 = multi_model_5.drop('log_price', axis = 1)\n",
    "y_multi5 = multi_model_5['log_price']\n",
    "\n",
    "X_train_m5, X_test_m5, y_train_m5, y_test_m5 = train_test_split(X_multi5, y_multi5, test_size=0.2, random_state=42)\n",
    "\n",
    "# Scaling sqft_living(standardscaler)\n",
    "cols_scale = ['sqft_living']\n",
    "scaler = StandardScaler()\n",
    "scaled_fit = scaler.fit(X_train_m5[cols_scale])\n",
    "scaled_columns = scaled_fit.transform(X_train_m5[cols_scale])\n",
    "scaled_columns = pd.DataFrame(scaled_columns, index = X_train_m5.index)\n",
    "scaled_columns.columns = cols_scale\n",
    "X_train_m5['sqft_living'] = scaled_columns['sqft_living']\n",
    "\n",
    "multi5_reg = LinearRegression()\n",
    "multi5_reg.fit(X_train_m5, y_train_m5)\n",
    "print(multi5_reg.score(X_train_m5, y_train_m5))\n",
    "\n",
    "# Scaling test set\n",
    "scale_test = X_test_m5[cols_scale]\n",
    "scaled_columns_test = scaled_fit.transform(scale_test)\n",
    "scaled_columns_test = pd.DataFrame(scaled_columns_test, index = X_test_m5.index)\n",
    "scaled_columns_test.columns = cols_scale\n",
    "X_test_m5['sqft_living'] = scaled_columns_test['sqft_living']\n",
    "print(multi5_reg.score(X_test_m5, y_test_m5))\n",
    "\n",
    "y_hat_train_m5 = multi5_reg.predict(X_train_m5)\n",
    "y_hat_test_m5 = multi5_reg.predict(X_test_m5)\n",
    "train_mse_m5 = mean_squared_error(y_train_m5, y_hat_train_m5)\n",
    "test_mse_m5 = mean_squared_error(y_test_m5, y_hat_test_m5)\n",
    "print('Train Mean Squarred Error:', train_mse_m5)\n",
    "print('Test Mean Squarred Error:', test_mse_m5)"
   ]
  },
  {
   "cell_type": "markdown",
   "metadata": {},
   "source": [
    "#### Model 6"
   ]
  },
  {
   "cell_type": "code",
   "execution_count": 34,
   "metadata": {},
   "outputs": [
    {
     "name": "stdout",
     "output_type": "stream",
     "text": [
      "0.8308539451499846\n"
     ]
    },
    {
     "name": "stderr",
     "output_type": "stream",
     "text": [
      "<ipython-input-34-3355172ce715>:17: SettingWithCopyWarning: \n",
      "A value is trying to be set on a copy of a slice from a DataFrame.\n",
      "Try using .loc[row_indexer,col_indexer] = value instead\n",
      "\n",
      "See the caveats in the documentation: https://pandas.pydata.org/pandas-docs/stable/user_guide/indexing.html#returning-a-view-versus-a-copy\n",
      "  X_train_m6['sqft_living'] = scaled_columns['sqft_living']\n"
     ]
    },
    {
     "name": "stdout",
     "output_type": "stream",
     "text": [
      "0.8234179554000715\n",
      "Train Mean Squarred Error: 0.03698359318415817\n",
      "Test Mean Squarred Error: 0.03858298051229135\n"
     ]
    },
    {
     "name": "stderr",
     "output_type": "stream",
     "text": [
      "<ipython-input-34-3355172ce715>:28: SettingWithCopyWarning: \n",
      "A value is trying to be set on a copy of a slice from a DataFrame.\n",
      "Try using .loc[row_indexer,col_indexer] = value instead\n",
      "\n",
      "See the caveats in the documentation: https://pandas.pydata.org/pandas-docs/stable/user_guide/indexing.html#returning-a-view-versus-a-copy\n",
      "  X_test_m6['sqft_living'] = scaled_columns_test['sqft_living']\n"
     ]
    }
   ],
   "source": [
    "# Above Steps repeated with different combinations of housing features to see if it improves our model\n",
    "# Multiple Linear Regression Model number 6\n",
    "\n",
    "multi_model_6 = pd.concat([housing_pred_final['log_price'], housing_pred_final['sqft_living'], zipcode_encoded_ohe, view_encoded_ohe], axis = 1)\n",
    "X_multi6 = multi_model_6.drop('log_price', axis = 1)\n",
    "y_multi6 = multi_model_6['log_price']\n",
    "\n",
    "X_train_m6, X_test_m6, y_train_m6, y_test_m6 = train_test_split(X_multi6, y_multi6, test_size=0.2, random_state=42)\n",
    "\n",
    "# Scaling sqft_living(standardscaler)\n",
    "cols_scale = ['sqft_living']\n",
    "scaler = StandardScaler()\n",
    "scaled_fit = scaler.fit(X_train_m6[cols_scale])\n",
    "scaled_columns = scaled_fit.transform(X_train_m6[cols_scale])\n",
    "scaled_columns = pd.DataFrame(scaled_columns, index = X_train_m6.index)\n",
    "scaled_columns.columns = cols_scale\n",
    "X_train_m6['sqft_living'] = scaled_columns['sqft_living']\n",
    "\n",
    "multi6_reg = LinearRegression()\n",
    "multi6_reg.fit(X_train_m6, y_train_m6)\n",
    "print(multi6_reg.score(X_train_m6, y_train_m6))\n",
    "\n",
    "# Scaling test set\n",
    "scale_test = X_test_m6[cols_scale]\n",
    "scaled_columns_test = scaled_fit.transform(scale_test)\n",
    "scaled_columns_test = pd.DataFrame(scaled_columns_test, index = X_test_m6.index)\n",
    "scaled_columns_test.columns = cols_scale\n",
    "X_test_m6['sqft_living'] = scaled_columns_test['sqft_living']\n",
    "print(multi6_reg.score(X_test_m6, y_test_m6))\n",
    "\n",
    "y_hat_train_m6 = multi6_reg.predict(X_train_m6)\n",
    "y_hat_test_m6 = multi6_reg.predict(X_test_m6)\n",
    "train_mse_m6 = mean_squared_error(y_train_m6, y_hat_train_m6)\n",
    "test_mse_m6 = mean_squared_error(y_test_m6, y_hat_test_m6)\n",
    "print('Train Mean Squarred Error:', train_mse_m6)\n",
    "print('Test Mean Squarred Error:', test_mse_m6)"
   ]
  },
  {
   "cell_type": "markdown",
   "metadata": {},
   "source": [
    "#### Model 7"
   ]
  },
  {
   "cell_type": "code",
   "execution_count": 35,
   "metadata": {},
   "outputs": [
    {
     "name": "stdout",
     "output_type": "stream",
     "text": [
      "0.8335303111361299\n",
      "0.8262631239675863\n",
      "Train Mean Squarred Error: 0.03639840879465949\n",
      "Test Mean Squarred Error: 0.03796131434207954\n"
     ]
    },
    {
     "name": "stderr",
     "output_type": "stream",
     "text": [
      "<ipython-input-35-530bf82454e8>:17: SettingWithCopyWarning: \n",
      "A value is trying to be set on a copy of a slice from a DataFrame.\n",
      "Try using .loc[row_indexer,col_indexer] = value instead\n",
      "\n",
      "See the caveats in the documentation: https://pandas.pydata.org/pandas-docs/stable/user_guide/indexing.html#returning-a-view-versus-a-copy\n",
      "  X_train_m7['sqft_living'] = scaled_columns['sqft_living']\n",
      "<ipython-input-35-530bf82454e8>:28: SettingWithCopyWarning: \n",
      "A value is trying to be set on a copy of a slice from a DataFrame.\n",
      "Try using .loc[row_indexer,col_indexer] = value instead\n",
      "\n",
      "See the caveats in the documentation: https://pandas.pydata.org/pandas-docs/stable/user_guide/indexing.html#returning-a-view-versus-a-copy\n",
      "  X_test_m7['sqft_living'] = scaled_columns_test['sqft_living']\n"
     ]
    }
   ],
   "source": [
    "# Above Steps repeated with different combinations of housing features to see if it improves our model\n",
    "# Multiple Linear Regression Model number 7\n",
    "\n",
    "multi_model_7 = pd.concat([housing_pred_final['log_price'], housing_pred_final['sqft_living'], housing_pred_final['waterfront'], zipcode_encoded_ohe, view_encoded_ohe], axis = 1)\n",
    "X_multi7 = multi_model_7.drop('log_price', axis = 1)\n",
    "y_multi7 = multi_model_7['log_price']\n",
    "\n",
    "X_train_m7, X_test_m7, y_train_m7, y_test_m7 = train_test_split(X_multi7, y_multi7, test_size=0.2, random_state=42)\n",
    "\n",
    "# Scaling sqft_living(standardscaler)\n",
    "cols_scale = ['sqft_living']\n",
    "scaler = StandardScaler()\n",
    "scaled_fit = scaler.fit(X_train_m7[cols_scale])\n",
    "scaled_columns = scaled_fit.transform(X_train_m7[cols_scale])\n",
    "scaled_columns = pd.DataFrame(scaled_columns, index = X_train_m7.index)\n",
    "scaled_columns.columns = cols_scale\n",
    "X_train_m7['sqft_living'] = scaled_columns['sqft_living']\n",
    "\n",
    "multi7_reg = LinearRegression()\n",
    "multi7_reg.fit(X_train_m7, y_train_m7)\n",
    "print(multi7_reg.score(X_train_m7, y_train_m7))\n",
    "\n",
    "# Scaling test set\n",
    "scale_test = X_test_m7[cols_scale]\n",
    "scaled_columns_test = scaled_fit.transform(scale_test)\n",
    "scaled_columns_test = pd.DataFrame(scaled_columns_test, index = X_test_m7.index)\n",
    "scaled_columns_test.columns = cols_scale\n",
    "X_test_m7['sqft_living'] = scaled_columns_test['sqft_living']\n",
    "print(multi7_reg.score(X_test_m7, y_test_m7))\n",
    "\n",
    "y_hat_train_m7 = multi7_reg.predict(X_train_m7)\n",
    "y_hat_test_m7 = multi7_reg.predict(X_test_m7)\n",
    "train_mse_m7 = mean_squared_error(y_train_m7, y_hat_train_m7)\n",
    "test_mse_m7 = mean_squared_error(y_test_m7, y_hat_test_m7)\n",
    "print('Train Mean Squarred Error:', train_mse_m7)\n",
    "print('Test Mean Squarred Error:', test_mse_m7)"
   ]
  },
  {
   "cell_type": "markdown",
   "metadata": {},
   "source": [
    "#### Model 8"
   ]
  },
  {
   "cell_type": "code",
   "execution_count": 36,
   "metadata": {},
   "outputs": [
    {
     "name": "stderr",
     "output_type": "stream",
     "text": [
      "<ipython-input-36-6445b355ff10>:19: SettingWithCopyWarning: \n",
      "A value is trying to be set on a copy of a slice from a DataFrame.\n",
      "Try using .loc[row_indexer,col_indexer] = value instead\n",
      "\n",
      "See the caveats in the documentation: https://pandas.pydata.org/pandas-docs/stable/user_guide/indexing.html#returning-a-view-versus-a-copy\n",
      "  X_train_m8['sqft_living'] = scaled_columns['sqft_living']\n"
     ]
    },
    {
     "name": "stdout",
     "output_type": "stream",
     "text": [
      "0.8589182350078248\n",
      "0.8553942160170456\n",
      "Train Mean Squarred Error: 10976307622.86819\n",
      "Test Mean Squarred Error: 11140031445.905542\n",
      "Test RMSE:  105546.34738305984\n"
     ]
    },
    {
     "name": "stderr",
     "output_type": "stream",
     "text": [
      "<ipython-input-36-6445b355ff10>:30: SettingWithCopyWarning: \n",
      "A value is trying to be set on a copy of a slice from a DataFrame.\n",
      "Try using .loc[row_indexer,col_indexer] = value instead\n",
      "\n",
      "See the caveats in the documentation: https://pandas.pydata.org/pandas-docs/stable/user_guide/indexing.html#returning-a-view-versus-a-copy\n",
      "  X_test_m8['sqft_living'] = scaled_columns_test['sqft_living']\n"
     ]
    }
   ],
   "source": [
    "# Above Steps repeated with different combinations of housing features to see if it improves our model\n",
    "# Multiple Linear Regression Model number 8\n",
    "\n",
    "multi_model_8 = pd.concat([housing_pred_final['log_price'], housing_pred_final['sqft_living'], housing_pred_final['waterfront'],\n",
    "                           housing_pred_final['Basement'], zipcode_encoded_ohe, view_encoded_ohe, \n",
    "                           cond_encoded_ohe, floors_encoded_ohe, bathrooms_encoded_ohe, bedrooms_encoded_ohe, grade_num_encoded_ohe], axis = 1)\n",
    "X_multi8 = multi_model_8.drop('log_price', axis = 1)\n",
    "y_multi8 = multi_model_8['log_price']\n",
    "\n",
    "X_train_m8, X_test_m8, y_train_m8, y_test_m8 = train_test_split(X_multi8, y_multi8, test_size=0.2, random_state=42)\n",
    "\n",
    "# Scaling sqft_living(standardscaler)\n",
    "cols_scale = ['sqft_living']\n",
    "scaler = StandardScaler()\n",
    "scaled_fit = scaler.fit(X_train_m8[cols_scale])\n",
    "scaled_columns = scaled_fit.transform(X_train_m8[cols_scale])\n",
    "scaled_columns = pd.DataFrame(scaled_columns, index = X_train_m8.index)\n",
    "scaled_columns.columns = cols_scale\n",
    "X_train_m8['sqft_living'] = scaled_columns['sqft_living']\n",
    "\n",
    "multi8_reg = LinearRegression()\n",
    "multi8_reg.fit(X_train_m8, y_train_m8)\n",
    "print(multi8_reg.score(X_train_m8, y_train_m8))\n",
    "\n",
    "# Scaling test set\n",
    "scale_test = X_test_m8[cols_scale]\n",
    "scaled_columns_test = scaled_fit.transform(scale_test)\n",
    "scaled_columns_test = pd.DataFrame(scaled_columns_test, index = X_test_m8.index)\n",
    "scaled_columns_test.columns = cols_scale\n",
    "X_test_m8['sqft_living'] = scaled_columns_test['sqft_living']\n",
    "print(multi8_reg.score(X_test_m8, y_test_m8))\n",
    "\n",
    "y_hat_train_m8 = np.exp(multi8_reg.predict(X_train_m8))\n",
    "y_hat_test_m8 = np.exp(multi8_reg.predict(X_test_m8))\n",
    "train_mse_m8 = mean_squared_error(np.exp(y_train_m8), y_hat_train_m8)\n",
    "test_mse_m8 = mean_squared_error(np.exp(y_test_m8), y_hat_test_m8)\n",
    "test_rmse_m8 = np.sqrt(test_mse_m8)\n",
    "print('Train Mean Squarred Error:', train_mse_m8)\n",
    "print('Test Mean Squarred Error:', test_mse_m8)\n",
    "print('Test RMSE: ', test_rmse_m8)"
   ]
  },
  {
   "cell_type": "code",
   "execution_count": 37,
   "metadata": {},
   "outputs": [
    {
     "data": {
      "image/png": "[encoded data removed]",
      "text/plain": [
       "<Figure size 600x400 with 1 Axes>"
      ]
     },
     "metadata": {},
     "output_type": "display_data"
    }
   ],
   "source": [
    "y_pred = np.exp(multi8_reg.predict(X_test_m8))\n",
    "y_act = np.exp(y_test_m8)\n",
    "act_fig, ax = plt.subplots(dpi=100)\n",
    "sns.set_style(\"dark\")\n",
    "ax.scatter(y_pred, y_act, s = 2)\n",
    "ax.plot([y_act.min(), y_act.max()], [y_act.min(), y_act.max()], 'k--', lw=1)\n",
    "ax.set_xlabel('Predicted')\n",
    "ax.set_ylabel('Actual')\n",
    "plt.title('Actual vs. Predicted')\n",
    "ax.ticklabel_format(style='plain')\n",
    "plt.savefig('images/act_fig.png', bbox_inches = 'tight');"
   ]
  },
  {
   "cell_type": "code",
   "execution_count": 38,
   "metadata": {
    "scrolled": true
   },
   "outputs": [],
   "source": [
    "regression_score = pd.DataFrame(index=['Simple', 'M-1', 'M-3', 'M-6', 'M-8'], columns=['test R^2'])\n",
    "regression_score['test R^2'] = [simple_reg.score(X_test_s, y_test_s),\n",
    "                                multi1_reg.score(X_test_m1, y_test_m1),\n",
    "                                multi3_reg.score(X_test_m3, y_test_m3),\n",
    "                                multi6_reg.score(X_test_m6, y_test_m6),\n",
    "                                multi8_reg.score(X_test_m8, y_test_m8)]"
   ]
  },
  {
   "cell_type": "code",
   "execution_count": 39,
   "metadata": {
    "scrolled": true
   },
   "outputs": [
    {
     "data": {
      "image/png": "[encoded data removed]",
      "text/plain": [
       "<Figure size 720x432 with 1 Axes>"
      ]
     },
     "metadata": {},
     "output_type": "display_data"
    }
   ],
   "source": [
    "model_score_fig, ax = plt.subplots(figsize=(10,6))\n",
    "sns.set_style(\"dark\")\n",
    "\n",
    "ax.bar(regression_score.index, regression_score['test R^2'], color=[\"red\", \"grey\", \"grey\", \"grey\", \"darkblue\"])\n",
    "plt.title('Model Progression', size=20)\n",
    "plt.xlabel('Model Iteration', size=15)\n",
    "plt.ylabel('Test R^2', size=15)\n",
    "plt.savefig('images/model_prog.png', bbox_inches = 'tight');"
   ]
  },
  {
   "cell_type": "markdown",
   "metadata": {},
   "source": [
    "**Final Observations & Insights:**\n",
    "<ul>\n",
    "</ul>\n",
    "As mentioned above, we transformed our price into logarithmic scale before splitting our data up into training and testing data. After we splitted up the data, we further scaled our square feet values using sklearn StandardScaler to create a more reliable regression model. As a result it has both increased our strength and reduced errors associated with our model. From our baseline dummy regressor model, we created our first simple linear regression model using sqft_living and price. Then we tried out numerous combinations of housing features to determine the best combinations that would yield highest R-squared value in our testing data. As we progressed from one model to next, we were able to both target bias and variance by increasing the R-squared value as well as decreasing the difference between training score and test score.\n",
    "<br/>  <br/>  The final multiple regression model 8 contains the following features: 1)sqft_living 2)waterfront 3)basement 4)zipcode 5)view 6)condition 7)floors 8)bathrooms 9)bedrooms 10)grade.\n",
    "Note that this is our predictive model that combines majority of the features to predict the best price. The RMSE came out to be $105546.35 which is still a large error. Our model performs better at a lower price value, but as the price increases, it seems to perform poorly. "
   ]
  },
  {
   "cell_type": "markdown",
   "metadata": {},
   "source": [
    "----"
   ]
  },
  {
   "cell_type": "markdown",
   "metadata": {},
   "source": [
    "# Inferential Model Results"
   ]
  },
  {
   "cell_type": "code",
   "execution_count": 40,
   "metadata": {},
   "outputs": [],
   "source": [
    "formula = 'price ~ sqft_living + waterfront + C(zipcode) + C(view)'\n",
    "\n",
    "model_ols = ols(formula=formula, data=housing_pred).fit()"
   ]
  },
  {
   "cell_type": "code",
   "execution_count": 41,
   "metadata": {
    "scrolled": false
   },
   "outputs": [
    {
     "data": {
      "text/html": [
       "<table class=\"simpletable\">\n",
       "<caption>OLS Regression Results</caption>\n",
       "<tr>\n",
       "  <th>Dep. Variable:</th>          <td>price</td>      <th>  R-squared:         </th>  <td>   0.781</td>  \n",
       "</tr>\n",
       "<tr>\n",
       "  <th>Model:</th>                   <td>OLS</td>       <th>  Adj. R-squared:    </th>  <td>   0.780</td>  \n",
       "</tr>\n",
       "<tr>\n",
       "  <th>Method:</th>             <td>Least Squares</td>  <th>  F-statistic:       </th>  <td>   898.1</td>  \n",
       "</tr>\n",
       "<tr>\n",
       "  <th>Date:</th>             <td>Fri, 19 Nov 2021</td> <th>  Prob (F-statistic):</th>   <td>  0.00</td>   \n",
       "</tr>\n",
       "<tr>\n",
       "  <th>Time:</th>                 <td>12:29:02</td>     <th>  Log-Likelihood:    </th> <td>-2.4960e+05</td>\n",
       "</tr>\n",
       "<tr>\n",
       "  <th>No. Observations:</th>      <td> 18982</td>      <th>  AIC:               </th>  <td>4.994e+05</td> \n",
       "</tr>\n",
       "<tr>\n",
       "  <th>Df Residuals:</th>          <td> 18906</td>      <th>  BIC:               </th>  <td>5.000e+05</td> \n",
       "</tr>\n",
       "<tr>\n",
       "  <th>Df Model:</th>              <td>    75</td>      <th>                     </th>      <td> </td>     \n",
       "</tr>\n",
       "<tr>\n",
       "  <th>Covariance Type:</th>      <td>nonrobust</td>    <th>                     </th>      <td> </td>     \n",
       "</tr>\n",
       "</table>\n",
       "<table class=\"simpletable\">\n",
       "<tr>\n",
       "            <td></td>              <th>coef</th>     <th>std err</th>      <th>t</th>      <th>P>|t|</th>  <th>[0.025</th>    <th>0.975]</th>  \n",
       "</tr>\n",
       "<tr>\n",
       "  <th>Intercept</th>            <td> 2.424e+04</td> <td> 8835.288</td> <td>    2.743</td> <td> 0.006</td> <td> 6921.034</td> <td> 4.16e+04</td>\n",
       "</tr>\n",
       "<tr>\n",
       "  <th>C(zipcode)[T.98002]</th>  <td> 8405.8331</td> <td> 1.16e+04</td> <td>    0.724</td> <td> 0.469</td> <td>-1.44e+04</td> <td> 3.12e+04</td>\n",
       "</tr>\n",
       "<tr>\n",
       "  <th>C(zipcode)[T.98003]</th>  <td> 7032.6987</td> <td> 1.02e+04</td> <td>    0.690</td> <td> 0.490</td> <td>-1.29e+04</td> <td>  2.7e+04</td>\n",
       "</tr>\n",
       "<tr>\n",
       "  <th>C(zipcode)[T.98004]</th>  <td> 7.371e+05</td> <td> 1.04e+04</td> <td>   70.965</td> <td> 0.000</td> <td> 7.17e+05</td> <td> 7.57e+05</td>\n",
       "</tr>\n",
       "<tr>\n",
       "  <th>C(zipcode)[T.98005]</th>  <td>  3.73e+05</td> <td> 1.23e+04</td> <td>   30.364</td> <td> 0.000</td> <td> 3.49e+05</td> <td> 3.97e+05</td>\n",
       "</tr>\n",
       "<tr>\n",
       "  <th>C(zipcode)[T.98006]</th>  <td> 3.212e+05</td> <td> 9217.764</td> <td>   34.846</td> <td> 0.000</td> <td> 3.03e+05</td> <td> 3.39e+05</td>\n",
       "</tr>\n",
       "<tr>\n",
       "  <th>C(zipcode)[T.98007]</th>  <td> 2.858e+05</td> <td> 1.26e+04</td> <td>   22.630</td> <td> 0.000</td> <td> 2.61e+05</td> <td> 3.11e+05</td>\n",
       "</tr>\n",
       "<tr>\n",
       "  <th>C(zipcode)[T.98008]</th>  <td> 2.578e+05</td> <td> 1.01e+04</td> <td>   25.432</td> <td> 0.000</td> <td> 2.38e+05</td> <td> 2.78e+05</td>\n",
       "</tr>\n",
       "<tr>\n",
       "  <th>C(zipcode)[T.98010]</th>  <td> 1.042e+05</td> <td> 1.49e+04</td> <td>    6.981</td> <td> 0.000</td> <td> 7.49e+04</td> <td> 1.33e+05</td>\n",
       "</tr>\n",
       "<tr>\n",
       "  <th>C(zipcode)[T.98011]</th>  <td> 1.459e+05</td> <td> 1.14e+04</td> <td>   12.790</td> <td> 0.000</td> <td> 1.24e+05</td> <td> 1.68e+05</td>\n",
       "</tr>\n",
       "<tr>\n",
       "  <th>C(zipcode)[T.98014]</th>  <td> 1.181e+05</td> <td>  1.4e+04</td> <td>    8.417</td> <td> 0.000</td> <td> 9.06e+04</td> <td> 1.46e+05</td>\n",
       "</tr>\n",
       "<tr>\n",
       "  <th>C(zipcode)[T.98019]</th>  <td> 1.023e+05</td> <td> 1.15e+04</td> <td>    8.885</td> <td> 0.000</td> <td> 7.97e+04</td> <td> 1.25e+05</td>\n",
       "</tr>\n",
       "<tr>\n",
       "  <th>C(zipcode)[T.98022]</th>  <td> 1.918e+04</td> <td> 1.09e+04</td> <td>    1.754</td> <td> 0.079</td> <td>-2250.011</td> <td> 4.06e+04</td>\n",
       "</tr>\n",
       "<tr>\n",
       "  <th>C(zipcode)[T.98023]</th>  <td>-1.224e+04</td> <td> 8894.980</td> <td>   -1.376</td> <td> 0.169</td> <td>-2.97e+04</td> <td> 5196.997</td>\n",
       "</tr>\n",
       "<tr>\n",
       "  <th>C(zipcode)[T.98024]</th>  <td> 1.828e+05</td> <td> 1.71e+04</td> <td>   10.687</td> <td> 0.000</td> <td> 1.49e+05</td> <td> 2.16e+05</td>\n",
       "</tr>\n",
       "<tr>\n",
       "  <th>C(zipcode)[T.98027]</th>  <td> 2.086e+05</td> <td> 9460.041</td> <td>   22.047</td> <td> 0.000</td> <td>  1.9e+05</td> <td> 2.27e+05</td>\n",
       "</tr>\n",
       "<tr>\n",
       "  <th>C(zipcode)[T.98028]</th>  <td> 1.357e+05</td> <td> 1.02e+04</td> <td>   13.354</td> <td> 0.000</td> <td> 1.16e+05</td> <td> 1.56e+05</td>\n",
       "</tr>\n",
       "<tr>\n",
       "  <th>C(zipcode)[T.98029]</th>  <td> 2.588e+05</td> <td>    1e+04</td> <td>   25.828</td> <td> 0.000</td> <td> 2.39e+05</td> <td> 2.78e+05</td>\n",
       "</tr>\n",
       "<tr>\n",
       "  <th>C(zipcode)[T.98030]</th>  <td> 9741.7481</td> <td> 1.05e+04</td> <td>    0.925</td> <td> 0.355</td> <td>-1.09e+04</td> <td> 3.04e+04</td>\n",
       "</tr>\n",
       "<tr>\n",
       "  <th>C(zipcode)[T.98031]</th>  <td> 2.083e+04</td> <td> 1.02e+04</td> <td>    2.036</td> <td> 0.042</td> <td>  773.668</td> <td> 4.09e+04</td>\n",
       "</tr>\n",
       "<tr>\n",
       "  <th>C(zipcode)[T.98032]</th>  <td>   24.6938</td> <td> 1.34e+04</td> <td>    0.002</td> <td> 0.999</td> <td>-2.62e+04</td> <td> 2.62e+04</td>\n",
       "</tr>\n",
       "<tr>\n",
       "  <th>C(zipcode)[T.98033]</th>  <td> 3.748e+05</td> <td> 9345.353</td> <td>   40.101</td> <td> 0.000</td> <td> 3.56e+05</td> <td> 3.93e+05</td>\n",
       "</tr>\n",
       "<tr>\n",
       "  <th>C(zipcode)[T.98034]</th>  <td> 2.033e+05</td> <td> 8728.875</td> <td>   23.292</td> <td> 0.000</td> <td> 1.86e+05</td> <td>  2.2e+05</td>\n",
       "</tr>\n",
       "<tr>\n",
       "  <th>C(zipcode)[T.98038]</th>  <td> 4.528e+04</td> <td> 8610.397</td> <td>    5.259</td> <td> 0.000</td> <td> 2.84e+04</td> <td> 6.22e+04</td>\n",
       "</tr>\n",
       "<tr>\n",
       "  <th>C(zipcode)[T.98039]</th>  <td> 1.057e+06</td> <td> 2.45e+04</td> <td>   43.060</td> <td> 0.000</td> <td> 1.01e+06</td> <td> 1.11e+06</td>\n",
       "</tr>\n",
       "<tr>\n",
       "  <th>C(zipcode)[T.98040]</th>  <td> 5.642e+05</td> <td> 1.09e+04</td> <td>   51.838</td> <td> 0.000</td> <td> 5.43e+05</td> <td> 5.86e+05</td>\n",
       "</tr>\n",
       "<tr>\n",
       "  <th>C(zipcode)[T.98042]</th>  <td> 2.056e+04</td> <td> 8699.238</td> <td>    2.364</td> <td> 0.018</td> <td> 3511.995</td> <td> 3.76e+04</td>\n",
       "</tr>\n",
       "<tr>\n",
       "  <th>C(zipcode)[T.98045]</th>  <td> 1.204e+05</td> <td> 1.11e+04</td> <td>   10.874</td> <td> 0.000</td> <td> 9.87e+04</td> <td> 1.42e+05</td>\n",
       "</tr>\n",
       "<tr>\n",
       "  <th>C(zipcode)[T.98052]</th>  <td> 2.762e+05</td> <td> 8715.549</td> <td>   31.695</td> <td> 0.000</td> <td> 2.59e+05</td> <td> 2.93e+05</td>\n",
       "</tr>\n",
       "<tr>\n",
       "  <th>C(zipcode)[T.98053]</th>  <td> 2.559e+05</td> <td> 9490.779</td> <td>   26.959</td> <td> 0.000</td> <td> 2.37e+05</td> <td> 2.74e+05</td>\n",
       "</tr>\n",
       "<tr>\n",
       "  <th>C(zipcode)[T.98055]</th>  <td> 3.868e+04</td> <td> 1.06e+04</td> <td>    3.661</td> <td> 0.000</td> <td>  1.8e+04</td> <td> 5.94e+04</td>\n",
       "</tr>\n",
       "<tr>\n",
       "  <th>C(zipcode)[T.98056]</th>  <td>  1.09e+05</td> <td> 9491.426</td> <td>   11.484</td> <td> 0.000</td> <td> 9.04e+04</td> <td> 1.28e+05</td>\n",
       "</tr>\n",
       "<tr>\n",
       "  <th>C(zipcode)[T.98058]</th>  <td> 5.037e+04</td> <td> 9062.695</td> <td>    5.558</td> <td> 0.000</td> <td> 3.26e+04</td> <td> 6.81e+04</td>\n",
       "</tr>\n",
       "<tr>\n",
       "  <th>C(zipcode)[T.98059]</th>  <td> 1.031e+05</td> <td> 9223.888</td> <td>   11.173</td> <td> 0.000</td> <td>  8.5e+04</td> <td> 1.21e+05</td>\n",
       "</tr>\n",
       "<tr>\n",
       "  <th>C(zipcode)[T.98065]</th>  <td> 1.158e+05</td> <td> 1.03e+04</td> <td>   11.290</td> <td> 0.000</td> <td> 9.57e+04</td> <td> 1.36e+05</td>\n",
       "</tr>\n",
       "<tr>\n",
       "  <th>C(zipcode)[T.98070]</th>  <td> 8.704e+04</td> <td> 1.44e+04</td> <td>    6.031</td> <td> 0.000</td> <td> 5.88e+04</td> <td> 1.15e+05</td>\n",
       "</tr>\n",
       "<tr>\n",
       "  <th>C(zipcode)[T.98072]</th>  <td> 2.055e+05</td> <td> 1.03e+04</td> <td>   19.887</td> <td> 0.000</td> <td> 1.85e+05</td> <td> 2.26e+05</td>\n",
       "</tr>\n",
       "<tr>\n",
       "  <th>C(zipcode)[T.98074]</th>  <td> 2.493e+05</td> <td> 9356.688</td> <td>   26.646</td> <td> 0.000</td> <td> 2.31e+05</td> <td> 2.68e+05</td>\n",
       "</tr>\n",
       "<tr>\n",
       "  <th>C(zipcode)[T.98075]</th>  <td> 2.628e+05</td> <td> 9972.974</td> <td>   26.352</td> <td> 0.000</td> <td> 2.43e+05</td> <td> 2.82e+05</td>\n",
       "</tr>\n",
       "<tr>\n",
       "  <th>C(zipcode)[T.98077]</th>  <td> 2.181e+05</td> <td> 1.19e+04</td> <td>   18.309</td> <td> 0.000</td> <td> 1.95e+05</td> <td> 2.41e+05</td>\n",
       "</tr>\n",
       "<tr>\n",
       "  <th>C(zipcode)[T.98092]</th>  <td>  450.5221</td> <td> 9749.546</td> <td>    0.046</td> <td> 0.963</td> <td>-1.87e+04</td> <td> 1.96e+04</td>\n",
       "</tr>\n",
       "<tr>\n",
       "  <th>C(zipcode)[T.98102]</th>  <td>  4.93e+05</td> <td> 1.64e+04</td> <td>   30.126</td> <td> 0.000</td> <td> 4.61e+05</td> <td> 5.25e+05</td>\n",
       "</tr>\n",
       "<tr>\n",
       "  <th>C(zipcode)[T.98103]</th>  <td> 3.406e+05</td> <td> 8826.653</td> <td>   38.593</td> <td> 0.000</td> <td> 3.23e+05</td> <td> 3.58e+05</td>\n",
       "</tr>\n",
       "<tr>\n",
       "  <th>C(zipcode)[T.98105]</th>  <td> 5.002e+05</td> <td> 1.11e+04</td> <td>   44.867</td> <td> 0.000</td> <td> 4.78e+05</td> <td> 5.22e+05</td>\n",
       "</tr>\n",
       "<tr>\n",
       "  <th>C(zipcode)[T.98106]</th>  <td> 1.118e+05</td> <td> 1.01e+04</td> <td>   11.072</td> <td> 0.000</td> <td>  9.2e+04</td> <td> 1.32e+05</td>\n",
       "</tr>\n",
       "<tr>\n",
       "  <th>C(zipcode)[T.98107]</th>  <td>  3.34e+05</td> <td> 1.11e+04</td> <td>   30.086</td> <td> 0.000</td> <td> 3.12e+05</td> <td> 3.56e+05</td>\n",
       "</tr>\n",
       "<tr>\n",
       "  <th>C(zipcode)[T.98108]</th>  <td> 1.063e+05</td> <td> 1.22e+04</td> <td>    8.693</td> <td> 0.000</td> <td> 8.24e+04</td> <td>  1.3e+05</td>\n",
       "</tr>\n",
       "<tr>\n",
       "  <th>C(zipcode)[T.98109]</th>  <td> 4.942e+05</td> <td> 1.53e+04</td> <td>   32.332</td> <td> 0.000</td> <td> 4.64e+05</td> <td> 5.24e+05</td>\n",
       "</tr>\n",
       "<tr>\n",
       "  <th>C(zipcode)[T.98112]</th>  <td> 6.171e+05</td> <td> 1.14e+04</td> <td>   54.166</td> <td> 0.000</td> <td> 5.95e+05</td> <td> 6.39e+05</td>\n",
       "</tr>\n",
       "<tr>\n",
       "  <th>C(zipcode)[T.98115]</th>  <td> 3.414e+05</td> <td> 8683.473</td> <td>   39.318</td> <td> 0.000</td> <td> 3.24e+05</td> <td> 3.58e+05</td>\n",
       "</tr>\n",
       "<tr>\n",
       "  <th>C(zipcode)[T.98116]</th>  <td>  3.03e+05</td> <td> 9989.859</td> <td>   30.334</td> <td> 0.000</td> <td> 2.83e+05</td> <td> 3.23e+05</td>\n",
       "</tr>\n",
       "<tr>\n",
       "  <th>C(zipcode)[T.98117]</th>  <td> 3.272e+05</td> <td> 8888.849</td> <td>   36.815</td> <td> 0.000</td> <td>  3.1e+05</td> <td> 3.45e+05</td>\n",
       "</tr>\n",
       "<tr>\n",
       "  <th>C(zipcode)[T.98118]</th>  <td>  1.59e+05</td> <td> 9192.020</td> <td>   17.300</td> <td> 0.000</td> <td> 1.41e+05</td> <td> 1.77e+05</td>\n",
       "</tr>\n",
       "<tr>\n",
       "  <th>C(zipcode)[T.98119]</th>  <td>  4.95e+05</td> <td> 1.25e+04</td> <td>   39.653</td> <td> 0.000</td> <td> 4.71e+05</td> <td> 5.19e+05</td>\n",
       "</tr>\n",
       "<tr>\n",
       "  <th>C(zipcode)[T.98122]</th>  <td> 3.764e+05</td> <td> 1.15e+04</td> <td>   32.708</td> <td> 0.000</td> <td> 3.54e+05</td> <td> 3.99e+05</td>\n",
       "</tr>\n",
       "<tr>\n",
       "  <th>C(zipcode)[T.98125]</th>  <td> 1.995e+05</td> <td> 9312.974</td> <td>   21.423</td> <td> 0.000</td> <td> 1.81e+05</td> <td> 2.18e+05</td>\n",
       "</tr>\n",
       "<tr>\n",
       "  <th>C(zipcode)[T.98126]</th>  <td> 1.909e+05</td> <td> 9924.272</td> <td>   19.233</td> <td> 0.000</td> <td> 1.71e+05</td> <td>  2.1e+05</td>\n",
       "</tr>\n",
       "<tr>\n",
       "  <th>C(zipcode)[T.98133]</th>  <td> 1.617e+05</td> <td> 8912.838</td> <td>   18.137</td> <td> 0.000</td> <td> 1.44e+05</td> <td> 1.79e+05</td>\n",
       "</tr>\n",
       "<tr>\n",
       "  <th>C(zipcode)[T.98136]</th>  <td> 2.575e+05</td> <td> 1.07e+04</td> <td>   24.113</td> <td> 0.000</td> <td> 2.37e+05</td> <td> 2.78e+05</td>\n",
       "</tr>\n",
       "<tr>\n",
       "  <th>C(zipcode)[T.98144]</th>  <td> 2.642e+05</td> <td> 1.02e+04</td> <td>   25.842</td> <td> 0.000</td> <td> 2.44e+05</td> <td> 2.84e+05</td>\n",
       "</tr>\n",
       "<tr>\n",
       "  <th>C(zipcode)[T.98146]</th>  <td> 9.587e+04</td> <td> 1.05e+04</td> <td>    9.164</td> <td> 0.000</td> <td> 7.54e+04</td> <td> 1.16e+05</td>\n",
       "</tr>\n",
       "<tr>\n",
       "  <th>C(zipcode)[T.98148]</th>  <td> 5.531e+04</td> <td> 1.89e+04</td> <td>    2.929</td> <td> 0.003</td> <td> 1.83e+04</td> <td> 9.23e+04</td>\n",
       "</tr>\n",
       "<tr>\n",
       "  <th>C(zipcode)[T.98155]</th>  <td> 1.476e+05</td> <td> 9188.671</td> <td>   16.060</td> <td> 0.000</td> <td>  1.3e+05</td> <td> 1.66e+05</td>\n",
       "</tr>\n",
       "<tr>\n",
       "  <th>C(zipcode)[T.98166]</th>  <td> 8.645e+04</td> <td> 1.08e+04</td> <td>    7.996</td> <td> 0.000</td> <td> 6.53e+04</td> <td> 1.08e+05</td>\n",
       "</tr>\n",
       "<tr>\n",
       "  <th>C(zipcode)[T.98168]</th>  <td>  3.78e+04</td> <td> 1.08e+04</td> <td>    3.510</td> <td> 0.000</td> <td> 1.67e+04</td> <td> 5.89e+04</td>\n",
       "</tr>\n",
       "<tr>\n",
       "  <th>C(zipcode)[T.98177]</th>  <td> 2.346e+05</td> <td> 1.07e+04</td> <td>   21.983</td> <td> 0.000</td> <td> 2.14e+05</td> <td> 2.55e+05</td>\n",
       "</tr>\n",
       "<tr>\n",
       "  <th>C(zipcode)[T.98178]</th>  <td> 1.214e+04</td> <td> 1.06e+04</td> <td>    1.142</td> <td> 0.254</td> <td>-8705.160</td> <td>  3.3e+04</td>\n",
       "</tr>\n",
       "<tr>\n",
       "  <th>C(zipcode)[T.98188]</th>  <td> 2.073e+04</td> <td> 1.32e+04</td> <td>    1.565</td> <td> 0.118</td> <td>-5233.832</td> <td> 4.67e+04</td>\n",
       "</tr>\n",
       "<tr>\n",
       "  <th>C(zipcode)[T.98198]</th>  <td> 3967.3227</td> <td> 1.03e+04</td> <td>    0.385</td> <td> 0.700</td> <td>-1.62e+04</td> <td> 2.42e+04</td>\n",
       "</tr>\n",
       "<tr>\n",
       "  <th>C(zipcode)[T.98199]</th>  <td> 4.055e+05</td> <td> 1.01e+04</td> <td>   39.974</td> <td> 0.000</td> <td> 3.86e+05</td> <td> 4.25e+05</td>\n",
       "</tr>\n",
       "<tr>\n",
       "  <th>C(view)[T.EXCELLENT]</th> <td> 2.696e+05</td> <td>  1.1e+04</td> <td>   24.523</td> <td> 0.000</td> <td> 2.48e+05</td> <td> 2.91e+05</td>\n",
       "</tr>\n",
       "<tr>\n",
       "  <th>C(view)[T.FAIR]</th>      <td>-5143.1017</td> <td> 8694.227</td> <td>   -0.592</td> <td> 0.554</td> <td>-2.22e+04</td> <td> 1.19e+04</td>\n",
       "</tr>\n",
       "<tr>\n",
       "  <th>C(view)[T.GOOD]</th>      <td> 9.309e+04</td> <td> 7697.744</td> <td>   12.093</td> <td> 0.000</td> <td>  7.8e+04</td> <td> 1.08e+05</td>\n",
       "</tr>\n",
       "<tr>\n",
       "  <th>C(view)[T.NONE]</th>      <td>-9.101e+04</td> <td> 4670.505</td> <td>  -19.486</td> <td> 0.000</td> <td>   -1e+05</td> <td>-8.19e+04</td>\n",
       "</tr>\n",
       "<tr>\n",
       "  <th>sqft_living</th>          <td>  179.4199</td> <td>    1.408</td> <td>  127.388</td> <td> 0.000</td> <td>  176.659</td> <td>  182.181</td>\n",
       "</tr>\n",
       "<tr>\n",
       "  <th>waterfront</th>           <td> 3.794e+05</td> <td> 1.56e+04</td> <td>   24.274</td> <td> 0.000</td> <td> 3.49e+05</td> <td>  4.1e+05</td>\n",
       "</tr>\n",
       "</table>\n",
       "<table class=\"simpletable\">\n",
       "<tr>\n",
       "  <th>Omnibus:</th>       <td>9289.001</td> <th>  Durbin-Watson:     </th>  <td>   1.979</td> \n",
       "</tr>\n",
       "<tr>\n",
       "  <th>Prob(Omnibus):</th>  <td> 0.000</td>  <th>  Jarque-Bera (JB):  </th> <td>210092.216</td>\n",
       "</tr>\n",
       "<tr>\n",
       "  <th>Skew:</th>           <td> 1.847</td>  <th>  Prob(JB):          </th>  <td>    0.00</td> \n",
       "</tr>\n",
       "<tr>\n",
       "  <th>Kurtosis:</th>       <td>18.874</td>  <th>  Cond. No.          </th>  <td>1.36e+05</td> \n",
       "</tr>\n",
       "</table><br/><br/>Notes:<br/>[1] Standard Errors assume that the covariance matrix of the errors is correctly specified.<br/>[2] The condition number is large, 1.36e+05. This might indicate that there are<br/>strong multicollinearity or other numerical problems."
      ],
      "text/plain": [
       "<class 'statsmodels.iolib.summary.Summary'>\n",
       "\"\"\"\n",
       "                            OLS Regression Results                            \n",
       "==============================================================================\n",
       "Dep. Variable:                  price   R-squared:                       0.781\n",
       "Model:                            OLS   Adj. R-squared:                  0.780\n",
       "Method:                 Least Squares   F-statistic:                     898.1\n",
       "Date:                Fri, 19 Nov 2021   Prob (F-statistic):               0.00\n",
       "Time:                        12:29:02   Log-Likelihood:            -2.4960e+05\n",
       "No. Observations:               18982   AIC:                         4.994e+05\n",
       "Df Residuals:                   18906   BIC:                         5.000e+05\n",
       "Df Model:                          75                                         \n",
       "Covariance Type:            nonrobust                                         \n",
       "========================================================================================\n",
       "                           coef    std err          t      P>|t|      [0.025      0.975]\n",
       "----------------------------------------------------------------------------------------\n",
       "Intercept             2.424e+04   8835.288      2.743      0.006    6921.034    4.16e+04\n",
       "C(zipcode)[T.98002]   8405.8331   1.16e+04      0.724      0.469   -1.44e+04    3.12e+04\n",
       "C(zipcode)[T.98003]   7032.6987   1.02e+04      0.690      0.490   -1.29e+04     2.7e+04\n",
       "C(zipcode)[T.98004]   7.371e+05   1.04e+04     70.965      0.000    7.17e+05    7.57e+05\n",
       "C(zipcode)[T.98005]    3.73e+05   1.23e+04     30.364      0.000    3.49e+05    3.97e+05\n",
       "C(zipcode)[T.98006]   3.212e+05   9217.764     34.846      0.000    3.03e+05    3.39e+05\n",
       "C(zipcode)[T.98007]   2.858e+05   1.26e+04     22.630      0.000    2.61e+05    3.11e+05\n",
       "C(zipcode)[T.98008]   2.578e+05   1.01e+04     25.432      0.000    2.38e+05    2.78e+05\n",
       "C(zipcode)[T.98010]   1.042e+05   1.49e+04      6.981      0.000    7.49e+04    1.33e+05\n",
       "C(zipcode)[T.98011]   1.459e+05   1.14e+04     12.790      0.000    1.24e+05    1.68e+05\n",
       "C(zipcode)[T.98014]   1.181e+05    1.4e+04      8.417      0.000    9.06e+04    1.46e+05\n",
       "C(zipcode)[T.98019]   1.023e+05   1.15e+04      8.885      0.000    7.97e+04    1.25e+05\n",
       "C(zipcode)[T.98022]   1.918e+04   1.09e+04      1.754      0.079   -2250.011    4.06e+04\n",
       "C(zipcode)[T.98023]  -1.224e+04   8894.980     -1.376      0.169   -2.97e+04    5196.997\n",
       "C(zipcode)[T.98024]   1.828e+05   1.71e+04     10.687      0.000    1.49e+05    2.16e+05\n",
       "C(zipcode)[T.98027]   2.086e+05   9460.041     22.047      0.000     1.9e+05    2.27e+05\n",
       "C(zipcode)[T.98028]   1.357e+05   1.02e+04     13.354      0.000    1.16e+05    1.56e+05\n",
       "C(zipcode)[T.98029]   2.588e+05      1e+04     25.828      0.000    2.39e+05    2.78e+05\n",
       "C(zipcode)[T.98030]   9741.7481   1.05e+04      0.925      0.355   -1.09e+04    3.04e+04\n",
       "C(zipcode)[T.98031]   2.083e+04   1.02e+04      2.036      0.042     773.668    4.09e+04\n",
       "C(zipcode)[T.98032]     24.6938   1.34e+04      0.002      0.999   -2.62e+04    2.62e+04\n",
       "C(zipcode)[T.98033]   3.748e+05   9345.353     40.101      0.000    3.56e+05    3.93e+05\n",
       "C(zipcode)[T.98034]   2.033e+05   8728.875     23.292      0.000    1.86e+05     2.2e+05\n",
       "C(zipcode)[T.98038]   4.528e+04   8610.397      5.259      0.000    2.84e+04    6.22e+04\n",
       "C(zipcode)[T.98039]   1.057e+06   2.45e+04     43.060      0.000    1.01e+06    1.11e+06\n",
       "C(zipcode)[T.98040]   5.642e+05   1.09e+04     51.838      0.000    5.43e+05    5.86e+05\n",
       "C(zipcode)[T.98042]   2.056e+04   8699.238      2.364      0.018    3511.995    3.76e+04\n",
       "C(zipcode)[T.98045]   1.204e+05   1.11e+04     10.874      0.000    9.87e+04    1.42e+05\n",
       "C(zipcode)[T.98052]   2.762e+05   8715.549     31.695      0.000    2.59e+05    2.93e+05\n",
       "C(zipcode)[T.98053]   2.559e+05   9490.779     26.959      0.000    2.37e+05    2.74e+05\n",
       "C(zipcode)[T.98055]   3.868e+04   1.06e+04      3.661      0.000     1.8e+04    5.94e+04\n",
       "C(zipcode)[T.98056]    1.09e+05   9491.426     11.484      0.000    9.04e+04    1.28e+05\n",
       "C(zipcode)[T.98058]   5.037e+04   9062.695      5.558      0.000    3.26e+04    6.81e+04\n",
       "C(zipcode)[T.98059]   1.031e+05   9223.888     11.173      0.000     8.5e+04    1.21e+05\n",
       "C(zipcode)[T.98065]   1.158e+05   1.03e+04     11.290      0.000    9.57e+04    1.36e+05\n",
       "C(zipcode)[T.98070]   8.704e+04   1.44e+04      6.031      0.000    5.88e+04    1.15e+05\n",
       "C(zipcode)[T.98072]   2.055e+05   1.03e+04     19.887      0.000    1.85e+05    2.26e+05\n",
       "C(zipcode)[T.98074]   2.493e+05   9356.688     26.646      0.000    2.31e+05    2.68e+05\n",
       "C(zipcode)[T.98075]   2.628e+05   9972.974     26.352      0.000    2.43e+05    2.82e+05\n",
       "C(zipcode)[T.98077]   2.181e+05   1.19e+04     18.309      0.000    1.95e+05    2.41e+05\n",
       "C(zipcode)[T.98092]    450.5221   9749.546      0.046      0.963   -1.87e+04    1.96e+04\n",
       "C(zipcode)[T.98102]    4.93e+05   1.64e+04     30.126      0.000    4.61e+05    5.25e+05\n",
       "C(zipcode)[T.98103]   3.406e+05   8826.653     38.593      0.000    3.23e+05    3.58e+05\n",
       "C(zipcode)[T.98105]   5.002e+05   1.11e+04     44.867      0.000    4.78e+05    5.22e+05\n",
       "C(zipcode)[T.98106]   1.118e+05   1.01e+04     11.072      0.000     9.2e+04    1.32e+05\n",
       "C(zipcode)[T.98107]    3.34e+05   1.11e+04     30.086      0.000    3.12e+05    3.56e+05\n",
       "C(zipcode)[T.98108]   1.063e+05   1.22e+04      8.693      0.000    8.24e+04     1.3e+05\n",
       "C(zipcode)[T.98109]   4.942e+05   1.53e+04     32.332      0.000    4.64e+05    5.24e+05\n",
       "C(zipcode)[T.98112]   6.171e+05   1.14e+04     54.166      0.000    5.95e+05    6.39e+05\n",
       "C(zipcode)[T.98115]   3.414e+05   8683.473     39.318      0.000    3.24e+05    3.58e+05\n",
       "C(zipcode)[T.98116]    3.03e+05   9989.859     30.334      0.000    2.83e+05    3.23e+05\n",
       "C(zipcode)[T.98117]   3.272e+05   8888.849     36.815      0.000     3.1e+05    3.45e+05\n",
       "C(zipcode)[T.98118]    1.59e+05   9192.020     17.300      0.000    1.41e+05    1.77e+05\n",
       "C(zipcode)[T.98119]    4.95e+05   1.25e+04     39.653      0.000    4.71e+05    5.19e+05\n",
       "C(zipcode)[T.98122]   3.764e+05   1.15e+04     32.708      0.000    3.54e+05    3.99e+05\n",
       "C(zipcode)[T.98125]   1.995e+05   9312.974     21.423      0.000    1.81e+05    2.18e+05\n",
       "C(zipcode)[T.98126]   1.909e+05   9924.272     19.233      0.000    1.71e+05     2.1e+05\n",
       "C(zipcode)[T.98133]   1.617e+05   8912.838     18.137      0.000    1.44e+05    1.79e+05\n",
       "C(zipcode)[T.98136]   2.575e+05   1.07e+04     24.113      0.000    2.37e+05    2.78e+05\n",
       "C(zipcode)[T.98144]   2.642e+05   1.02e+04     25.842      0.000    2.44e+05    2.84e+05\n",
       "C(zipcode)[T.98146]   9.587e+04   1.05e+04      9.164      0.000    7.54e+04    1.16e+05\n",
       "C(zipcode)[T.98148]   5.531e+04   1.89e+04      2.929      0.003    1.83e+04    9.23e+04\n",
       "C(zipcode)[T.98155]   1.476e+05   9188.671     16.060      0.000     1.3e+05    1.66e+05\n",
       "C(zipcode)[T.98166]   8.645e+04   1.08e+04      7.996      0.000    6.53e+04    1.08e+05\n",
       "C(zipcode)[T.98168]    3.78e+04   1.08e+04      3.510      0.000    1.67e+04    5.89e+04\n",
       "C(zipcode)[T.98177]   2.346e+05   1.07e+04     21.983      0.000    2.14e+05    2.55e+05\n",
       "C(zipcode)[T.98178]   1.214e+04   1.06e+04      1.142      0.254   -8705.160     3.3e+04\n",
       "C(zipcode)[T.98188]   2.073e+04   1.32e+04      1.565      0.118   -5233.832    4.67e+04\n",
       "C(zipcode)[T.98198]   3967.3227   1.03e+04      0.385      0.700   -1.62e+04    2.42e+04\n",
       "C(zipcode)[T.98199]   4.055e+05   1.01e+04     39.974      0.000    3.86e+05    4.25e+05\n",
       "C(view)[T.EXCELLENT]  2.696e+05    1.1e+04     24.523      0.000    2.48e+05    2.91e+05\n",
       "C(view)[T.FAIR]      -5143.1017   8694.227     -0.592      0.554   -2.22e+04    1.19e+04\n",
       "C(view)[T.GOOD]       9.309e+04   7697.744     12.093      0.000     7.8e+04    1.08e+05\n",
       "C(view)[T.NONE]      -9.101e+04   4670.505    -19.486      0.000      -1e+05   -8.19e+04\n",
       "sqft_living            179.4199      1.408    127.388      0.000     176.659     182.181\n",
       "waterfront            3.794e+05   1.56e+04     24.274      0.000    3.49e+05     4.1e+05\n",
       "==============================================================================\n",
       "Omnibus:                     9289.001   Durbin-Watson:                   1.979\n",
       "Prob(Omnibus):                  0.000   Jarque-Bera (JB):           210092.216\n",
       "Skew:                           1.847   Prob(JB):                         0.00\n",
       "Kurtosis:                      18.874   Cond. No.                     1.36e+05\n",
       "==============================================================================\n",
       "\n",
       "Notes:\n",
       "[1] Standard Errors assume that the covariance matrix of the errors is correctly specified.\n",
       "[2] The condition number is large, 1.36e+05. This might indicate that there are\n",
       "strong multicollinearity or other numerical problems.\n",
       "\"\"\""
      ]
     },
     "execution_count": 41,
     "metadata": {},
     "output_type": "execute_result"
    }
   ],
   "source": [
    "model_summary = model_ols.summary()\n",
    "model_summary"
   ]
  },
  {
   "cell_type": "code",
   "execution_count": 42,
   "metadata": {
    "scrolled": true
   },
   "outputs": [
    {
     "data": {
      "image/png": "[encoded data removed]",
      "text/plain": [
       "<Figure size 432x288 with 1 Axes>"
      ]
     },
     "metadata": {},
     "output_type": "display_data"
    }
   ],
   "source": [
    "sm.ProbPlot(model_ols.resid).qqplot(line='s');\n",
    "plt.title('Q-Q plot')\n",
    "plt.savefig('images/qqplot.png', bbox_inches = 'tight');"
   ]
  },
  {
   "cell_type": "code",
   "execution_count": null,
   "metadata": {},
   "outputs": [],
   "source": [
    "fitted_vals = model_ols.predict()\n",
    "resids = model_ols.resid\n",
    "resids_standardized = model_ols.get_influence().resid_studentized_internal\n",
    "\n",
    "fig, ax = plt.subplots(1,2)\n",
    "\n",
    "sns.regplot(x=fitted_vals, y=resids, lowess=True, ax=ax[0], line_kws={'color': 'red'})\n",
    "ax[0].set_title('Residuals vs Fitted', fontsize=16)\n",
    "ax[0].set(xlabel='Fitted Values', ylabel='Residuals')\n",
    "\n",
    "sns.regplot(x=fitted_vals, y=np.sqrt(np.abs(resids_standardized)), lowess=True, ax=ax[1], line_kws={'color': 'red'})\n",
    "ax[1].set_title('Scale-Location', fontsize=16)\n",
    "ax[1].set(xlabel='Fitted Values', ylabel='sqrt(abs(Residuals))')\n",
    "plt.savefig('images/regplot.png', bbox_inches = 'tight');"
   ]
  },
  {
   "cell_type": "code",
   "execution_count": null,
   "metadata": {},
   "outputs": [],
   "source": [
    "wtr_df = housing_ols.groupby(by = 'waterfront').mean().reset_index()"
   ]
  },
  {
   "cell_type": "code",
   "execution_count": null,
   "metadata": {},
   "outputs": [],
   "source": [
    "wtr_fig, ax = plt.subplots(figsize=(10,6))\n",
    "sns.set_style(\"dark\")\n",
    "\n",
    "plt.bar(wtr_df['waterfront'], wtr_df['price'], color = 'darkblue')\n",
    "plt.xlabel('Waterfront(No/Yes)', size=15)\n",
    "plt.ylabel('Average Price', size=15)\n",
    "plt.title('Presence of Waterfront', size=20)\n",
    "ax.ticklabel_format(style='plain', axis = 'y')\n",
    "plt.savefig('images/wtr_fig.png', bbox_inches = 'tight');"
   ]
  },
  {
   "cell_type": "code",
   "execution_count": null,
   "metadata": {},
   "outputs": [],
   "source": [
    "view_df = housing_ols.groupby(by = 'view').mean().reset_index()\n",
    "view_df.sort_values(by = 'price', ascending = True, inplace = True)"
   ]
  },
  {
   "cell_type": "code",
   "execution_count": null,
   "metadata": {
    "scrolled": true
   },
   "outputs": [],
   "source": [
    "view_fig, ax = plt.subplots(figsize=(10,6))\n",
    "sns.set_style(\"dark\")\n",
    "color = ['darkblue', 'red', 'grey', 'darkblue', 'darkblue']\n",
    "plt.bar(view_df['view'], view_df['price'], color = color)\n",
    "plt.ylabel('Average Price', size=15)\n",
    "plt.xlabel('Quality of View', size=15)\n",
    "plt.title('Avg Price Based on View', size=20)\n",
    "ax.ticklabel_format(style='plain', axis = 'y')\n",
    "plt.annotate('Blue: Sign. Grey: Not Sign. Red: Reference', (0.02, .95), backgroundcolor='w', xycoords='axes fraction')\n",
    "plt.savefig('Images/view.png', bbox_inches = 'tight');"
   ]
  },
  {
   "cell_type": "markdown",
   "metadata": {},
   "source": [
    "# Conclusions"
   ]
  },
  {
   "cell_type": "code",
   "execution_count": null,
   "metadata": {},
   "outputs": [],
   "source": []
  }
 ],
 "metadata": {
  "kernelspec": {
   "display_name": "Python 3",
   "language": "python",
   "name": "python3"
  },
  "language_info": {
   "codemirror_mode": {
    "name": "ipython",
    "version": 3
   },
   "file_extension": ".py",
   "mimetype": "text/x-python",
   "name": "python",
   "nbconvert_exporter": "python",
   "pygments_lexer": "ipython3",
   "version": "3.8.5"
  }
 },
 "nbformat": 4,
 "nbformat_minor": 2
}
