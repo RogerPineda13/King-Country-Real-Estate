{
 "cells": [
  {
   "cell_type": "markdown",
   "metadata": {},
   "source": [
    "## Final Notebook Submission\n",
    "\n",
    "Please fill out:\n",
    "* Student name: \n",
    "* Student pace: self paced / part time / full time\n",
    "* Scheduled project review date/time: \n",
    "* Instructor name: \n",
    "* Blog post URL:\n"
   ]
  },
  {
   "cell_type": "code",
   "execution_count": 119,
   "metadata": {},
   "outputs": [],
   "source": [
    "import pandas as pd\n",
    "import numpy as np\n",
    "import seaborn as sns\n",
    "from sklearn.preprocessing import OneHotEncoder\n",
    "from statsmodels.formula.api import ols\n",
    "import matplotlib.pyplot as plt\n",
    "%matplotlib inline"
   ]
  },
  {
   "cell_type": "code",
   "execution_count": 120,
   "metadata": {},
   "outputs": [
    {
     "name": "stdout",
     "output_type": "stream",
     "text": [
      "<class 'pandas.core.frame.DataFrame'>\n",
      "RangeIndex: 21597 entries, 0 to 21596\n",
      "Data columns (total 21 columns):\n",
      " #   Column         Non-Null Count  Dtype  \n",
      "---  ------         --------------  -----  \n",
      " 0   id             21597 non-null  int64  \n",
      " 1   date           21597 non-null  object \n",
      " 2   price          21597 non-null  float64\n",
      " 3   bedrooms       21597 non-null  int64  \n",
      " 4   bathrooms      21597 non-null  float64\n",
      " 5   sqft_living    21597 non-null  int64  \n",
      " 6   sqft_lot       21597 non-null  int64  \n",
      " 7   floors         21597 non-null  float64\n",
      " 8   waterfront     19221 non-null  object \n",
      " 9   view           21534 non-null  object \n",
      " 10  condition      21597 non-null  object \n",
      " 11  grade          21597 non-null  object \n",
      " 12  sqft_above     21597 non-null  int64  \n",
      " 13  sqft_basement  21597 non-null  object \n",
      " 14  yr_built       21597 non-null  int64  \n",
      " 15  yr_renovated   17755 non-null  float64\n",
      " 16  zipcode        21597 non-null  int64  \n",
      " 17  lat            21597 non-null  float64\n",
      " 18  long           21597 non-null  float64\n",
      " 19  sqft_living15  21597 non-null  int64  \n",
      " 20  sqft_lot15     21597 non-null  int64  \n",
      "dtypes: float64(6), int64(9), object(6)\n",
      "memory usage: 3.5+ MB\n"
     ]
    }
   ],
   "source": [
    "housing_df = pd.read_csv('data/kc_house_data.csv')\n",
    "housing_df.info()"
   ]
  },
  {
   "cell_type": "code",
   "execution_count": 121,
   "metadata": {},
   "outputs": [
    {
     "data": {
      "text/plain": [
       "id                  0\n",
       "date                0\n",
       "price               0\n",
       "bedrooms            0\n",
       "bathrooms           0\n",
       "sqft_living         0\n",
       "sqft_lot            0\n",
       "floors              0\n",
       "waterfront       2376\n",
       "view               63\n",
       "condition           0\n",
       "grade               0\n",
       "sqft_above          0\n",
       "sqft_basement       0\n",
       "yr_built            0\n",
       "yr_renovated     3842\n",
       "zipcode             0\n",
       "lat                 0\n",
       "long                0\n",
       "sqft_living15       0\n",
       "sqft_lot15          0\n",
       "dtype: int64"
      ]
     },
     "execution_count": 121,
     "metadata": {},
     "output_type": "execute_result"
    }
   ],
   "source": [
    "housing_df.isna().sum()"
   ]
  },
  {
   "cell_type": "code",
   "execution_count": 122,
   "metadata": {},
   "outputs": [],
   "source": [
    "housing_df['datetime'] = pd.to_datetime(housing_df['date'])\n",
    "housing_df['soldyear'] = housing_df['datetime'].dt.year\n",
    "housing_df['age_when_sold'] = housing_df['soldyear'] - housing_df['yr_built']"
   ]
  },
  {
   "cell_type": "code",
   "execution_count": 123,
   "metadata": {},
   "outputs": [],
   "source": [
    "housing_df['grade_num'] = housing_df['grade'].str.split()\n",
    "housing_df['grade_num'] = housing_df['grade_num'].str[0]\n",
    "housing_df['grade_num'] = housing_df['grade_num'].astype(int)"
   ]
  },
  {
   "cell_type": "code",
   "execution_count": 124,
   "metadata": {},
   "outputs": [],
   "source": [
    "housing_df['sqft_basement'] = housing_df['sqft_living'] - housing_df['sqft_above']\n",
    "housing_df['Basement'] = None\n",
    "housing_df['Basement'] = housing_df['sqft_basement'].map(lambda x: False if x == 0 else True)\n",
    "housing_df['Basement'] = housing_df['Basement'].astype(int)"
   ]
  },
  {
   "cell_type": "code",
   "execution_count": 125,
   "metadata": {},
   "outputs": [],
   "source": [
    "# replace_dict = {0.75: 1, 1.75: 2, 2.75: 3, 3.75: 4, 4.75: 5, 5.75: 6, 6.75: 7, 7.75: 8, \n",
    "#                 1.25: 1.5, 2.25: 2.5, 3.25: 3.5, 4.25: 4.5, 5.25: 5.5, 6.25: 6.5}\n",
    "# housing_df['bathrooms'] = housing_df['bathrooms'].replace(replace_dict)"
   ]
  },
  {
   "cell_type": "code",
   "execution_count": 126,
   "metadata": {},
   "outputs": [
    {
     "data": {
      "text/plain": [
       "Average      14020\n",
       "Good          5677\n",
       "Very Good     1701\n",
       "Fair           170\n",
       "Poor            29\n",
       "Name: condition, dtype: int64"
      ]
     },
     "execution_count": 126,
     "metadata": {},
     "output_type": "execute_result"
    }
   ],
   "source": [
    "housing_df.condition.value_counts()"
   ]
  },
  {
   "cell_type": "code",
   "execution_count": 127,
   "metadata": {},
   "outputs": [],
   "source": [
    "replace_dict2 = {'Poor': 1, 'Fair': 2, 'Average': 3, 'Good': 4, 'Very Good': 5}\n",
    "housing_df['condition'] = housing_df['condition'].replace(replace_dict2)"
   ]
  },
  {
   "cell_type": "code",
   "execution_count": 128,
   "metadata": {},
   "outputs": [],
   "source": [
    "from sklearn.impute import SimpleImputer\n",
    "wtr_col = housing_df[['waterfront']]\n",
    "imputer = SimpleImputer(strategy='constant', fill_value = 'NO')\n",
    "imputer.fit(wtr_col)\n",
    "waterfront_imputed = imputer.transform(wtr_col)\n",
    "housing_df.waterfront = waterfront_imputed"
   ]
  },
  {
   "cell_type": "code",
   "execution_count": 129,
   "metadata": {},
   "outputs": [],
   "source": [
    "from sklearn.preprocessing import OrdinalEncoder\n",
    "wtr_col = housing_df[['waterfront']]\n",
    "encoder_wtr = OrdinalEncoder()\n",
    "encoder_wtr.fit(wtr_col)\n",
    "encoded_wtr = encoder_wtr.transform(wtr_col)\n",
    "encoded_wtr = encoded_wtr.flatten()\n",
    "housing_df.waterfront = encoded_wtr"
   ]
  },
  {
   "cell_type": "code",
   "execution_count": 130,
   "metadata": {},
   "outputs": [],
   "source": [
    "from sklearn.impute import SimpleImputer\n",
    "view_col = housing_df[['view']]\n",
    "imputer = SimpleImputer(strategy='constant', fill_value = 'NONE')\n",
    "imputer.fit(view_col)\n",
    "view_imputed = imputer.transform(view_col)\n",
    "housing_df.view = view_imputed"
   ]
  },
  {
   "cell_type": "code",
   "execution_count": 131,
   "metadata": {
    "scrolled": true
   },
   "outputs": [
    {
     "data": {
      "text/plain": [
       "id                  0\n",
       "date                0\n",
       "price               0\n",
       "bedrooms            0\n",
       "bathrooms           0\n",
       "sqft_living         0\n",
       "sqft_lot            0\n",
       "floors              0\n",
       "waterfront          0\n",
       "view                0\n",
       "condition           0\n",
       "grade               0\n",
       "sqft_above          0\n",
       "sqft_basement       0\n",
       "yr_built            0\n",
       "yr_renovated     3842\n",
       "zipcode             0\n",
       "lat                 0\n",
       "long                0\n",
       "sqft_living15       0\n",
       "sqft_lot15          0\n",
       "datetime            0\n",
       "soldyear            0\n",
       "age_when_sold       0\n",
       "grade_num           0\n",
       "Basement            0\n",
       "dtype: int64"
      ]
     },
     "execution_count": 131,
     "metadata": {},
     "output_type": "execute_result"
    }
   ],
   "source": [
    "housing_df.isna().sum()"
   ]
  },
  {
   "cell_type": "code",
   "execution_count": 105,
   "metadata": {},
   "outputs": [],
   "source": [
    "housing_ols = housing_df.drop(['datetime', 'date', 'soldyear', 'yr_built', 'lat', 'long', 'sqft_above', 'sqft_lot15', 'sqft_living15', 'grade', 'sqft_above', 'sqft_basement', 'yr_renovated'], axis = 1)"
   ]
  },
  {
   "cell_type": "code",
   "execution_count": 106,
   "metadata": {},
   "outputs": [
    {
     "data": {
      "text/plain": [
       "(5.25, 117.0, 1890.75, 9824.0)"
      ]
     },
     "execution_count": 106,
     "metadata": {},
     "output_type": "execute_result"
    }
   ],
   "source": [
    "q_4_house = housing_ols[\"bedrooms\"].value_counts().quantile(1)\n",
    "q_3_house = housing_ols[\"bedrooms\"].value_counts().quantile(.75)\n",
    "q_2_house = housing_ols[\"bedrooms\"].value_counts().quantile(.5)\n",
    "q_1_house = housing_ols[\"bedrooms\"].value_counts().quantile(.25)\n",
    "q_1_house, q_2_house, q_3_house, q_4_house"
   ]
  },
  {
   "cell_type": "code",
   "execution_count": 107,
   "metadata": {},
   "outputs": [],
   "source": [
    "housing_ols['iqr_95_bed'] = housing_ols['bedrooms'][housing_ols['bedrooms'].between(housing_ols['bedrooms'].quantile(.025), housing_ols['bedrooms'].quantile(.975), inclusive=True)]"
   ]
  },
  {
   "cell_type": "code",
   "execution_count": null,
   "metadata": {},
   "outputs": [],
   "source": []
  },
  {
   "cell_type": "code",
   "execution_count": null,
   "metadata": {},
   "outputs": [],
   "source": []
  },
  {
   "cell_type": "code",
   "execution_count": 108,
   "metadata": {
    "scrolled": false
   },
   "outputs": [
    {
     "data": {
      "text/html": [
       "<div>\n",
       "<style scoped>\n",
       "    .dataframe tbody tr th:only-of-type {\n",
       "        vertical-align: middle;\n",
       "    }\n",
       "\n",
       "    .dataframe tbody tr th {\n",
       "        vertical-align: top;\n",
       "    }\n",
       "\n",
       "    .dataframe thead th {\n",
       "        text-align: right;\n",
       "    }\n",
       "</style>\n",
       "<table border=\"1\" class=\"dataframe\">\n",
       "  <thead>\n",
       "    <tr style=\"text-align: right;\">\n",
       "      <th></th>\n",
       "      <th>id</th>\n",
       "      <th>price</th>\n",
       "      <th>bedrooms</th>\n",
       "      <th>bathrooms</th>\n",
       "      <th>sqft_living</th>\n",
       "      <th>sqft_lot</th>\n",
       "      <th>floors</th>\n",
       "      <th>waterfront</th>\n",
       "      <th>view</th>\n",
       "      <th>condition</th>\n",
       "      <th>zipcode</th>\n",
       "      <th>age_when_sold</th>\n",
       "      <th>grade_num</th>\n",
       "      <th>Basement</th>\n",
       "      <th>iqr_95_bed</th>\n",
       "    </tr>\n",
       "  </thead>\n",
       "  <tbody>\n",
       "    <tr>\n",
       "      <th>0</th>\n",
       "      <td>7129300520</td>\n",
       "      <td>221900.0</td>\n",
       "      <td>3</td>\n",
       "      <td>1.00</td>\n",
       "      <td>1180</td>\n",
       "      <td>5650</td>\n",
       "      <td>1.0</td>\n",
       "      <td>0.0</td>\n",
       "      <td>NONE</td>\n",
       "      <td>3</td>\n",
       "      <td>98178</td>\n",
       "      <td>59</td>\n",
       "      <td>7</td>\n",
       "      <td>0</td>\n",
       "      <td>3.0</td>\n",
       "    </tr>\n",
       "    <tr>\n",
       "      <th>1</th>\n",
       "      <td>6414100192</td>\n",
       "      <td>538000.0</td>\n",
       "      <td>3</td>\n",
       "      <td>2.25</td>\n",
       "      <td>2570</td>\n",
       "      <td>7242</td>\n",
       "      <td>2.0</td>\n",
       "      <td>0.0</td>\n",
       "      <td>NONE</td>\n",
       "      <td>3</td>\n",
       "      <td>98125</td>\n",
       "      <td>63</td>\n",
       "      <td>7</td>\n",
       "      <td>1</td>\n",
       "      <td>3.0</td>\n",
       "    </tr>\n",
       "    <tr>\n",
       "      <th>2</th>\n",
       "      <td>5631500400</td>\n",
       "      <td>180000.0</td>\n",
       "      <td>2</td>\n",
       "      <td>1.00</td>\n",
       "      <td>770</td>\n",
       "      <td>10000</td>\n",
       "      <td>1.0</td>\n",
       "      <td>0.0</td>\n",
       "      <td>NONE</td>\n",
       "      <td>3</td>\n",
       "      <td>98028</td>\n",
       "      <td>82</td>\n",
       "      <td>6</td>\n",
       "      <td>0</td>\n",
       "      <td>2.0</td>\n",
       "    </tr>\n",
       "    <tr>\n",
       "      <th>3</th>\n",
       "      <td>2487200875</td>\n",
       "      <td>604000.0</td>\n",
       "      <td>4</td>\n",
       "      <td>3.00</td>\n",
       "      <td>1960</td>\n",
       "      <td>5000</td>\n",
       "      <td>1.0</td>\n",
       "      <td>0.0</td>\n",
       "      <td>NONE</td>\n",
       "      <td>5</td>\n",
       "      <td>98136</td>\n",
       "      <td>49</td>\n",
       "      <td>7</td>\n",
       "      <td>1</td>\n",
       "      <td>4.0</td>\n",
       "    </tr>\n",
       "    <tr>\n",
       "      <th>4</th>\n",
       "      <td>1954400510</td>\n",
       "      <td>510000.0</td>\n",
       "      <td>3</td>\n",
       "      <td>2.00</td>\n",
       "      <td>1680</td>\n",
       "      <td>8080</td>\n",
       "      <td>1.0</td>\n",
       "      <td>0.0</td>\n",
       "      <td>NONE</td>\n",
       "      <td>3</td>\n",
       "      <td>98074</td>\n",
       "      <td>28</td>\n",
       "      <td>8</td>\n",
       "      <td>0</td>\n",
       "      <td>3.0</td>\n",
       "    </tr>\n",
       "  </tbody>\n",
       "</table>\n",
       "</div>"
      ],
      "text/plain": [
       "           id     price  bedrooms  bathrooms  sqft_living  sqft_lot  floors  \\\n",
       "0  7129300520  221900.0         3       1.00         1180      5650     1.0   \n",
       "1  6414100192  538000.0         3       2.25         2570      7242     2.0   \n",
       "2  5631500400  180000.0         2       1.00          770     10000     1.0   \n",
       "3  2487200875  604000.0         4       3.00         1960      5000     1.0   \n",
       "4  1954400510  510000.0         3       2.00         1680      8080     1.0   \n",
       "\n",
       "   waterfront  view  condition  zipcode  age_when_sold  grade_num  Basement  \\\n",
       "0         0.0  NONE          3    98178             59          7         0   \n",
       "1         0.0  NONE          3    98125             63          7         1   \n",
       "2         0.0  NONE          3    98028             82          6         0   \n",
       "3         0.0  NONE          5    98136             49          7         1   \n",
       "4         0.0  NONE          3    98074             28          8         0   \n",
       "\n",
       "   iqr_95_bed  \n",
       "0         3.0  \n",
       "1         3.0  \n",
       "2         2.0  \n",
       "3         4.0  \n",
       "4         3.0  "
      ]
     },
     "execution_count": 108,
     "metadata": {},
     "output_type": "execute_result"
    }
   ],
   "source": [
    "housing_ols.head()"
   ]
  },
  {
   "cell_type": "code",
   "execution_count": 109,
   "metadata": {
    "scrolled": true
   },
   "outputs": [],
   "source": [
    "# housing_ols.dropna(subset =['iqr_95_be'],  inplace=True)"
   ]
  },
  {
   "cell_type": "code",
   "execution_count": 110,
   "metadata": {
    "scrolled": true
   },
   "outputs": [
    {
     "data": {
      "text/plain": [
       "21597"
      ]
     },
     "execution_count": 110,
     "metadata": {},
     "output_type": "execute_result"
    }
   ],
   "source": [
    "len(housing_ols['iqr_95_bed'])"
   ]
  },
  {
   "cell_type": "code",
   "execution_count": 111,
   "metadata": {
    "scrolled": true
   },
   "outputs": [],
   "source": [
    "housing_ols.drop(['id', 'bedrooms', 'bathrooms', 'floors', 'zipcode', 'grade_num', 'waterfront', 'age_when_sold', 'Basement', 'condition', 'sqft_lot', 'iqr_95_bed'], axis =1, inplace =True)"
   ]
  },
  {
   "cell_type": "code",
   "execution_count": null,
   "metadata": {},
   "outputs": [],
   "source": [
    "len(housing_ols)"
   ]
  },
  {
   "cell_type": "code",
   "execution_count": null,
   "metadata": {},
   "outputs": [],
   "source": [
    "# housing_ols['iqr_95_bath'] = housing_ols['bathrooms'][housing_ols['bathrooms'].between(housing_ols['bathrooms'].quantile(.025), housing_ols['bathrooms'].quantile(.975), inclusive=True)]\n",
    "# housing_ols['iqr_95_floor'] = housing_ols['floors'][housing_ols['floors'].between(housing_ols['floors'].quantile(.025), housing_ols['floors'].quantile(.975), inclusive=True)]\n",
    "# housing_ols['iqr_95_water'] = housing_ols['waterfront'][housing_ols['waterfront'].between(housing_ols['waterfront'].quantile(.025), housing_ols['waterfront'].quantile(.975), inclusive=True)]\n",
    "# # housing_ols['iqr_95_view'] = housing_ols['view'][housing_ols['view'].between(housing_ols['view'].quantile(.025), housing_ols['view'].quantile(.975), inclusive=True)]\n",
    "# housing_ols['iqr_95_condition'] = housing_ols['condition'][housing_ols['condition'].between(housing_ols['condition'].quantile(.025), housing_ols['condition'].quantile(.975), inclusive=True)]\n",
    "# housing_ols['iqr_95_age_when_sold'] = housing_ols['age_when_sold'][housing_ols['age_when_sold'].between(housing_ols['age_when_sold'].quantile(.025), housing_ols['age_when_sold'].quantile(.975), inclusive=True)]\n",
    "# housing_ols['iqr_95_grade_num'] = housing_ols['grade_num'][housing_ols['grade_num'].between(housing_ols['grade_num'].quantile(.025), housing_ols['grade_num'].quantile(.975), inclusive=True)]\n",
    "# housing_ols['iqr_95_condition'] = housing_ols['condition'][housing_ols['condition'].between(housing_ols['condition'].quantile(.025), housing_ols['condition'].quantile(.975), inclusive=True)]\n",
    "\n"
   ]
  },
  {
   "cell_type": "code",
   "execution_count": null,
   "metadata": {},
   "outputs": [],
   "source": [
    "housing_ols['iqr_95_Basement'] = housing_ols['Basement'][housing_ols['Basement'].between(housing_ols['Basement'].quantile(.025), housing_ols['Basement'].quantile(.975), inclusive=True)]\n"
   ]
  },
  {
   "cell_type": "code",
   "execution_count": null,
   "metadata": {},
   "outputs": [],
   "source": [
    "# housing_ols['iqr_95_Basement']"
   ]
  },
  {
   "cell_type": "code",
   "execution_count": null,
   "metadata": {},
   "outputs": [],
   "source": []
  },
  {
   "cell_type": "code",
   "execution_count": 113,
   "metadata": {},
   "outputs": [],
   "source": [
    "housing_ols['iqr_95_sqft_living'] = housing_ols['sqft_living'][housing_ols['sqft_living'].between(housing_ols['sqft_living'].quantile(.025), housing_ols['sqft_living'].quantile(.975), inclusive=True)]\n",
    "housing_ols['iqr_90_sqft_living'] = housing_ols['sqft_living'][housing_ols['sqft_living'].between(housing_ols['sqft_living'].quantile(.05), housing_ols['sqft_living'].quantile(.95), inclusive=True)]\n",
    "housing_ols['iqr_97.5_sqft_living'] = housing_ols['sqft_living'][housing_ols['sqft_living'].between(housing_ols['sqft_living'].quantile(.0125), housing_ols['sqft_living'].quantile(.9875), inclusive=True)]\n",
    "housing_ols['iqr_99_sqft_living'] = housing_ols['sqft_living'][housing_ols['sqft_living'].between(housing_ols['sqft_living'].quantile(.01), housing_ols['sqft_living'].quantile(.99), inclusive=True)]\n",
    "housing_ols['iqr_92.5_sqft_living'] = housing_ols['sqft_living'][housing_ols['sqft_living'].between(housing_ols['sqft_living'].quantile(.0375), housing_ols['sqft_living'].quantile(.9625), inclusive=True)]\n",
    "housing_ols['iqr_99.9_sqft_living'] = housing_ols['sqft_living'][housing_ols['sqft_living'].between(housing_ols['sqft_living'].quantile(.001), housing_ols['sqft_living'].quantile(.999), inclusive=True)]\n",
    "housing_ols['iqr_99.99_sqft_living'] = housing_ols['sqft_living'][housing_ols['sqft_living'].between(housing_ols['sqft_living'].quantile(.0001), housing_ols['sqft_living'].quantile(.9999), inclusive=True)]\n"
   ]
  },
  {
   "cell_type": "code",
   "execution_count": null,
   "metadata": {},
   "outputs": [],
   "source": [
    "# housing_ols.plot(kind ='scatter', x = 'iqr_90_sqft_living', y = 'price',alpha =.4, color = 'b')\n",
    "# housing_ols.plot(kind ='scatter', x = 'iqr_92.5_sqft_living', y = 'price',alpha =.4, color = 'b')\n",
    "# housing_ols.plot(kind ='scatter', x = 'iqr_95_sqft_living', y = 'price',alpha =.4, color = 'b')\n",
    "# housing_ols.plot(kind ='scatter', x = 'iqr_97.5_sqft_living', y = 'price',alpha =.4, color = 'b')\n",
    "# housing_ols.plot(kind ='scatter', x = 'iqr_99_sqft_living', y = 'price',alpha =.4, color = 'b')\n",
    "# housing_ols.plot(kind ='scatter', x = 'sqft_living', y = 'price',alpha =.4, color = 'b')"
   ]
  },
  {
   "cell_type": "code",
   "execution_count": null,
   "metadata": {},
   "outputs": [],
   "source": [
    "# housing_ols['iqr_99.99_sqft_living'] = housing_ols['sqft_living'][housing_ols['sqft_living'].between(housing_ols['sqft_living'].quantile(.0001), housing_ols['sqft_living'].quantile(.9999), inclusive=True)]\n",
    "# housing_ols['iqr_99.9_sqft_living'] = housing_ols['sqft_living'][housing_ols['sqft_living'].between(housing_ols['sqft_living'].quantile(.001), housing_ols['sqft_living'].quantile(.999), inclusive=True)]\n",
    "\n",
    "# # housing_ols.dropna(subset= ['iqr_99.9_sqft_living'], inplace = True)\n",
    "# housing_ols"
   ]
  },
  {
   "cell_type": "code",
   "execution_count": null,
   "metadata": {},
   "outputs": [],
   "source": [
    "# housing_ols['iqr_99.9_sqft_living'] = housing_ols['sqft_living'][housing_ols['sqft_living'].between(housing_ols['sqft_living'].quantile(.001), housing_ols['sqft_living'].quantile(.999), inclusive=True)]\n",
    "# housing_ols.dropna(subset= ['iqr_99.9_sqft_living'], inplace = True)\n",
    "# housing_ols"
   ]
  },
  {
   "cell_type": "code",
   "execution_count": 114,
   "metadata": {},
   "outputs": [],
   "source": [
    "housing_ols['iqr_99.9_price'] = housing_ols['price'][housing_ols['price'].between(housing_ols['price'].quantile(.001), housing_ols['price'].quantile(.999), inclusive=True)]\n"
   ]
  },
  {
   "cell_type": "code",
   "execution_count": null,
   "metadata": {},
   "outputs": [],
   "source": [
    "housing_ols['iqr_99.9_price'].corr(housing_ols['iqr_99.9_sqft_living'])"
   ]
  },
  {
   "cell_type": "code",
   "execution_count": 117,
   "metadata": {},
   "outputs": [],
   "source": [
    "housing_ols.drop(['price'], axis=1, inplace =True)"
   ]
  },
  {
   "cell_type": "code",
   "execution_count": 118,
   "metadata": {},
   "outputs": [
    {
     "data": {
      "text/html": [
       "<div>\n",
       "<style scoped>\n",
       "    .dataframe tbody tr th:only-of-type {\n",
       "        vertical-align: middle;\n",
       "    }\n",
       "\n",
       "    .dataframe tbody tr th {\n",
       "        vertical-align: top;\n",
       "    }\n",
       "\n",
       "    .dataframe thead th {\n",
       "        text-align: right;\n",
       "    }\n",
       "</style>\n",
       "<table border=\"1\" class=\"dataframe\">\n",
       "  <thead>\n",
       "    <tr style=\"text-align: right;\">\n",
       "      <th></th>\n",
       "      <th>sqft_living</th>\n",
       "      <th>iqr_95_sqft_living</th>\n",
       "      <th>iqr_90_sqft_living</th>\n",
       "      <th>iqr_97.5_sqft_living</th>\n",
       "      <th>iqr_99_sqft_living</th>\n",
       "      <th>iqr_92.5_sqft_living</th>\n",
       "      <th>iqr_99.9_sqft_living</th>\n",
       "      <th>iqr_99.99_sqft_living</th>\n",
       "      <th>iqr_99.9_price</th>\n",
       "    </tr>\n",
       "  </thead>\n",
       "  <tbody>\n",
       "    <tr>\n",
       "      <th>sqft_living</th>\n",
       "      <td>1.000000</td>\n",
       "      <td>1.000000</td>\n",
       "      <td>1.00000</td>\n",
       "      <td>1.000000</td>\n",
       "      <td>1.000000</td>\n",
       "      <td>1.00000</td>\n",
       "      <td>1.000000</td>\n",
       "      <td>1.000000</td>\n",
       "      <td>0.693463</td>\n",
       "    </tr>\n",
       "    <tr>\n",
       "      <th>iqr_95_sqft_living</th>\n",
       "      <td>1.000000</td>\n",
       "      <td>1.000000</td>\n",
       "      <td>1.00000</td>\n",
       "      <td>1.000000</td>\n",
       "      <td>1.000000</td>\n",
       "      <td>1.00000</td>\n",
       "      <td>1.000000</td>\n",
       "      <td>1.000000</td>\n",
       "      <td>0.624188</td>\n",
       "    </tr>\n",
       "    <tr>\n",
       "      <th>iqr_90_sqft_living</th>\n",
       "      <td>1.000000</td>\n",
       "      <td>1.000000</td>\n",
       "      <td>1.00000</td>\n",
       "      <td>1.000000</td>\n",
       "      <td>1.000000</td>\n",
       "      <td>1.00000</td>\n",
       "      <td>1.000000</td>\n",
       "      <td>1.000000</td>\n",
       "      <td>0.579960</td>\n",
       "    </tr>\n",
       "    <tr>\n",
       "      <th>iqr_97.5_sqft_living</th>\n",
       "      <td>1.000000</td>\n",
       "      <td>1.000000</td>\n",
       "      <td>1.00000</td>\n",
       "      <td>1.000000</td>\n",
       "      <td>1.000000</td>\n",
       "      <td>1.00000</td>\n",
       "      <td>1.000000</td>\n",
       "      <td>1.000000</td>\n",
       "      <td>0.650871</td>\n",
       "    </tr>\n",
       "    <tr>\n",
       "      <th>iqr_99_sqft_living</th>\n",
       "      <td>1.000000</td>\n",
       "      <td>1.000000</td>\n",
       "      <td>1.00000</td>\n",
       "      <td>1.000000</td>\n",
       "      <td>1.000000</td>\n",
       "      <td>1.00000</td>\n",
       "      <td>1.000000</td>\n",
       "      <td>1.000000</td>\n",
       "      <td>0.656746</td>\n",
       "    </tr>\n",
       "    <tr>\n",
       "      <th>iqr_92.5_sqft_living</th>\n",
       "      <td>1.000000</td>\n",
       "      <td>1.000000</td>\n",
       "      <td>1.00000</td>\n",
       "      <td>1.000000</td>\n",
       "      <td>1.000000</td>\n",
       "      <td>1.00000</td>\n",
       "      <td>1.000000</td>\n",
       "      <td>1.000000</td>\n",
       "      <td>0.601460</td>\n",
       "    </tr>\n",
       "    <tr>\n",
       "      <th>iqr_99.9_sqft_living</th>\n",
       "      <td>1.000000</td>\n",
       "      <td>1.000000</td>\n",
       "      <td>1.00000</td>\n",
       "      <td>1.000000</td>\n",
       "      <td>1.000000</td>\n",
       "      <td>1.00000</td>\n",
       "      <td>1.000000</td>\n",
       "      <td>1.000000</td>\n",
       "      <td>0.689368</td>\n",
       "    </tr>\n",
       "    <tr>\n",
       "      <th>iqr_99.99_sqft_living</th>\n",
       "      <td>1.000000</td>\n",
       "      <td>1.000000</td>\n",
       "      <td>1.00000</td>\n",
       "      <td>1.000000</td>\n",
       "      <td>1.000000</td>\n",
       "      <td>1.00000</td>\n",
       "      <td>1.000000</td>\n",
       "      <td>1.000000</td>\n",
       "      <td>0.693462</td>\n",
       "    </tr>\n",
       "    <tr>\n",
       "      <th>iqr_99.9_price</th>\n",
       "      <td>0.693463</td>\n",
       "      <td>0.624188</td>\n",
       "      <td>0.57996</td>\n",
       "      <td>0.650871</td>\n",
       "      <td>0.656746</td>\n",
       "      <td>0.60146</td>\n",
       "      <td>0.689368</td>\n",
       "      <td>0.693462</td>\n",
       "      <td>1.000000</td>\n",
       "    </tr>\n",
       "  </tbody>\n",
       "</table>\n",
       "</div>"
      ],
      "text/plain": [
       "                       sqft_living  iqr_95_sqft_living  iqr_90_sqft_living  \\\n",
       "sqft_living               1.000000            1.000000             1.00000   \n",
       "iqr_95_sqft_living        1.000000            1.000000             1.00000   \n",
       "iqr_90_sqft_living        1.000000            1.000000             1.00000   \n",
       "iqr_97.5_sqft_living      1.000000            1.000000             1.00000   \n",
       "iqr_99_sqft_living        1.000000            1.000000             1.00000   \n",
       "iqr_92.5_sqft_living      1.000000            1.000000             1.00000   \n",
       "iqr_99.9_sqft_living      1.000000            1.000000             1.00000   \n",
       "iqr_99.99_sqft_living     1.000000            1.000000             1.00000   \n",
       "iqr_99.9_price            0.693463            0.624188             0.57996   \n",
       "\n",
       "                       iqr_97.5_sqft_living  iqr_99_sqft_living  \\\n",
       "sqft_living                        1.000000            1.000000   \n",
       "iqr_95_sqft_living                 1.000000            1.000000   \n",
       "iqr_90_sqft_living                 1.000000            1.000000   \n",
       "iqr_97.5_sqft_living               1.000000            1.000000   \n",
       "iqr_99_sqft_living                 1.000000            1.000000   \n",
       "iqr_92.5_sqft_living               1.000000            1.000000   \n",
       "iqr_99.9_sqft_living               1.000000            1.000000   \n",
       "iqr_99.99_sqft_living              1.000000            1.000000   \n",
       "iqr_99.9_price                     0.650871            0.656746   \n",
       "\n",
       "                       iqr_92.5_sqft_living  iqr_99.9_sqft_living  \\\n",
       "sqft_living                         1.00000              1.000000   \n",
       "iqr_95_sqft_living                  1.00000              1.000000   \n",
       "iqr_90_sqft_living                  1.00000              1.000000   \n",
       "iqr_97.5_sqft_living                1.00000              1.000000   \n",
       "iqr_99_sqft_living                  1.00000              1.000000   \n",
       "iqr_92.5_sqft_living                1.00000              1.000000   \n",
       "iqr_99.9_sqft_living                1.00000              1.000000   \n",
       "iqr_99.99_sqft_living               1.00000              1.000000   \n",
       "iqr_99.9_price                      0.60146              0.689368   \n",
       "\n",
       "                       iqr_99.99_sqft_living  iqr_99.9_price  \n",
       "sqft_living                         1.000000        0.693463  \n",
       "iqr_95_sqft_living                  1.000000        0.624188  \n",
       "iqr_90_sqft_living                  1.000000        0.579960  \n",
       "iqr_97.5_sqft_living                1.000000        0.650871  \n",
       "iqr_99_sqft_living                  1.000000        0.656746  \n",
       "iqr_92.5_sqft_living                1.000000        0.601460  \n",
       "iqr_99.9_sqft_living                1.000000        0.689368  \n",
       "iqr_99.99_sqft_living               1.000000        0.693462  \n",
       "iqr_99.9_price                      0.693462        1.000000  "
      ]
     },
     "execution_count": 118,
     "metadata": {},
     "output_type": "execute_result"
    }
   ],
   "source": [
    "housing_ols.corr()"
   ]
  },
  {
   "cell_type": "code",
   "execution_count": null,
   "metadata": {},
   "outputs": [],
   "source": [
    "# mse can be ginormous which means wrong algorithm but can still show and can say don't use this model"
   ]
  },
  {
   "cell_type": "code",
   "execution_count": null,
   "metadata": {},
   "outputs": [],
   "source": []
  },
  {
   "cell_type": "code",
   "execution_count": null,
   "metadata": {},
   "outputs": [],
   "source": []
  },
  {
   "cell_type": "code",
   "execution_count": null,
   "metadata": {},
   "outputs": [],
   "source": []
  },
  {
   "cell_type": "code",
   "execution_count": null,
   "metadata": {},
   "outputs": [],
   "source": []
  },
  {
   "cell_type": "code",
   "execution_count": null,
   "metadata": {},
   "outputs": [],
   "source": []
  },
  {
   "cell_type": "code",
   "execution_count": 66,
   "metadata": {},
   "outputs": [],
   "source": [
    "housing_ols.dropna(subset=['iqr_99.99_sqft_living'],inplace=True)"
   ]
  },
  {
   "cell_type": "code",
   "execution_count": 68,
   "metadata": {},
   "outputs": [
    {
     "data": {
      "text/html": [
       "<div>\n",
       "<style scoped>\n",
       "    .dataframe tbody tr th:only-of-type {\n",
       "        vertical-align: middle;\n",
       "    }\n",
       "\n",
       "    .dataframe tbody tr th {\n",
       "        vertical-align: top;\n",
       "    }\n",
       "\n",
       "    .dataframe thead th {\n",
       "        text-align: right;\n",
       "    }\n",
       "</style>\n",
       "<table border=\"1\" class=\"dataframe\">\n",
       "  <thead>\n",
       "    <tr style=\"text-align: right;\">\n",
       "      <th></th>\n",
       "      <th>price</th>\n",
       "      <th>sqft_living</th>\n",
       "      <th>iqr_95_bed</th>\n",
       "      <th>iqr_95_sqft_living</th>\n",
       "      <th>iqr_90_sqft_living</th>\n",
       "      <th>iqr_97.5_sqft_living</th>\n",
       "      <th>iqr_99_sqft_living</th>\n",
       "      <th>iqr_92.5_sqft_living</th>\n",
       "      <th>iqr_99.9_sqft_living</th>\n",
       "      <th>iqr_99.99_sqft_living</th>\n",
       "    </tr>\n",
       "  </thead>\n",
       "  <tbody>\n",
       "    <tr>\n",
       "      <th>price</th>\n",
       "      <td>1.000000</td>\n",
       "      <td>0.699543</td>\n",
       "      <td>0.309198</td>\n",
       "      <td>0.624551</td>\n",
       "      <td>0.580113</td>\n",
       "      <td>0.651385</td>\n",
       "      <td>0.657085</td>\n",
       "      <td>0.601736</td>\n",
       "      <td>0.691027</td>\n",
       "      <td>0.699543</td>\n",
       "    </tr>\n",
       "    <tr>\n",
       "      <th>sqft_living</th>\n",
       "      <td>0.699543</td>\n",
       "      <td>1.000000</td>\n",
       "      <td>0.583856</td>\n",
       "      <td>1.000000</td>\n",
       "      <td>1.000000</td>\n",
       "      <td>1.000000</td>\n",
       "      <td>1.000000</td>\n",
       "      <td>1.000000</td>\n",
       "      <td>1.000000</td>\n",
       "      <td>1.000000</td>\n",
       "    </tr>\n",
       "    <tr>\n",
       "      <th>iqr_95_bed</th>\n",
       "      <td>0.309198</td>\n",
       "      <td>0.583856</td>\n",
       "      <td>1.000000</td>\n",
       "      <td>0.568451</td>\n",
       "      <td>0.540185</td>\n",
       "      <td>0.582244</td>\n",
       "      <td>0.585657</td>\n",
       "      <td>0.553135</td>\n",
       "      <td>0.585160</td>\n",
       "      <td>0.583856</td>\n",
       "    </tr>\n",
       "    <tr>\n",
       "      <th>iqr_95_sqft_living</th>\n",
       "      <td>0.624551</td>\n",
       "      <td>1.000000</td>\n",
       "      <td>0.568451</td>\n",
       "      <td>1.000000</td>\n",
       "      <td>1.000000</td>\n",
       "      <td>1.000000</td>\n",
       "      <td>1.000000</td>\n",
       "      <td>1.000000</td>\n",
       "      <td>1.000000</td>\n",
       "      <td>1.000000</td>\n",
       "    </tr>\n",
       "    <tr>\n",
       "      <th>iqr_90_sqft_living</th>\n",
       "      <td>0.580113</td>\n",
       "      <td>1.000000</td>\n",
       "      <td>0.540185</td>\n",
       "      <td>1.000000</td>\n",
       "      <td>1.000000</td>\n",
       "      <td>1.000000</td>\n",
       "      <td>1.000000</td>\n",
       "      <td>1.000000</td>\n",
       "      <td>1.000000</td>\n",
       "      <td>1.000000</td>\n",
       "    </tr>\n",
       "    <tr>\n",
       "      <th>iqr_97.5_sqft_living</th>\n",
       "      <td>0.651385</td>\n",
       "      <td>1.000000</td>\n",
       "      <td>0.582244</td>\n",
       "      <td>1.000000</td>\n",
       "      <td>1.000000</td>\n",
       "      <td>1.000000</td>\n",
       "      <td>1.000000</td>\n",
       "      <td>1.000000</td>\n",
       "      <td>1.000000</td>\n",
       "      <td>1.000000</td>\n",
       "    </tr>\n",
       "    <tr>\n",
       "      <th>iqr_99_sqft_living</th>\n",
       "      <td>0.657085</td>\n",
       "      <td>1.000000</td>\n",
       "      <td>0.585657</td>\n",
       "      <td>1.000000</td>\n",
       "      <td>1.000000</td>\n",
       "      <td>1.000000</td>\n",
       "      <td>1.000000</td>\n",
       "      <td>1.000000</td>\n",
       "      <td>1.000000</td>\n",
       "      <td>1.000000</td>\n",
       "    </tr>\n",
       "    <tr>\n",
       "      <th>iqr_92.5_sqft_living</th>\n",
       "      <td>0.601736</td>\n",
       "      <td>1.000000</td>\n",
       "      <td>0.553135</td>\n",
       "      <td>1.000000</td>\n",
       "      <td>1.000000</td>\n",
       "      <td>1.000000</td>\n",
       "      <td>1.000000</td>\n",
       "      <td>1.000000</td>\n",
       "      <td>1.000000</td>\n",
       "      <td>1.000000</td>\n",
       "    </tr>\n",
       "    <tr>\n",
       "      <th>iqr_99.9_sqft_living</th>\n",
       "      <td>0.691027</td>\n",
       "      <td>1.000000</td>\n",
       "      <td>0.585160</td>\n",
       "      <td>1.000000</td>\n",
       "      <td>1.000000</td>\n",
       "      <td>1.000000</td>\n",
       "      <td>1.000000</td>\n",
       "      <td>1.000000</td>\n",
       "      <td>1.000000</td>\n",
       "      <td>1.000000</td>\n",
       "    </tr>\n",
       "    <tr>\n",
       "      <th>iqr_99.99_sqft_living</th>\n",
       "      <td>0.699543</td>\n",
       "      <td>1.000000</td>\n",
       "      <td>0.583856</td>\n",
       "      <td>1.000000</td>\n",
       "      <td>1.000000</td>\n",
       "      <td>1.000000</td>\n",
       "      <td>1.000000</td>\n",
       "      <td>1.000000</td>\n",
       "      <td>1.000000</td>\n",
       "      <td>1.000000</td>\n",
       "    </tr>\n",
       "  </tbody>\n",
       "</table>\n",
       "</div>"
      ],
      "text/plain": [
       "                          price  sqft_living  iqr_95_bed  iqr_95_sqft_living  \\\n",
       "price                  1.000000     0.699543    0.309198            0.624551   \n",
       "sqft_living            0.699543     1.000000    0.583856            1.000000   \n",
       "iqr_95_bed             0.309198     0.583856    1.000000            0.568451   \n",
       "iqr_95_sqft_living     0.624551     1.000000    0.568451            1.000000   \n",
       "iqr_90_sqft_living     0.580113     1.000000    0.540185            1.000000   \n",
       "iqr_97.5_sqft_living   0.651385     1.000000    0.582244            1.000000   \n",
       "iqr_99_sqft_living     0.657085     1.000000    0.585657            1.000000   \n",
       "iqr_92.5_sqft_living   0.601736     1.000000    0.553135            1.000000   \n",
       "iqr_99.9_sqft_living   0.691027     1.000000    0.585160            1.000000   \n",
       "iqr_99.99_sqft_living  0.699543     1.000000    0.583856            1.000000   \n",
       "\n",
       "                       iqr_90_sqft_living  iqr_97.5_sqft_living  \\\n",
       "price                            0.580113              0.651385   \n",
       "sqft_living                      1.000000              1.000000   \n",
       "iqr_95_bed                       0.540185              0.582244   \n",
       "iqr_95_sqft_living               1.000000              1.000000   \n",
       "iqr_90_sqft_living               1.000000              1.000000   \n",
       "iqr_97.5_sqft_living             1.000000              1.000000   \n",
       "iqr_99_sqft_living               1.000000              1.000000   \n",
       "iqr_92.5_sqft_living             1.000000              1.000000   \n",
       "iqr_99.9_sqft_living             1.000000              1.000000   \n",
       "iqr_99.99_sqft_living            1.000000              1.000000   \n",
       "\n",
       "                       iqr_99_sqft_living  iqr_92.5_sqft_living  \\\n",
       "price                            0.657085              0.601736   \n",
       "sqft_living                      1.000000              1.000000   \n",
       "iqr_95_bed                       0.585657              0.553135   \n",
       "iqr_95_sqft_living               1.000000              1.000000   \n",
       "iqr_90_sqft_living               1.000000              1.000000   \n",
       "iqr_97.5_sqft_living             1.000000              1.000000   \n",
       "iqr_99_sqft_living               1.000000              1.000000   \n",
       "iqr_92.5_sqft_living             1.000000              1.000000   \n",
       "iqr_99.9_sqft_living             1.000000              1.000000   \n",
       "iqr_99.99_sqft_living            1.000000              1.000000   \n",
       "\n",
       "                       iqr_99.9_sqft_living  iqr_99.99_sqft_living  \n",
       "price                              0.691027               0.699543  \n",
       "sqft_living                        1.000000               1.000000  \n",
       "iqr_95_bed                         0.585160               0.583856  \n",
       "iqr_95_sqft_living                 1.000000               1.000000  \n",
       "iqr_90_sqft_living                 1.000000               1.000000  \n",
       "iqr_97.5_sqft_living               1.000000               1.000000  \n",
       "iqr_99_sqft_living                 1.000000               1.000000  \n",
       "iqr_92.5_sqft_living               1.000000               1.000000  \n",
       "iqr_99.9_sqft_living               1.000000               1.000000  \n",
       "iqr_99.99_sqft_living              1.000000               1.000000  "
      ]
     },
     "execution_count": 68,
     "metadata": {},
     "output_type": "execute_result"
    }
   ],
   "source": [
    "housing_ols.corr()"
   ]
  },
  {
   "cell_type": "code",
   "execution_count": 69,
   "metadata": {
    "scrolled": true
   },
   "outputs": [
    {
     "data": {
      "text/html": [
       "<div>\n",
       "<style scoped>\n",
       "    .dataframe tbody tr th:only-of-type {\n",
       "        vertical-align: middle;\n",
       "    }\n",
       "\n",
       "    .dataframe tbody tr th {\n",
       "        vertical-align: top;\n",
       "    }\n",
       "\n",
       "    .dataframe thead th {\n",
       "        text-align: right;\n",
       "    }\n",
       "</style>\n",
       "<table border=\"1\" class=\"dataframe\">\n",
       "  <thead>\n",
       "    <tr style=\"text-align: right;\">\n",
       "      <th></th>\n",
       "      <th>price</th>\n",
       "      <th>sqft_living</th>\n",
       "      <th>iqr_95_bed</th>\n",
       "      <th>iqr_95_sqft_living</th>\n",
       "      <th>iqr_90_sqft_living</th>\n",
       "      <th>iqr_97.5_sqft_living</th>\n",
       "      <th>iqr_99_sqft_living</th>\n",
       "      <th>iqr_92.5_sqft_living</th>\n",
       "      <th>iqr_99.9_sqft_living</th>\n",
       "      <th>iqr_99.99_sqft_living</th>\n",
       "    </tr>\n",
       "  </thead>\n",
       "  <tbody>\n",
       "    <tr>\n",
       "      <th>price</th>\n",
       "      <td>1.000000</td>\n",
       "      <td>0.580113</td>\n",
       "      <td>0.226935</td>\n",
       "      <td>0.580113</td>\n",
       "      <td>0.580113</td>\n",
       "      <td>0.580113</td>\n",
       "      <td>0.580113</td>\n",
       "      <td>0.580113</td>\n",
       "      <td>0.580113</td>\n",
       "      <td>0.580113</td>\n",
       "    </tr>\n",
       "    <tr>\n",
       "      <th>sqft_living</th>\n",
       "      <td>0.580113</td>\n",
       "      <td>1.000000</td>\n",
       "      <td>0.540185</td>\n",
       "      <td>1.000000</td>\n",
       "      <td>1.000000</td>\n",
       "      <td>1.000000</td>\n",
       "      <td>1.000000</td>\n",
       "      <td>1.000000</td>\n",
       "      <td>1.000000</td>\n",
       "      <td>1.000000</td>\n",
       "    </tr>\n",
       "    <tr>\n",
       "      <th>iqr_95_bed</th>\n",
       "      <td>0.226935</td>\n",
       "      <td>0.540185</td>\n",
       "      <td>1.000000</td>\n",
       "      <td>0.540185</td>\n",
       "      <td>0.540185</td>\n",
       "      <td>0.540185</td>\n",
       "      <td>0.540185</td>\n",
       "      <td>0.540185</td>\n",
       "      <td>0.540185</td>\n",
       "      <td>0.540185</td>\n",
       "    </tr>\n",
       "    <tr>\n",
       "      <th>iqr_95_sqft_living</th>\n",
       "      <td>0.580113</td>\n",
       "      <td>1.000000</td>\n",
       "      <td>0.540185</td>\n",
       "      <td>1.000000</td>\n",
       "      <td>1.000000</td>\n",
       "      <td>1.000000</td>\n",
       "      <td>1.000000</td>\n",
       "      <td>1.000000</td>\n",
       "      <td>1.000000</td>\n",
       "      <td>1.000000</td>\n",
       "    </tr>\n",
       "    <tr>\n",
       "      <th>iqr_90_sqft_living</th>\n",
       "      <td>0.580113</td>\n",
       "      <td>1.000000</td>\n",
       "      <td>0.540185</td>\n",
       "      <td>1.000000</td>\n",
       "      <td>1.000000</td>\n",
       "      <td>1.000000</td>\n",
       "      <td>1.000000</td>\n",
       "      <td>1.000000</td>\n",
       "      <td>1.000000</td>\n",
       "      <td>1.000000</td>\n",
       "    </tr>\n",
       "    <tr>\n",
       "      <th>iqr_97.5_sqft_living</th>\n",
       "      <td>0.580113</td>\n",
       "      <td>1.000000</td>\n",
       "      <td>0.540185</td>\n",
       "      <td>1.000000</td>\n",
       "      <td>1.000000</td>\n",
       "      <td>1.000000</td>\n",
       "      <td>1.000000</td>\n",
       "      <td>1.000000</td>\n",
       "      <td>1.000000</td>\n",
       "      <td>1.000000</td>\n",
       "    </tr>\n",
       "    <tr>\n",
       "      <th>iqr_99_sqft_living</th>\n",
       "      <td>0.580113</td>\n",
       "      <td>1.000000</td>\n",
       "      <td>0.540185</td>\n",
       "      <td>1.000000</td>\n",
       "      <td>1.000000</td>\n",
       "      <td>1.000000</td>\n",
       "      <td>1.000000</td>\n",
       "      <td>1.000000</td>\n",
       "      <td>1.000000</td>\n",
       "      <td>1.000000</td>\n",
       "    </tr>\n",
       "    <tr>\n",
       "      <th>iqr_92.5_sqft_living</th>\n",
       "      <td>0.580113</td>\n",
       "      <td>1.000000</td>\n",
       "      <td>0.540185</td>\n",
       "      <td>1.000000</td>\n",
       "      <td>1.000000</td>\n",
       "      <td>1.000000</td>\n",
       "      <td>1.000000</td>\n",
       "      <td>1.000000</td>\n",
       "      <td>1.000000</td>\n",
       "      <td>1.000000</td>\n",
       "    </tr>\n",
       "    <tr>\n",
       "      <th>iqr_99.9_sqft_living</th>\n",
       "      <td>0.580113</td>\n",
       "      <td>1.000000</td>\n",
       "      <td>0.540185</td>\n",
       "      <td>1.000000</td>\n",
       "      <td>1.000000</td>\n",
       "      <td>1.000000</td>\n",
       "      <td>1.000000</td>\n",
       "      <td>1.000000</td>\n",
       "      <td>1.000000</td>\n",
       "      <td>1.000000</td>\n",
       "    </tr>\n",
       "    <tr>\n",
       "      <th>iqr_99.99_sqft_living</th>\n",
       "      <td>0.580113</td>\n",
       "      <td>1.000000</td>\n",
       "      <td>0.540185</td>\n",
       "      <td>1.000000</td>\n",
       "      <td>1.000000</td>\n",
       "      <td>1.000000</td>\n",
       "      <td>1.000000</td>\n",
       "      <td>1.000000</td>\n",
       "      <td>1.000000</td>\n",
       "      <td>1.000000</td>\n",
       "    </tr>\n",
       "  </tbody>\n",
       "</table>\n",
       "</div>"
      ],
      "text/plain": [
       "                          price  sqft_living  iqr_95_bed  iqr_95_sqft_living  \\\n",
       "price                  1.000000     0.580113    0.226935            0.580113   \n",
       "sqft_living            0.580113     1.000000    0.540185            1.000000   \n",
       "iqr_95_bed             0.226935     0.540185    1.000000            0.540185   \n",
       "iqr_95_sqft_living     0.580113     1.000000    0.540185            1.000000   \n",
       "iqr_90_sqft_living     0.580113     1.000000    0.540185            1.000000   \n",
       "iqr_97.5_sqft_living   0.580113     1.000000    0.540185            1.000000   \n",
       "iqr_99_sqft_living     0.580113     1.000000    0.540185            1.000000   \n",
       "iqr_92.5_sqft_living   0.580113     1.000000    0.540185            1.000000   \n",
       "iqr_99.9_sqft_living   0.580113     1.000000    0.540185            1.000000   \n",
       "iqr_99.99_sqft_living  0.580113     1.000000    0.540185            1.000000   \n",
       "\n",
       "                       iqr_90_sqft_living  iqr_97.5_sqft_living  \\\n",
       "price                            0.580113              0.580113   \n",
       "sqft_living                      1.000000              1.000000   \n",
       "iqr_95_bed                       0.540185              0.540185   \n",
       "iqr_95_sqft_living               1.000000              1.000000   \n",
       "iqr_90_sqft_living               1.000000              1.000000   \n",
       "iqr_97.5_sqft_living             1.000000              1.000000   \n",
       "iqr_99_sqft_living               1.000000              1.000000   \n",
       "iqr_92.5_sqft_living             1.000000              1.000000   \n",
       "iqr_99.9_sqft_living             1.000000              1.000000   \n",
       "iqr_99.99_sqft_living            1.000000              1.000000   \n",
       "\n",
       "                       iqr_99_sqft_living  iqr_92.5_sqft_living  \\\n",
       "price                            0.580113              0.580113   \n",
       "sqft_living                      1.000000              1.000000   \n",
       "iqr_95_bed                       0.540185              0.540185   \n",
       "iqr_95_sqft_living               1.000000              1.000000   \n",
       "iqr_90_sqft_living               1.000000              1.000000   \n",
       "iqr_97.5_sqft_living             1.000000              1.000000   \n",
       "iqr_99_sqft_living               1.000000              1.000000   \n",
       "iqr_92.5_sqft_living             1.000000              1.000000   \n",
       "iqr_99.9_sqft_living             1.000000              1.000000   \n",
       "iqr_99.99_sqft_living            1.000000              1.000000   \n",
       "\n",
       "                       iqr_99.9_sqft_living  iqr_99.99_sqft_living  \n",
       "price                              0.580113               0.580113  \n",
       "sqft_living                        1.000000               1.000000  \n",
       "iqr_95_bed                         0.540185               0.540185  \n",
       "iqr_95_sqft_living                 1.000000               1.000000  \n",
       "iqr_90_sqft_living                 1.000000               1.000000  \n",
       "iqr_97.5_sqft_living               1.000000               1.000000  \n",
       "iqr_99_sqft_living                 1.000000               1.000000  \n",
       "iqr_92.5_sqft_living               1.000000               1.000000  \n",
       "iqr_99.9_sqft_living               1.000000               1.000000  \n",
       "iqr_99.99_sqft_living              1.000000               1.000000  "
      ]
     },
     "execution_count": 69,
     "metadata": {},
     "output_type": "execute_result"
    }
   ],
   "source": [
    "housing_ols.dropna(subset=['iqr_90_sqft_living'],inplace=True)\n",
    "housing_ols.corr()"
   ]
  },
  {
   "cell_type": "code",
   "execution_count": null,
   "metadata": {},
   "outputs": [],
   "source": []
  },
  {
   "cell_type": "code",
   "execution_count": null,
   "metadata": {},
   "outputs": [],
   "source": []
  },
  {
   "cell_type": "code",
   "execution_count": null,
   "metadata": {},
   "outputs": [],
   "source": []
  },
  {
   "cell_type": "code",
   "execution_count": null,
   "metadata": {
    "scrolled": false
   },
   "outputs": [],
   "source": [
    "fig, axes = plt.subplots(nrows=1, ncols=7, figsize=(16,3))\n",
    "for xcol, ax in zip(['sqft_living', 'sqft_lot', 'bedrooms', 'bathrooms', 'floors', 'waterfront', 'grade_num'], axes):\n",
    "    housing_ols.plot(kind='scatter', x=xcol, y='price', ax=ax, alpha=0.4, color='b')"
   ]
  },
  {
   "cell_type": "code",
   "execution_count": null,
   "metadata": {
    "scrolled": true
   },
   "outputs": [],
   "source": []
  },
  {
   "cell_type": "code",
   "execution_count": null,
   "metadata": {},
   "outputs": [],
   "source": [
    "correlation = housing_ols['price']. corr(housing_ols['grade_num']) \n",
    "correlation"
   ]
  },
  {
   "cell_type": "code",
   "execution_count": null,
   "metadata": {
    "scrolled": false
   },
   "outputs": [],
   "source": [
    "housing_ols.corr()"
   ]
  },
  {
   "cell_type": "code",
   "execution_count": null,
   "metadata": {},
   "outputs": [],
   "source": [
    "xx = housing_ols.corr()\n",
    "x = xx[['price']]\n",
    "sns.heatmap(x, annot=True, linewidths =2.5)"
   ]
  },
  {
   "cell_type": "code",
   "execution_count": null,
   "metadata": {},
   "outputs": [],
   "source": []
  },
  {
   "cell_type": "code",
   "execution_count": null,
   "metadata": {},
   "outputs": [],
   "source": [
    "# formula_price_grade = 'price ~C(grade_num) +sqft_living + C(bedrooms) + C(bathrooms) + sqft_lot+ C(floors) + C(waterfront) + C(condition) + C(zipcode) + age_when_sold + C(Basement)'\n",
    "# formula_price_grade_model = ols(formula = formula_price_grade, data = housing_ols).fit()\n",
    "# formula_price_grade_model_summary = formula_price_grade_model.summary()\n",
    "# formula_price_grade_model_summary"
   ]
  },
  {
   "cell_type": "code",
   "execution_count": null,
   "metadata": {},
   "outputs": [],
   "source": [
    "housing_pred = housing_ols.copy()\n",
    "bedrooms_ohe = housing_pred[['bedrooms']]\n",
    "ohe_bedrooms = OneHotEncoder(categories ='auto', sparse =False)\n",
    "ohe_bedrooms.fit(bedrooms_ohe)\n",
    "ohe_bedrooms_encoded = ohe_bedrooms.transform(bedrooms_ohe)\n",
    "bedrooms_encoded_ohe = pd.DataFrame(ohe_bedrooms_encoded, columns = ohe_bedrooms.get_feature_names(['bedrooms']), index = housing_pred.index )\n",
    "housing_pred1 = pd.concat([housing_pred, bedrooms_encoded_ohe ], axis =1)"
   ]
  },
  {
   "cell_type": "code",
   "execution_count": null,
   "metadata": {},
   "outputs": [],
   "source": [
    "grade_num_ohe = housing_pred[['grade_num']]\n",
    "ohe_grade_num = OneHotEncoder(categories ='auto', sparse =False)\n",
    "ohe_grade_num.fit(grade_num_ohe)\n",
    "ohe_grade_num_encoded = ohe_grade_num.transform(grade_num_ohe)\n",
    "grade_num_encoded_ohe = pd.DataFrame(ohe_grade_num_encoded, columns = ohe_grade_num.get_feature_names(['grade_num']), index = housing_pred.index )\n",
    "housing_pred2 = pd.concat([housing_pred1, grade_num_encoded_ohe], axis =1)"
   ]
  },
  {
   "cell_type": "code",
   "execution_count": null,
   "metadata": {},
   "outputs": [],
   "source": [
    "condition_ohe = housing_pred[['condition']]\n",
    "ohe = OneHotEncoder(categories=\"auto\", sparse=False)\n",
    "cond_encoded_ohe = pd.DataFrame (ohe.fit_transform(condition_ohe))\n",
    "cond_encoded_ohe.columns = ohe.get_feature_names(['condition'])\n",
    "housing_pred3 = pd.concat([housing_pred2, cond_encoded_ohe], axis = 1)"
   ]
  },
  {
   "cell_type": "code",
   "execution_count": null,
   "metadata": {},
   "outputs": [],
   "source": [
    "bathrooms_ohe = housing_pred[['bathrooms']]\n",
    "ohe = OneHotEncoder(categories='auto', sparse=False, handle_unknown='ignore')\n",
    "bathrooms_transform = ohe.fit_transform(bathrooms_ohe)\n",
    "bathrooms_encoded_ohe = pd.DataFrame(bathrooms_transform, columns=ohe.get_feature_names(['bathrooms']), index=housing_pred.index)\n",
    "housing_pred4 = pd.concat([housing_pred3, bathrooms_encoded_ohe], axis = 1)"
   ]
  },
  {
   "cell_type": "code",
   "execution_count": null,
   "metadata": {},
   "outputs": [],
   "source": [
    "view_ohe = housing_pred[['view']]\n",
    "ohe = OneHotEncoder(categories=\"auto\", sparse=False)\n",
    "ohe.fit(view_ohe)\n",
    "view_encoded = ohe.transform(view_ohe)\n",
    "view_encoded_ohe =pd.DataFrame(view_encoded, columns=ohe.get_feature_names(['view']), index=housing_pred.index)\n",
    "housing_pred5 = pd.concat([housing_pred4, view_encoded_ohe], axis = 1)"
   ]
  },
  {
   "cell_type": "code",
   "execution_count": null,
   "metadata": {},
   "outputs": [],
   "source": [
    "floors_ohe = housing_pred[['floors']]\n",
    "ohe_floors = OneHotEncoder(categories ='auto', sparse =False)\n",
    "ohe_floors.fit(floors_ohe)\n",
    "ohe_floors_encoded = ohe_floors.transform(floors_ohe)\n",
    "floors_encoded_ohe = pd.DataFrame(ohe_floors_encoded, columns = ohe_floors.get_feature_names(['floors']), index = housing_pred.index )\n",
    "housing_pred6 = pd.concat([housing_pred5, floors_encoded_ohe ], axis =1)"
   ]
  },
  {
   "cell_type": "code",
   "execution_count": null,
   "metadata": {},
   "outputs": [],
   "source": [
    "zipcode_ohe = housing_pred[['zipcode']]\n",
    "ohe = OneHotEncoder(categories=\"auto\", sparse=False)\n",
    "ohe.fit(zipcode_ohe)\n",
    "zipcode_encoded = ohe.transform(zipcode_ohe)\n",
    "zipcode_encoded_ohe =pd.DataFrame(zipcode_encoded, columns=ohe.get_feature_names(['zipcode']), index=housing_pred.index)\n",
    "housing_pred_final = pd.concat([housing_pred6, zipcode_encoded_ohe ], axis =1)"
   ]
  },
  {
   "cell_type": "code",
   "execution_count": null,
   "metadata": {},
   "outputs": [],
   "source": [
    "housing_pred_final.columns"
   ]
  },
  {
   "cell_type": "code",
   "execution_count": null,
   "metadata": {},
   "outputs": [],
   "source": [
    "housing_pred_final.drop(['floors', 'bedrooms', 'bathrooms', 'view', 'condition', 'zipcode', 'grade_num'], axis = 1, inplace=True)"
   ]
  },
  {
   "cell_type": "code",
   "execution_count": null,
   "metadata": {},
   "outputs": [],
   "source": [
    "housing_pred_final.columns"
   ]
  }
 ],
 "metadata": {
  "kernelspec": {
   "display_name": "Python 3",
   "language": "python",
   "name": "python3"
  },
  "language_info": {
   "codemirror_mode": {
    "name": "ipython",
    "version": 3
   },
   "file_extension": ".py",
   "mimetype": "text/x-python",
   "name": "python",
   "nbconvert_exporter": "python",
   "pygments_lexer": "ipython3",
   "version": "3.8.5"
  }
 },
 "nbformat": 4,
 "nbformat_minor": 2
}
