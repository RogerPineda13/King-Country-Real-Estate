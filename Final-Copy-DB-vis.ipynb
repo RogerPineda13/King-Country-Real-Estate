{
 "cells": [
  {
   "cell_type": "markdown",
   "metadata": {},
   "source": [
    "## Final Notebook Submission\n",
    "\n",
    "Please fill out:\n",
    "* Student name: \n",
    "* Student pace: self paced / part time / full time\n",
    "* Scheduled project review date/time: \n",
    "* Instructor name: \n",
    "* Blog post URL:\n"
   ]
  },
  {
   "cell_type": "code",
   "execution_count": 1,
   "metadata": {},
   "outputs": [],
   "source": [
    "import pandas as pd\n",
    "import numpy as np\n",
    "import seaborn as sns\n",
    "from sklearn.preprocessing import OneHotEncoder\n",
    "from sklearn.linear_model import LinearRegression\n",
    "from sklearn.metrics import mean_squared_error\n",
    "from sklearn.preprocessing import StandardScaler\n",
    "from sklearn.model_selection import cross_val_score\n",
    "from statsmodels.formula.api import ols\n",
    "from sklearn.impute import SimpleImputer\n",
    "from sklearn.model_selection import train_test_split\n",
    "from sklearn.preprocessing import OrdinalEncoder\n",
    "from sklearn.dummy import DummyRegressor\n",
    "import matplotlib.pyplot as plt\n",
    "import statsmodels.api as sm\n",
    "from scipy import stats\n",
    "%matplotlib inline"
   ]
  },
  {
   "cell_type": "code",
   "execution_count": 2,
   "metadata": {},
   "outputs": [
    {
     "name": "stdout",
     "output_type": "stream",
     "text": [
      "<class 'pandas.core.frame.DataFrame'>\n",
      "RangeIndex: 21597 entries, 0 to 21596\n",
      "Data columns (total 21 columns):\n",
      " #   Column         Non-Null Count  Dtype  \n",
      "---  ------         --------------  -----  \n",
      " 0   id             21597 non-null  int64  \n",
      " 1   date           21597 non-null  object \n",
      " 2   price          21597 non-null  float64\n",
      " 3   bedrooms       21597 non-null  int64  \n",
      " 4   bathrooms      21597 non-null  float64\n",
      " 5   sqft_living    21597 non-null  int64  \n",
      " 6   sqft_lot       21597 non-null  int64  \n",
      " 7   floors         21597 non-null  float64\n",
      " 8   waterfront     19221 non-null  object \n",
      " 9   view           21534 non-null  object \n",
      " 10  condition      21597 non-null  object \n",
      " 11  grade          21597 non-null  object \n",
      " 12  sqft_above     21597 non-null  int64  \n",
      " 13  sqft_basement  21597 non-null  object \n",
      " 14  yr_built       21597 non-null  int64  \n",
      " 15  yr_renovated   17755 non-null  float64\n",
      " 16  zipcode        21597 non-null  int64  \n",
      " 17  lat            21597 non-null  float64\n",
      " 18  long           21597 non-null  float64\n",
      " 19  sqft_living15  21597 non-null  int64  \n",
      " 20  sqft_lot15     21597 non-null  int64  \n",
      "dtypes: float64(6), int64(9), object(6)\n",
      "memory usage: 3.5+ MB\n"
     ]
    }
   ],
   "source": [
    "#Loading in the given data set into variable housing_df\n",
    "housing_df = pd.read_csv('data/kc_house_data.csv')\n",
    "housing_df.info()"
   ]
  },
  {
   "cell_type": "code",
   "execution_count": 3,
   "metadata": {},
   "outputs": [
    {
     "data": {
      "text/plain": [
       "id                  0\n",
       "date                0\n",
       "price               0\n",
       "bedrooms            0\n",
       "bathrooms           0\n",
       "sqft_living         0\n",
       "sqft_lot            0\n",
       "floors              0\n",
       "waterfront       2376\n",
       "view               63\n",
       "condition           0\n",
       "grade               0\n",
       "sqft_above          0\n",
       "sqft_basement       0\n",
       "yr_built            0\n",
       "yr_renovated     3842\n",
       "zipcode             0\n",
       "lat                 0\n",
       "long                0\n",
       "sqft_living15       0\n",
       "sqft_lot15          0\n",
       "dtype: int64"
      ]
     },
     "execution_count": 3,
     "metadata": {},
     "output_type": "execute_result"
    }
   ],
   "source": [
    "# Checking to see if any columns in the dataframe have any NaN values\n",
    "housing_df.isna().sum()"
   ]
  },
  {
   "cell_type": "markdown",
   "metadata": {},
   "source": [
    "We see waterfront, view and yr_renocated columns are the only columns with NaN values."
   ]
  },
  {
   "cell_type": "code",
   "execution_count": 4,
   "metadata": {},
   "outputs": [],
   "source": [
    "# Grabbing the age of the home\n",
    "housing_df['datetime'] = pd.to_datetime(housing_df['date'])\n",
    "housing_df['soldyear'] = housing_df['datetime'].dt.year\n",
    "housing_df['age_when_sold'] = housing_df['soldyear'] - housing_df['yr_built']"
   ]
  },
  {
   "cell_type": "code",
   "execution_count": 5,
   "metadata": {},
   "outputs": [],
   "source": [
    "# Justt getting the numeric values of Graade\n",
    "housing_df['grade_num'] = housing_df['grade'].str.split()\n",
    "housing_df['grade_num'] = housing_df['grade_num'].str[0]\n",
    "housing_df['grade_num'] = housing_df['grade_num'].astype(int)"
   ]
  },
  {
   "cell_type": "code",
   "execution_count": 6,
   "metadata": {},
   "outputs": [],
   "source": [
    "# Creating a new column 'Basement' that will have a value of 1 or 0 in reference to whther a house has a basement or not.\n",
    "housing_df['sqft_basement'] = housing_df['sqft_living'] - housing_df['sqft_above']\n",
    "housing_df['Basement'] = None\n",
    "housing_df['Basement'] = housing_df['sqft_basement'].map(lambda x: False if x == 0 else True)\n",
    "housing_df['Basement'] = housing_df['Basement'].astype(int)"
   ]
  },
  {
   "cell_type": "code",
   "execution_count": 7,
   "metadata": {},
   "outputs": [
    {
     "data": {
      "text/plain": [
       "Average      14020\n",
       "Good          5677\n",
       "Very Good     1701\n",
       "Fair           170\n",
       "Poor            29\n",
       "Name: condition, dtype: int64"
      ]
     },
     "execution_count": 7,
     "metadata": {},
     "output_type": "execute_result"
    }
   ],
   "source": [
    "housing_df.condition.value_counts()"
   ]
  },
  {
   "cell_type": "code",
   "execution_count": 8,
   "metadata": {},
   "outputs": [],
   "source": [
    "# Changing all the values in the 'condition' column to integers.\n",
    "replace_dict2 = {'Poor': 1, 'Fair': 2, 'Average': 3, 'Good': 4, 'Very Good': 5}\n",
    "housing_df['condition'] = housing_df['condition'].replace(replace_dict2)"
   ]
  },
  {
   "cell_type": "code",
   "execution_count": 9,
   "metadata": {},
   "outputs": [],
   "source": [
    "wtr_col = housing_df[['waterfront']]\n",
    "imputer = SimpleImputer(strategy='constant', fill_value = 'NO')\n",
    "imputer.fit(wtr_col)\n",
    "waterfront_imputed = imputer.transform(wtr_col)\n",
    "housing_df.waterfront = waterfront_imputed"
   ]
  },
  {
   "cell_type": "code",
   "execution_count": 10,
   "metadata": {},
   "outputs": [],
   "source": [
    "wtr_col = housing_df[['waterfront']]\n",
    "encoder_wtr = OrdinalEncoder()\n",
    "encoder_wtr.fit(wtr_col)\n",
    "encoded_wtr = encoder_wtr.transform(wtr_col)\n",
    "encoded_wtr = encoded_wtr.flatten()\n",
    "housing_df.waterfront = encoded_wtr"
   ]
  },
  {
   "cell_type": "code",
   "execution_count": 11,
   "metadata": {},
   "outputs": [],
   "source": [
    "view_col = housing_df[['view']]\n",
    "imputer = SimpleImputer(strategy='constant', fill_value = 'NONE')\n",
    "imputer.fit(view_col)\n",
    "view_imputed = imputer.transform(view_col)\n",
    "housing_df.view = view_imputed"
   ]
  },
  {
   "cell_type": "code",
   "execution_count": 12,
   "metadata": {},
   "outputs": [
    {
     "data": {
      "text/plain": [
       "id                  0\n",
       "date                0\n",
       "price               0\n",
       "bedrooms            0\n",
       "bathrooms           0\n",
       "sqft_living         0\n",
       "sqft_lot            0\n",
       "floors              0\n",
       "waterfront          0\n",
       "view                0\n",
       "condition           0\n",
       "grade               0\n",
       "sqft_above          0\n",
       "sqft_basement       0\n",
       "yr_built            0\n",
       "yr_renovated     3842\n",
       "zipcode             0\n",
       "lat                 0\n",
       "long                0\n",
       "sqft_living15       0\n",
       "sqft_lot15          0\n",
       "datetime            0\n",
       "soldyear            0\n",
       "age_when_sold       0\n",
       "grade_num           0\n",
       "Basement            0\n",
       "dtype: int64"
      ]
     },
     "execution_count": 12,
     "metadata": {},
     "output_type": "execute_result"
    }
   ],
   "source": [
    "housing_df.isna().sum()"
   ]
  },
  {
   "cell_type": "markdown",
   "metadata": {},
   "source": [
    "We don't see much usage in certain columns or we have already used the column information to its max and will no longer be needing them."
   ]
  },
  {
   "cell_type": "code",
   "execution_count": 13,
   "metadata": {},
   "outputs": [],
   "source": [
    "housing_ols = housing_df.drop(['datetime', 'date', 'soldyear', 'yr_built', 'lat', 'long',\n",
    " 'sqft_above', 'sqft_lot15', 'sqft_living15', 'grade', 'sqft_above', 'sqft_basement', 'yr_renovated'], axis = 1)"
   ]
  },
  {
   "cell_type": "code",
   "execution_count": 14,
   "metadata": {
    "scrolled": true
   },
   "outputs": [
    {
     "data": {
      "text/html": [
       "<div>\n",
       "<style scoped>\n",
       "    .dataframe tbody tr th:only-of-type {\n",
       "        vertical-align: middle;\n",
       "    }\n",
       "\n",
       "    .dataframe tbody tr th {\n",
       "        vertical-align: top;\n",
       "    }\n",
       "\n",
       "    .dataframe thead th {\n",
       "        text-align: right;\n",
       "    }\n",
       "</style>\n",
       "<table border=\"1\" class=\"dataframe\">\n",
       "  <thead>\n",
       "    <tr style=\"text-align: right;\">\n",
       "      <th></th>\n",
       "      <th>id</th>\n",
       "      <th>price</th>\n",
       "      <th>bedrooms</th>\n",
       "      <th>bathrooms</th>\n",
       "      <th>sqft_living</th>\n",
       "      <th>sqft_lot</th>\n",
       "      <th>floors</th>\n",
       "      <th>waterfront</th>\n",
       "      <th>view</th>\n",
       "      <th>condition</th>\n",
       "      <th>zipcode</th>\n",
       "      <th>age_when_sold</th>\n",
       "      <th>grade_num</th>\n",
       "      <th>Basement</th>\n",
       "    </tr>\n",
       "  </thead>\n",
       "  <tbody>\n",
       "    <tr>\n",
       "      <th>0</th>\n",
       "      <td>7129300520</td>\n",
       "      <td>221900.0</td>\n",
       "      <td>3</td>\n",
       "      <td>1.00</td>\n",
       "      <td>1180</td>\n",
       "      <td>5650</td>\n",
       "      <td>1.0</td>\n",
       "      <td>0.0</td>\n",
       "      <td>NONE</td>\n",
       "      <td>3</td>\n",
       "      <td>98178</td>\n",
       "      <td>59</td>\n",
       "      <td>7</td>\n",
       "      <td>0</td>\n",
       "    </tr>\n",
       "    <tr>\n",
       "      <th>1</th>\n",
       "      <td>6414100192</td>\n",
       "      <td>538000.0</td>\n",
       "      <td>3</td>\n",
       "      <td>2.25</td>\n",
       "      <td>2570</td>\n",
       "      <td>7242</td>\n",
       "      <td>2.0</td>\n",
       "      <td>0.0</td>\n",
       "      <td>NONE</td>\n",
       "      <td>3</td>\n",
       "      <td>98125</td>\n",
       "      <td>63</td>\n",
       "      <td>7</td>\n",
       "      <td>1</td>\n",
       "    </tr>\n",
       "    <tr>\n",
       "      <th>2</th>\n",
       "      <td>5631500400</td>\n",
       "      <td>180000.0</td>\n",
       "      <td>2</td>\n",
       "      <td>1.00</td>\n",
       "      <td>770</td>\n",
       "      <td>10000</td>\n",
       "      <td>1.0</td>\n",
       "      <td>0.0</td>\n",
       "      <td>NONE</td>\n",
       "      <td>3</td>\n",
       "      <td>98028</td>\n",
       "      <td>82</td>\n",
       "      <td>6</td>\n",
       "      <td>0</td>\n",
       "    </tr>\n",
       "    <tr>\n",
       "      <th>3</th>\n",
       "      <td>2487200875</td>\n",
       "      <td>604000.0</td>\n",
       "      <td>4</td>\n",
       "      <td>3.00</td>\n",
       "      <td>1960</td>\n",
       "      <td>5000</td>\n",
       "      <td>1.0</td>\n",
       "      <td>0.0</td>\n",
       "      <td>NONE</td>\n",
       "      <td>5</td>\n",
       "      <td>98136</td>\n",
       "      <td>49</td>\n",
       "      <td>7</td>\n",
       "      <td>1</td>\n",
       "    </tr>\n",
       "    <tr>\n",
       "      <th>4</th>\n",
       "      <td>1954400510</td>\n",
       "      <td>510000.0</td>\n",
       "      <td>3</td>\n",
       "      <td>2.00</td>\n",
       "      <td>1680</td>\n",
       "      <td>8080</td>\n",
       "      <td>1.0</td>\n",
       "      <td>0.0</td>\n",
       "      <td>NONE</td>\n",
       "      <td>3</td>\n",
       "      <td>98074</td>\n",
       "      <td>28</td>\n",
       "      <td>8</td>\n",
       "      <td>0</td>\n",
       "    </tr>\n",
       "    <tr>\n",
       "      <th>...</th>\n",
       "      <td>...</td>\n",
       "      <td>...</td>\n",
       "      <td>...</td>\n",
       "      <td>...</td>\n",
       "      <td>...</td>\n",
       "      <td>...</td>\n",
       "      <td>...</td>\n",
       "      <td>...</td>\n",
       "      <td>...</td>\n",
       "      <td>...</td>\n",
       "      <td>...</td>\n",
       "      <td>...</td>\n",
       "      <td>...</td>\n",
       "      <td>...</td>\n",
       "    </tr>\n",
       "    <tr>\n",
       "      <th>21592</th>\n",
       "      <td>263000018</td>\n",
       "      <td>360000.0</td>\n",
       "      <td>3</td>\n",
       "      <td>2.50</td>\n",
       "      <td>1530</td>\n",
       "      <td>1131</td>\n",
       "      <td>3.0</td>\n",
       "      <td>0.0</td>\n",
       "      <td>NONE</td>\n",
       "      <td>3</td>\n",
       "      <td>98103</td>\n",
       "      <td>5</td>\n",
       "      <td>8</td>\n",
       "      <td>0</td>\n",
       "    </tr>\n",
       "    <tr>\n",
       "      <th>21593</th>\n",
       "      <td>6600060120</td>\n",
       "      <td>400000.0</td>\n",
       "      <td>4</td>\n",
       "      <td>2.50</td>\n",
       "      <td>2310</td>\n",
       "      <td>5813</td>\n",
       "      <td>2.0</td>\n",
       "      <td>0.0</td>\n",
       "      <td>NONE</td>\n",
       "      <td>3</td>\n",
       "      <td>98146</td>\n",
       "      <td>1</td>\n",
       "      <td>8</td>\n",
       "      <td>0</td>\n",
       "    </tr>\n",
       "    <tr>\n",
       "      <th>21594</th>\n",
       "      <td>1523300141</td>\n",
       "      <td>402101.0</td>\n",
       "      <td>2</td>\n",
       "      <td>0.75</td>\n",
       "      <td>1020</td>\n",
       "      <td>1350</td>\n",
       "      <td>2.0</td>\n",
       "      <td>0.0</td>\n",
       "      <td>NONE</td>\n",
       "      <td>3</td>\n",
       "      <td>98144</td>\n",
       "      <td>5</td>\n",
       "      <td>7</td>\n",
       "      <td>0</td>\n",
       "    </tr>\n",
       "    <tr>\n",
       "      <th>21595</th>\n",
       "      <td>291310100</td>\n",
       "      <td>400000.0</td>\n",
       "      <td>3</td>\n",
       "      <td>2.50</td>\n",
       "      <td>1600</td>\n",
       "      <td>2388</td>\n",
       "      <td>2.0</td>\n",
       "      <td>0.0</td>\n",
       "      <td>NONE</td>\n",
       "      <td>3</td>\n",
       "      <td>98027</td>\n",
       "      <td>11</td>\n",
       "      <td>8</td>\n",
       "      <td>0</td>\n",
       "    </tr>\n",
       "    <tr>\n",
       "      <th>21596</th>\n",
       "      <td>1523300157</td>\n",
       "      <td>325000.0</td>\n",
       "      <td>2</td>\n",
       "      <td>0.75</td>\n",
       "      <td>1020</td>\n",
       "      <td>1076</td>\n",
       "      <td>2.0</td>\n",
       "      <td>0.0</td>\n",
       "      <td>NONE</td>\n",
       "      <td>3</td>\n",
       "      <td>98144</td>\n",
       "      <td>6</td>\n",
       "      <td>7</td>\n",
       "      <td>0</td>\n",
       "    </tr>\n",
       "  </tbody>\n",
       "</table>\n",
       "<p>21597 rows × 14 columns</p>\n",
       "</div>"
      ],
      "text/plain": [
       "               id     price  bedrooms  bathrooms  sqft_living  sqft_lot  \\\n",
       "0      7129300520  221900.0         3       1.00         1180      5650   \n",
       "1      6414100192  538000.0         3       2.25         2570      7242   \n",
       "2      5631500400  180000.0         2       1.00          770     10000   \n",
       "3      2487200875  604000.0         4       3.00         1960      5000   \n",
       "4      1954400510  510000.0         3       2.00         1680      8080   \n",
       "...           ...       ...       ...        ...          ...       ...   \n",
       "21592   263000018  360000.0         3       2.50         1530      1131   \n",
       "21593  6600060120  400000.0         4       2.50         2310      5813   \n",
       "21594  1523300141  402101.0         2       0.75         1020      1350   \n",
       "21595   291310100  400000.0         3       2.50         1600      2388   \n",
       "21596  1523300157  325000.0         2       0.75         1020      1076   \n",
       "\n",
       "       floors  waterfront  view  condition  zipcode  age_when_sold  grade_num  \\\n",
       "0         1.0         0.0  NONE          3    98178             59          7   \n",
       "1         2.0         0.0  NONE          3    98125             63          7   \n",
       "2         1.0         0.0  NONE          3    98028             82          6   \n",
       "3         1.0         0.0  NONE          5    98136             49          7   \n",
       "4         1.0         0.0  NONE          3    98074             28          8   \n",
       "...       ...         ...   ...        ...      ...            ...        ...   \n",
       "21592     3.0         0.0  NONE          3    98103              5          8   \n",
       "21593     2.0         0.0  NONE          3    98146              1          8   \n",
       "21594     2.0         0.0  NONE          3    98144              5          7   \n",
       "21595     2.0         0.0  NONE          3    98027             11          8   \n",
       "21596     2.0         0.0  NONE          3    98144              6          7   \n",
       "\n",
       "       Basement  \n",
       "0             0  \n",
       "1             1  \n",
       "2             0  \n",
       "3             1  \n",
       "4             0  \n",
       "...         ...  \n",
       "21592         0  \n",
       "21593         0  \n",
       "21594         0  \n",
       "21595         0  \n",
       "21596         0  \n",
       "\n",
       "[21597 rows x 14 columns]"
      ]
     },
     "execution_count": 14,
     "metadata": {},
     "output_type": "execute_result"
    }
   ],
   "source": [
    "housing_ols"
   ]
  },
  {
   "cell_type": "markdown",
   "metadata": {},
   "source": [
    "With new working dataframe we want to see how the remaining columns correlates to our target,price, as well as to other columns to check for collinearity"
   ]
  },
  {
   "cell_type": "code",
   "execution_count": 15,
   "metadata": {
    "scrolled": true
   },
   "outputs": [
    {
     "data": {
      "text/plain": [
       "<AxesSubplot:>"
      ]
     },
     "execution_count": 15,
     "metadata": {},
     "output_type": "execute_result"
    },
    {
     "data": {
      "image/png": "[encoded data removed]",
      "text/plain": [
       "<Figure size 432x288 with 1 Axes>"
      ]
     },
     "metadata": {
      "needs_background": "light"
     },
     "output_type": "display_data"
    }
   ],
   "source": [
    "housing_ols['view'].hist(bins = \"auto\", color = 'b')"
   ]
  },
  {
   "cell_type": "code",
   "execution_count": 16,
   "metadata": {},
   "outputs": [
    {
     "data": {
      "text/plain": [
       "0.0    21451\n",
       "1.0      146\n",
       "Name: waterfront, dtype: int64"
      ]
     },
     "execution_count": 16,
     "metadata": {},
     "output_type": "execute_result"
    }
   ],
   "source": [
    "housing_ols['waterfront'].value_counts()"
   ]
  },
  {
   "cell_type": "code",
   "execution_count": 17,
   "metadata": {
    "scrolled": true
   },
   "outputs": [
    {
     "data": {
      "text/html": [
       "<div>\n",
       "<style scoped>\n",
       "    .dataframe tbody tr th:only-of-type {\n",
       "        vertical-align: middle;\n",
       "    }\n",
       "\n",
       "    .dataframe tbody tr th {\n",
       "        vertical-align: top;\n",
       "    }\n",
       "\n",
       "    .dataframe thead th {\n",
       "        text-align: right;\n",
       "    }\n",
       "</style>\n",
       "<table border=\"1\" class=\"dataframe\">\n",
       "  <thead>\n",
       "    <tr style=\"text-align: right;\">\n",
       "      <th></th>\n",
       "      <th>id</th>\n",
       "      <th>price</th>\n",
       "      <th>bedrooms</th>\n",
       "      <th>bathrooms</th>\n",
       "      <th>sqft_living</th>\n",
       "      <th>sqft_lot</th>\n",
       "      <th>floors</th>\n",
       "      <th>waterfront</th>\n",
       "      <th>condition</th>\n",
       "      <th>zipcode</th>\n",
       "      <th>age_when_sold</th>\n",
       "      <th>grade_num</th>\n",
       "      <th>Basement</th>\n",
       "    </tr>\n",
       "  </thead>\n",
       "  <tbody>\n",
       "    <tr>\n",
       "      <th>id</th>\n",
       "      <td>1.000000</td>\n",
       "      <td>-0.016772</td>\n",
       "      <td>0.001150</td>\n",
       "      <td>0.005162</td>\n",
       "      <td>-0.012241</td>\n",
       "      <td>-0.131911</td>\n",
       "      <td>0.018608</td>\n",
       "      <td>-0.003599</td>\n",
       "      <td>-0.023803</td>\n",
       "      <td>-0.008211</td>\n",
       "      <td>-0.021458</td>\n",
       "      <td>0.008188</td>\n",
       "      <td>0.002585</td>\n",
       "    </tr>\n",
       "    <tr>\n",
       "      <th>price</th>\n",
       "      <td>-0.016772</td>\n",
       "      <td>1.000000</td>\n",
       "      <td>0.308787</td>\n",
       "      <td>0.525906</td>\n",
       "      <td>0.701917</td>\n",
       "      <td>0.089876</td>\n",
       "      <td>0.256804</td>\n",
       "      <td>0.264306</td>\n",
       "      <td>0.036056</td>\n",
       "      <td>-0.053402</td>\n",
       "      <td>-0.053890</td>\n",
       "      <td>0.667951</td>\n",
       "      <td>0.180082</td>\n",
       "    </tr>\n",
       "    <tr>\n",
       "      <th>bedrooms</th>\n",
       "      <td>0.001150</td>\n",
       "      <td>0.308787</td>\n",
       "      <td>1.000000</td>\n",
       "      <td>0.514508</td>\n",
       "      <td>0.578212</td>\n",
       "      <td>0.032471</td>\n",
       "      <td>0.177944</td>\n",
       "      <td>-0.002127</td>\n",
       "      <td>0.026496</td>\n",
       "      <td>-0.154092</td>\n",
       "      <td>-0.155817</td>\n",
       "      <td>0.356563</td>\n",
       "      <td>0.162186</td>\n",
       "    </tr>\n",
       "    <tr>\n",
       "      <th>bathrooms</th>\n",
       "      <td>0.005162</td>\n",
       "      <td>0.525906</td>\n",
       "      <td>0.514508</td>\n",
       "      <td>1.000000</td>\n",
       "      <td>0.755758</td>\n",
       "      <td>0.088373</td>\n",
       "      <td>0.502582</td>\n",
       "      <td>0.063629</td>\n",
       "      <td>-0.126479</td>\n",
       "      <td>-0.204786</td>\n",
       "      <td>-0.507561</td>\n",
       "      <td>0.665838</td>\n",
       "      <td>0.162766</td>\n",
       "    </tr>\n",
       "    <tr>\n",
       "      <th>sqft_living</th>\n",
       "      <td>-0.012241</td>\n",
       "      <td>0.701917</td>\n",
       "      <td>0.578212</td>\n",
       "      <td>0.755758</td>\n",
       "      <td>1.000000</td>\n",
       "      <td>0.173453</td>\n",
       "      <td>0.353953</td>\n",
       "      <td>0.104637</td>\n",
       "      <td>-0.059445</td>\n",
       "      <td>-0.199802</td>\n",
       "      <td>-0.318592</td>\n",
       "      <td>0.762779</td>\n",
       "      <td>0.204324</td>\n",
       "    </tr>\n",
       "    <tr>\n",
       "      <th>sqft_lot</th>\n",
       "      <td>-0.131911</td>\n",
       "      <td>0.089876</td>\n",
       "      <td>0.032471</td>\n",
       "      <td>0.088373</td>\n",
       "      <td>0.173453</td>\n",
       "      <td>1.000000</td>\n",
       "      <td>-0.004814</td>\n",
       "      <td>0.021459</td>\n",
       "      <td>-0.008830</td>\n",
       "      <td>-0.129586</td>\n",
       "      <td>-0.052853</td>\n",
       "      <td>0.114731</td>\n",
       "      <td>-0.035227</td>\n",
       "    </tr>\n",
       "    <tr>\n",
       "      <th>floors</th>\n",
       "      <td>0.018608</td>\n",
       "      <td>0.256804</td>\n",
       "      <td>0.177944</td>\n",
       "      <td>0.502582</td>\n",
       "      <td>0.353953</td>\n",
       "      <td>-0.004814</td>\n",
       "      <td>1.000000</td>\n",
       "      <td>0.020797</td>\n",
       "      <td>-0.264075</td>\n",
       "      <td>-0.059541</td>\n",
       "      <td>-0.489514</td>\n",
       "      <td>0.458794</td>\n",
       "      <td>-0.256545</td>\n",
       "    </tr>\n",
       "    <tr>\n",
       "      <th>waterfront</th>\n",
       "      <td>-0.003599</td>\n",
       "      <td>0.264306</td>\n",
       "      <td>-0.002127</td>\n",
       "      <td>0.063629</td>\n",
       "      <td>0.104637</td>\n",
       "      <td>0.021459</td>\n",
       "      <td>0.020797</td>\n",
       "      <td>1.000000</td>\n",
       "      <td>0.016648</td>\n",
       "      <td>0.028923</td>\n",
       "      <td>0.024406</td>\n",
       "      <td>0.082818</td>\n",
       "      <td>0.040061</td>\n",
       "    </tr>\n",
       "    <tr>\n",
       "      <th>condition</th>\n",
       "      <td>-0.023803</td>\n",
       "      <td>0.036056</td>\n",
       "      <td>0.026496</td>\n",
       "      <td>-0.126479</td>\n",
       "      <td>-0.059445</td>\n",
       "      <td>-0.008830</td>\n",
       "      <td>-0.264075</td>\n",
       "      <td>0.016648</td>\n",
       "      <td>1.000000</td>\n",
       "      <td>0.002888</td>\n",
       "      <td>0.360836</td>\n",
       "      <td>-0.146896</td>\n",
       "      <td>0.135211</td>\n",
       "    </tr>\n",
       "    <tr>\n",
       "      <th>zipcode</th>\n",
       "      <td>-0.008211</td>\n",
       "      <td>-0.053402</td>\n",
       "      <td>-0.154092</td>\n",
       "      <td>-0.204786</td>\n",
       "      <td>-0.199802</td>\n",
       "      <td>-0.129586</td>\n",
       "      <td>-0.059541</td>\n",
       "      <td>0.028923</td>\n",
       "      <td>0.002888</td>\n",
       "      <td>1.000000</td>\n",
       "      <td>0.347206</td>\n",
       "      <td>-0.185771</td>\n",
       "      <td>0.162861</td>\n",
       "    </tr>\n",
       "    <tr>\n",
       "      <th>age_when_sold</th>\n",
       "      <td>-0.021458</td>\n",
       "      <td>-0.053890</td>\n",
       "      <td>-0.155817</td>\n",
       "      <td>-0.507561</td>\n",
       "      <td>-0.318592</td>\n",
       "      <td>-0.052853</td>\n",
       "      <td>-0.489514</td>\n",
       "      <td>0.024406</td>\n",
       "      <td>0.360836</td>\n",
       "      <td>0.347206</td>\n",
       "      <td>1.000000</td>\n",
       "      <td>-0.448322</td>\n",
       "      <td>0.167723</td>\n",
       "    </tr>\n",
       "    <tr>\n",
       "      <th>grade_num</th>\n",
       "      <td>0.008188</td>\n",
       "      <td>0.667951</td>\n",
       "      <td>0.356563</td>\n",
       "      <td>0.665838</td>\n",
       "      <td>0.762779</td>\n",
       "      <td>0.114731</td>\n",
       "      <td>0.458794</td>\n",
       "      <td>0.082818</td>\n",
       "      <td>-0.146896</td>\n",
       "      <td>-0.185771</td>\n",
       "      <td>-0.448322</td>\n",
       "      <td>1.000000</td>\n",
       "      <td>0.051255</td>\n",
       "    </tr>\n",
       "    <tr>\n",
       "      <th>Basement</th>\n",
       "      <td>0.002585</td>\n",
       "      <td>0.180082</td>\n",
       "      <td>0.162186</td>\n",
       "      <td>0.162766</td>\n",
       "      <td>0.204324</td>\n",
       "      <td>-0.035227</td>\n",
       "      <td>-0.256545</td>\n",
       "      <td>0.040061</td>\n",
       "      <td>0.135211</td>\n",
       "      <td>0.162861</td>\n",
       "      <td>0.167723</td>\n",
       "      <td>0.051255</td>\n",
       "      <td>1.000000</td>\n",
       "    </tr>\n",
       "  </tbody>\n",
       "</table>\n",
       "</div>"
      ],
      "text/plain": [
       "                     id     price  bedrooms  bathrooms  sqft_living  sqft_lot  \\\n",
       "id             1.000000 -0.016772  0.001150   0.005162    -0.012241 -0.131911   \n",
       "price         -0.016772  1.000000  0.308787   0.525906     0.701917  0.089876   \n",
       "bedrooms       0.001150  0.308787  1.000000   0.514508     0.578212  0.032471   \n",
       "bathrooms      0.005162  0.525906  0.514508   1.000000     0.755758  0.088373   \n",
       "sqft_living   -0.012241  0.701917  0.578212   0.755758     1.000000  0.173453   \n",
       "sqft_lot      -0.131911  0.089876  0.032471   0.088373     0.173453  1.000000   \n",
       "floors         0.018608  0.256804  0.177944   0.502582     0.353953 -0.004814   \n",
       "waterfront    -0.003599  0.264306 -0.002127   0.063629     0.104637  0.021459   \n",
       "condition     -0.023803  0.036056  0.026496  -0.126479    -0.059445 -0.008830   \n",
       "zipcode       -0.008211 -0.053402 -0.154092  -0.204786    -0.199802 -0.129586   \n",
       "age_when_sold -0.021458 -0.053890 -0.155817  -0.507561    -0.318592 -0.052853   \n",
       "grade_num      0.008188  0.667951  0.356563   0.665838     0.762779  0.114731   \n",
       "Basement       0.002585  0.180082  0.162186   0.162766     0.204324 -0.035227   \n",
       "\n",
       "                 floors  waterfront  condition   zipcode  age_when_sold  \\\n",
       "id             0.018608   -0.003599  -0.023803 -0.008211      -0.021458   \n",
       "price          0.256804    0.264306   0.036056 -0.053402      -0.053890   \n",
       "bedrooms       0.177944   -0.002127   0.026496 -0.154092      -0.155817   \n",
       "bathrooms      0.502582    0.063629  -0.126479 -0.204786      -0.507561   \n",
       "sqft_living    0.353953    0.104637  -0.059445 -0.199802      -0.318592   \n",
       "sqft_lot      -0.004814    0.021459  -0.008830 -0.129586      -0.052853   \n",
       "floors         1.000000    0.020797  -0.264075 -0.059541      -0.489514   \n",
       "waterfront     0.020797    1.000000   0.016648  0.028923       0.024406   \n",
       "condition     -0.264075    0.016648   1.000000  0.002888       0.360836   \n",
       "zipcode       -0.059541    0.028923   0.002888  1.000000       0.347206   \n",
       "age_when_sold -0.489514    0.024406   0.360836  0.347206       1.000000   \n",
       "grade_num      0.458794    0.082818  -0.146896 -0.185771      -0.448322   \n",
       "Basement      -0.256545    0.040061   0.135211  0.162861       0.167723   \n",
       "\n",
       "               grade_num  Basement  \n",
       "id              0.008188  0.002585  \n",
       "price           0.667951  0.180082  \n",
       "bedrooms        0.356563  0.162186  \n",
       "bathrooms       0.665838  0.162766  \n",
       "sqft_living     0.762779  0.204324  \n",
       "sqft_lot        0.114731 -0.035227  \n",
       "floors          0.458794 -0.256545  \n",
       "waterfront      0.082818  0.040061  \n",
       "condition      -0.146896  0.135211  \n",
       "zipcode        -0.185771  0.162861  \n",
       "age_when_sold  -0.448322  0.167723  \n",
       "grade_num       1.000000  0.051255  \n",
       "Basement        0.051255  1.000000  "
      ]
     },
     "execution_count": 17,
     "metadata": {},
     "output_type": "execute_result"
    }
   ],
   "source": [
    "housing_ols.corr()"
   ]
  },
  {
   "cell_type": "code",
   "execution_count": 18,
   "metadata": {
    "scrolled": true
   },
   "outputs": [
    {
     "data": {
      "image/png": "[encoded data removed]",
      "text/plain": [
       "<Figure size 1080x1080 with 12 Axes>"
      ]
     },
     "metadata": {
      "needs_background": "light"
     },
     "output_type": "display_data"
    }
   ],
   "source": [
    "#Visually inspecting all columns association with price\n",
    "fig, (axes1, axes2, axes3, axes4) = plt.subplots(nrows=4, ncols=3, figsize=(15,15))\n",
    "for xcol, ax in zip(['bedrooms', 'bathrooms', 'sqft_living'], axes1):\n",
    "    housing_ols.plot(kind='scatter', x=xcol, y='price', ax=ax, alpha=0.4, color='b')\n",
    "for xcols, axs in zip(['sqft_lot', 'floors', 'view'], axes2):\n",
    "    housing_ols.plot(kind='scatter', x=xcols, y='price', ax=axs, alpha=0.4, color='b')\n",
    "for xcolss, axss in zip(['condition', 'age_when_sold', 'grade_num'], axes3):\n",
    "    housing_ols.plot(kind='scatter', x=xcolss, y='price', ax=axss, alpha=0.4, color='b')\n",
    "for xcolss, axss in zip(['waterfront', 'Basement'], axes4):\n",
    "    housing_ols.plot(kind='scatter', x=xcolss, y='price', ax=axss, alpha=0.4, color='b')"
   ]
  },
  {
   "cell_type": "markdown",
   "metadata": {},
   "source": [
    "Many other columns are deemed as categorical values so with OneHotEncoder we will make columns for each of the categories found within each column and concat them all into one dataframe."
   ]
  },
  {
   "cell_type": "code",
   "execution_count": 19,
   "metadata": {},
   "outputs": [],
   "source": [
    "housing_pred = housing_ols.copy()\n",
    "bedrooms_ohe = housing_pred[['bedrooms']]\n",
    "ohe_bedrooms = OneHotEncoder(categories ='auto', sparse =False)\n",
    "ohe_bedrooms.fit(bedrooms_ohe)\n",
    "ohe_bedrooms_encoded = ohe_bedrooms.transform(bedrooms_ohe)\n",
    "bedrooms_encoded_ohe = pd.DataFrame(ohe_bedrooms_encoded, columns = ohe_bedrooms.get_feature_names(['bedrooms']), index = housing_pred.index )\n",
    "housing_pred1 = pd.concat([housing_pred, bedrooms_encoded_ohe ], axis =1)"
   ]
  },
  {
   "cell_type": "code",
   "execution_count": 20,
   "metadata": {},
   "outputs": [],
   "source": [
    "grade_num_ohe = housing_pred[['grade_num']]\n",
    "ohe_grade_num = OneHotEncoder(categories ='auto', sparse =False)\n",
    "ohe_grade_num.fit(grade_num_ohe)\n",
    "ohe_grade_num_encoded = ohe_grade_num.transform(grade_num_ohe)\n",
    "grade_num_encoded_ohe = pd.DataFrame(ohe_grade_num_encoded, columns = ohe_grade_num.get_feature_names(['grade_num']), index = housing_pred.index )\n",
    "housing_pred2 = pd.concat([housing_pred1, grade_num_encoded_ohe], axis =1)"
   ]
  },
  {
   "cell_type": "code",
   "execution_count": 21,
   "metadata": {},
   "outputs": [],
   "source": [
    "condition_ohe = housing_pred[['condition']]\n",
    "ohe = OneHotEncoder(categories=\"auto\", sparse=False)\n",
    "cond_encoded_ohe = pd.DataFrame (ohe.fit_transform(condition_ohe))\n",
    "cond_encoded_ohe.columns = ohe.get_feature_names(['condition'])\n",
    "housing_pred3 = pd.concat([housing_pred2, cond_encoded_ohe], axis = 1)"
   ]
  },
  {
   "cell_type": "code",
   "execution_count": 22,
   "metadata": {},
   "outputs": [],
   "source": [
    "bathrooms_ohe = housing_pred[['bathrooms']]\n",
    "ohe = OneHotEncoder(categories='auto', sparse=False, handle_unknown='ignore')\n",
    "bathrooms_transform = ohe.fit_transform(bathrooms_ohe)\n",
    "bathrooms_encoded_ohe = pd.DataFrame(bathrooms_transform, columns=ohe.get_feature_names(['bathrooms']), index=housing_pred.index)\n",
    "housing_pred4 = pd.concat([housing_pred3, bathrooms_encoded_ohe], axis = 1)"
   ]
  },
  {
   "cell_type": "code",
   "execution_count": 23,
   "metadata": {},
   "outputs": [],
   "source": [
    "view_ohe = housing_pred[['view']]\n",
    "ohe = OneHotEncoder(categories=\"auto\", sparse=False)\n",
    "ohe.fit(view_ohe)\n",
    "view_encoded = ohe.transform(view_ohe)\n",
    "view_encoded_ohe =pd.DataFrame(view_encoded, columns=ohe.get_feature_names(['view']), index=housing_pred.index)\n",
    "housing_pred5 = pd.concat([housing_pred4, view_encoded_ohe], axis = 1)"
   ]
  },
  {
   "cell_type": "code",
   "execution_count": 24,
   "metadata": {},
   "outputs": [],
   "source": [
    "floors_ohe = housing_pred[['floors']]\n",
    "ohe_floors = OneHotEncoder(categories ='auto', sparse =False)\n",
    "ohe_floors.fit(floors_ohe)\n",
    "ohe_floors_encoded = ohe_floors.transform(floors_ohe)\n",
    "floors_encoded_ohe = pd.DataFrame(ohe_floors_encoded, columns = ohe_floors.get_feature_names(['floors']), index = housing_pred.index )\n",
    "housing_pred6 = pd.concat([housing_pred5, floors_encoded_ohe ], axis =1)"
   ]
  },
  {
   "cell_type": "code",
   "execution_count": 25,
   "metadata": {},
   "outputs": [],
   "source": [
    "zipcode_ohe = housing_pred[['zipcode']]\n",
    "ohe = OneHotEncoder(categories=\"auto\", sparse=False)\n",
    "ohe.fit(zipcode_ohe)\n",
    "zipcode_encoded = ohe.transform(zipcode_ohe)\n",
    "zipcode_encoded_ohe =pd.DataFrame(zipcode_encoded, columns=ohe.get_feature_names(['zipcode']), index=housing_pred.index)\n",
    "housing_pred_final = pd.concat([housing_pred6, zipcode_encoded_ohe ], axis =1)"
   ]
  },
  {
   "cell_type": "code",
   "execution_count": 26,
   "metadata": {
    "scrolled": true
   },
   "outputs": [
    {
     "data": {
      "text/plain": [
       "Index(['id', 'price', 'bedrooms', 'bathrooms', 'sqft_living', 'sqft_lot',\n",
       "       'floors', 'waterfront', 'view', 'condition',\n",
       "       ...\n",
       "       'zipcode_98146', 'zipcode_98148', 'zipcode_98155', 'zipcode_98166',\n",
       "       'zipcode_98168', 'zipcode_98177', 'zipcode_98178', 'zipcode_98188',\n",
       "       'zipcode_98198', 'zipcode_98199'],\n",
       "      dtype='object', length=152)"
      ]
     },
     "execution_count": 26,
     "metadata": {},
     "output_type": "execute_result"
    }
   ],
   "source": [
    "housing_pred_final.columns"
   ]
  },
  {
   "cell_type": "code",
   "execution_count": 27,
   "metadata": {},
   "outputs": [],
   "source": [
    "# Final dataframe after dealing with the catgoricals and dropping the original columns.\n",
    "housing_pred_final.drop(['id', 'floors', 'bedrooms', 'bathrooms', 'view', 'condition', 'zipcode', 'grade_num'], axis = 1, inplace=True)"
   ]
  },
  {
   "cell_type": "markdown",
   "metadata": {},
   "source": [
    "After creating new columns from OneHotEncoding many of the original columns we want to see if this will impact the correlation chart in reference to price."
   ]
  },
  {
   "cell_type": "code",
   "execution_count": 28,
   "metadata": {
    "scrolled": true
   },
   "outputs": [
    {
     "data": {
      "text/html": [
       "<div>\n",
       "<style scoped>\n",
       "    .dataframe tbody tr th:only-of-type {\n",
       "        vertical-align: middle;\n",
       "    }\n",
       "\n",
       "    .dataframe tbody tr th {\n",
       "        vertical-align: top;\n",
       "    }\n",
       "\n",
       "    .dataframe thead th {\n",
       "        text-align: right;\n",
       "    }\n",
       "</style>\n",
       "<table border=\"1\" class=\"dataframe\">\n",
       "  <thead>\n",
       "    <tr style=\"text-align: right;\">\n",
       "      <th></th>\n",
       "      <th>price</th>\n",
       "      <th>sqft_living</th>\n",
       "      <th>sqft_lot</th>\n",
       "      <th>waterfront</th>\n",
       "      <th>age_when_sold</th>\n",
       "      <th>Basement</th>\n",
       "      <th>bedrooms_1</th>\n",
       "      <th>bedrooms_2</th>\n",
       "      <th>bedrooms_3</th>\n",
       "      <th>bedrooms_4</th>\n",
       "      <th>...</th>\n",
       "      <th>zipcode_98146</th>\n",
       "      <th>zipcode_98148</th>\n",
       "      <th>zipcode_98155</th>\n",
       "      <th>zipcode_98166</th>\n",
       "      <th>zipcode_98168</th>\n",
       "      <th>zipcode_98177</th>\n",
       "      <th>zipcode_98178</th>\n",
       "      <th>zipcode_98188</th>\n",
       "      <th>zipcode_98198</th>\n",
       "      <th>zipcode_98199</th>\n",
       "    </tr>\n",
       "  </thead>\n",
       "  <tbody>\n",
       "    <tr>\n",
       "      <th>price</th>\n",
       "      <td>1.000000</td>\n",
       "      <td>0.701917</td>\n",
       "      <td>0.089876</td>\n",
       "      <td>0.264306</td>\n",
       "      <td>-0.053890</td>\n",
       "      <td>0.180082</td>\n",
       "      <td>-0.057847</td>\n",
       "      <td>-0.144740</td>\n",
       "      <td>-0.184059</td>\n",
       "      <td>0.177351</td>\n",
       "      <td>...</td>\n",
       "      <td>-0.057217</td>\n",
       "      <td>-0.035762</td>\n",
       "      <td>-0.046074</td>\n",
       "      <td>-0.022561</td>\n",
       "      <td>-0.091703</td>\n",
       "      <td>0.040503</td>\n",
       "      <td>-0.069286</td>\n",
       "      <td>-0.054438</td>\n",
       "      <td>-0.074064</td>\n",
       "      <td>0.083688</td>\n",
       "    </tr>\n",
       "    <tr>\n",
       "      <th>sqft_living</th>\n",
       "      <td>0.701917</td>\n",
       "      <td>1.000000</td>\n",
       "      <td>0.173453</td>\n",
       "      <td>0.104637</td>\n",
       "      <td>-0.318592</td>\n",
       "      <td>0.204324</td>\n",
       "      <td>-0.124270</td>\n",
       "      <td>-0.350461</td>\n",
       "      <td>-0.273109</td>\n",
       "      <td>0.353324</td>\n",
       "      <td>...</td>\n",
       "      <td>-0.058106</td>\n",
       "      <td>-0.026323</td>\n",
       "      <td>-0.046455</td>\n",
       "      <td>-0.001475</td>\n",
       "      <td>-0.074826</td>\n",
       "      <td>0.028933</td>\n",
       "      <td>-0.042364</td>\n",
       "      <td>-0.024066</td>\n",
       "      <td>-0.041815</td>\n",
       "      <td>0.010832</td>\n",
       "    </tr>\n",
       "    <tr>\n",
       "      <th>sqft_lot</th>\n",
       "      <td>0.089876</td>\n",
       "      <td>0.173453</td>\n",
       "      <td>1.000000</td>\n",
       "      <td>0.021459</td>\n",
       "      <td>-0.052853</td>\n",
       "      <td>-0.035227</td>\n",
       "      <td>0.002243</td>\n",
       "      <td>-0.027755</td>\n",
       "      <td>-0.015102</td>\n",
       "      <td>0.026776</td>\n",
       "      <td>...</td>\n",
       "      <td>-0.017066</td>\n",
       "      <td>-0.007625</td>\n",
       "      <td>-0.016883</td>\n",
       "      <td>-0.003925</td>\n",
       "      <td>-0.010386</td>\n",
       "      <td>-0.008433</td>\n",
       "      <td>-0.018171</td>\n",
       "      <td>-0.009560</td>\n",
       "      <td>-0.012657</td>\n",
       "      <td>-0.028480</td>\n",
       "    </tr>\n",
       "    <tr>\n",
       "      <th>waterfront</th>\n",
       "      <td>0.264306</td>\n",
       "      <td>0.104637</td>\n",
       "      <td>0.021459</td>\n",
       "      <td>1.000000</td>\n",
       "      <td>0.024406</td>\n",
       "      <td>0.040061</td>\n",
       "      <td>0.015939</td>\n",
       "      <td>0.015811</td>\n",
       "      <td>-0.014085</td>\n",
       "      <td>-0.011549</td>\n",
       "      <td>...</td>\n",
       "      <td>0.019966</td>\n",
       "      <td>-0.004244</td>\n",
       "      <td>0.007887</td>\n",
       "      <td>0.064380</td>\n",
       "      <td>-0.009265</td>\n",
       "      <td>-0.003787</td>\n",
       "      <td>0.037313</td>\n",
       "      <td>-0.006567</td>\n",
       "      <td>0.035501</td>\n",
       "      <td>-0.005371</td>\n",
       "    </tr>\n",
       "    <tr>\n",
       "      <th>age_when_sold</th>\n",
       "      <td>-0.053890</td>\n",
       "      <td>-0.318592</td>\n",
       "      <td>-0.052853</td>\n",
       "      <td>0.024406</td>\n",
       "      <td>1.000000</td>\n",
       "      <td>0.167723</td>\n",
       "      <td>0.092855</td>\n",
       "      <td>0.203211</td>\n",
       "      <td>-0.025154</td>\n",
       "      <td>-0.130469</td>\n",
       "      <td>...</td>\n",
       "      <td>0.060473</td>\n",
       "      <td>0.013535</td>\n",
       "      <td>0.048731</td>\n",
       "      <td>0.049736</td>\n",
       "      <td>0.069794</td>\n",
       "      <td>0.037670</td>\n",
       "      <td>0.059367</td>\n",
       "      <td>0.015064</td>\n",
       "      <td>0.016741</td>\n",
       "      <td>0.060139</td>\n",
       "    </tr>\n",
       "    <tr>\n",
       "      <th>...</th>\n",
       "      <td>...</td>\n",
       "      <td>...</td>\n",
       "      <td>...</td>\n",
       "      <td>...</td>\n",
       "      <td>...</td>\n",
       "      <td>...</td>\n",
       "      <td>...</td>\n",
       "      <td>...</td>\n",
       "      <td>...</td>\n",
       "      <td>...</td>\n",
       "      <td>...</td>\n",
       "      <td>...</td>\n",
       "      <td>...</td>\n",
       "      <td>...</td>\n",
       "      <td>...</td>\n",
       "      <td>...</td>\n",
       "      <td>...</td>\n",
       "      <td>...</td>\n",
       "      <td>...</td>\n",
       "      <td>...</td>\n",
       "      <td>...</td>\n",
       "    </tr>\n",
       "    <tr>\n",
       "      <th>zipcode_98177</th>\n",
       "      <td>0.040503</td>\n",
       "      <td>0.028933</td>\n",
       "      <td>-0.008433</td>\n",
       "      <td>-0.003787</td>\n",
       "      <td>0.037670</td>\n",
       "      <td>0.042823</td>\n",
       "      <td>-0.001420</td>\n",
       "      <td>-0.005891</td>\n",
       "      <td>0.004309</td>\n",
       "      <td>-0.001156</td>\n",
       "      <td>...</td>\n",
       "      <td>-0.012708</td>\n",
       "      <td>-0.005623</td>\n",
       "      <td>-0.015873</td>\n",
       "      <td>-0.011925</td>\n",
       "      <td>-0.012276</td>\n",
       "      <td>1.000000</td>\n",
       "      <td>-0.012113</td>\n",
       "      <td>-0.008702</td>\n",
       "      <td>-0.012528</td>\n",
       "      <td>-0.013341</td>\n",
       "    </tr>\n",
       "    <tr>\n",
       "      <th>zipcode_98178</th>\n",
       "      <td>-0.069286</td>\n",
       "      <td>-0.042364</td>\n",
       "      <td>-0.018171</td>\n",
       "      <td>0.037313</td>\n",
       "      <td>0.059367</td>\n",
       "      <td>0.022552</td>\n",
       "      <td>-0.001685</td>\n",
       "      <td>0.022193</td>\n",
       "      <td>-0.012892</td>\n",
       "      <td>-0.004981</td>\n",
       "      <td>...</td>\n",
       "      <td>-0.012883</td>\n",
       "      <td>-0.005701</td>\n",
       "      <td>-0.016092</td>\n",
       "      <td>-0.012089</td>\n",
       "      <td>-0.012445</td>\n",
       "      <td>-0.012113</td>\n",
       "      <td>1.000000</td>\n",
       "      <td>-0.008822</td>\n",
       "      <td>-0.012700</td>\n",
       "      <td>-0.013525</td>\n",
       "    </tr>\n",
       "    <tr>\n",
       "      <th>zipcode_98188</th>\n",
       "      <td>-0.054438</td>\n",
       "      <td>-0.024066</td>\n",
       "      <td>-0.009560</td>\n",
       "      <td>-0.006567</td>\n",
       "      <td>0.015064</td>\n",
       "      <td>-0.001731</td>\n",
       "      <td>-0.007618</td>\n",
       "      <td>0.001087</td>\n",
       "      <td>-0.002190</td>\n",
       "      <td>-0.000424</td>\n",
       "      <td>...</td>\n",
       "      <td>-0.009255</td>\n",
       "      <td>-0.004095</td>\n",
       "      <td>-0.011560</td>\n",
       "      <td>-0.008684</td>\n",
       "      <td>-0.008940</td>\n",
       "      <td>-0.008702</td>\n",
       "      <td>-0.008822</td>\n",
       "      <td>1.000000</td>\n",
       "      <td>-0.009123</td>\n",
       "      <td>-0.009716</td>\n",
       "    </tr>\n",
       "    <tr>\n",
       "      <th>zipcode_98198</th>\n",
       "      <td>-0.074064</td>\n",
       "      <td>-0.041815</td>\n",
       "      <td>-0.012657</td>\n",
       "      <td>0.035501</td>\n",
       "      <td>0.016741</td>\n",
       "      <td>-0.007569</td>\n",
       "      <td>0.014929</td>\n",
       "      <td>0.012526</td>\n",
       "      <td>0.007919</td>\n",
       "      <td>-0.013373</td>\n",
       "      <td>...</td>\n",
       "      <td>-0.013324</td>\n",
       "      <td>-0.005896</td>\n",
       "      <td>-0.016642</td>\n",
       "      <td>-0.012503</td>\n",
       "      <td>-0.012871</td>\n",
       "      <td>-0.012528</td>\n",
       "      <td>-0.012700</td>\n",
       "      <td>-0.009123</td>\n",
       "      <td>1.000000</td>\n",
       "      <td>-0.013988</td>\n",
       "    </tr>\n",
       "    <tr>\n",
       "      <th>zipcode_98199</th>\n",
       "      <td>0.083688</td>\n",
       "      <td>0.010832</td>\n",
       "      <td>-0.028480</td>\n",
       "      <td>-0.005371</td>\n",
       "      <td>0.060139</td>\n",
       "      <td>0.102030</td>\n",
       "      <td>0.000500</td>\n",
       "      <td>0.028241</td>\n",
       "      <td>-0.007111</td>\n",
       "      <td>-0.004969</td>\n",
       "      <td>...</td>\n",
       "      <td>-0.014189</td>\n",
       "      <td>-0.006279</td>\n",
       "      <td>-0.017723</td>\n",
       "      <td>-0.013315</td>\n",
       "      <td>-0.013707</td>\n",
       "      <td>-0.013341</td>\n",
       "      <td>-0.013525</td>\n",
       "      <td>-0.009716</td>\n",
       "      <td>-0.013988</td>\n",
       "      <td>1.000000</td>\n",
       "    </tr>\n",
       "  </tbody>\n",
       "</table>\n",
       "<p>144 rows × 144 columns</p>\n",
       "</div>"
      ],
      "text/plain": [
       "                  price  sqft_living  sqft_lot  waterfront  age_when_sold  \\\n",
       "price          1.000000     0.701917  0.089876    0.264306      -0.053890   \n",
       "sqft_living    0.701917     1.000000  0.173453    0.104637      -0.318592   \n",
       "sqft_lot       0.089876     0.173453  1.000000    0.021459      -0.052853   \n",
       "waterfront     0.264306     0.104637  0.021459    1.000000       0.024406   \n",
       "age_when_sold -0.053890    -0.318592 -0.052853    0.024406       1.000000   \n",
       "...                 ...          ...       ...         ...            ...   \n",
       "zipcode_98177  0.040503     0.028933 -0.008433   -0.003787       0.037670   \n",
       "zipcode_98178 -0.069286    -0.042364 -0.018171    0.037313       0.059367   \n",
       "zipcode_98188 -0.054438    -0.024066 -0.009560   -0.006567       0.015064   \n",
       "zipcode_98198 -0.074064    -0.041815 -0.012657    0.035501       0.016741   \n",
       "zipcode_98199  0.083688     0.010832 -0.028480   -0.005371       0.060139   \n",
       "\n",
       "               Basement  bedrooms_1  bedrooms_2  bedrooms_3  bedrooms_4  ...  \\\n",
       "price          0.180082   -0.057847   -0.144740   -0.184059    0.177351  ...   \n",
       "sqft_living    0.204324   -0.124270   -0.350461   -0.273109    0.353324  ...   \n",
       "sqft_lot      -0.035227    0.002243   -0.027755   -0.015102    0.026776  ...   \n",
       "waterfront     0.040061    0.015939    0.015811   -0.014085   -0.011549  ...   \n",
       "age_when_sold  0.167723    0.092855    0.203211   -0.025154   -0.130469  ...   \n",
       "...                 ...         ...         ...         ...         ...  ...   \n",
       "zipcode_98177  0.042823   -0.001420   -0.005891    0.004309   -0.001156  ...   \n",
       "zipcode_98178  0.022552   -0.001685    0.022193   -0.012892   -0.004981  ...   \n",
       "zipcode_98188 -0.001731   -0.007618    0.001087   -0.002190   -0.000424  ...   \n",
       "zipcode_98198 -0.007569    0.014929    0.012526    0.007919   -0.013373  ...   \n",
       "zipcode_98199  0.102030    0.000500    0.028241   -0.007111   -0.004969  ...   \n",
       "\n",
       "               zipcode_98146  zipcode_98148  zipcode_98155  zipcode_98166  \\\n",
       "price              -0.057217      -0.035762      -0.046074      -0.022561   \n",
       "sqft_living        -0.058106      -0.026323      -0.046455      -0.001475   \n",
       "sqft_lot           -0.017066      -0.007625      -0.016883      -0.003925   \n",
       "waterfront          0.019966      -0.004244       0.007887       0.064380   \n",
       "age_when_sold       0.060473       0.013535       0.048731       0.049736   \n",
       "...                      ...            ...            ...            ...   \n",
       "zipcode_98177      -0.012708      -0.005623      -0.015873      -0.011925   \n",
       "zipcode_98178      -0.012883      -0.005701      -0.016092      -0.012089   \n",
       "zipcode_98188      -0.009255      -0.004095      -0.011560      -0.008684   \n",
       "zipcode_98198      -0.013324      -0.005896      -0.016642      -0.012503   \n",
       "zipcode_98199      -0.014189      -0.006279      -0.017723      -0.013315   \n",
       "\n",
       "               zipcode_98168  zipcode_98177  zipcode_98178  zipcode_98188  \\\n",
       "price              -0.091703       0.040503      -0.069286      -0.054438   \n",
       "sqft_living        -0.074826       0.028933      -0.042364      -0.024066   \n",
       "sqft_lot           -0.010386      -0.008433      -0.018171      -0.009560   \n",
       "waterfront         -0.009265      -0.003787       0.037313      -0.006567   \n",
       "age_when_sold       0.069794       0.037670       0.059367       0.015064   \n",
       "...                      ...            ...            ...            ...   \n",
       "zipcode_98177      -0.012276       1.000000      -0.012113      -0.008702   \n",
       "zipcode_98178      -0.012445      -0.012113       1.000000      -0.008822   \n",
       "zipcode_98188      -0.008940      -0.008702      -0.008822       1.000000   \n",
       "zipcode_98198      -0.012871      -0.012528      -0.012700      -0.009123   \n",
       "zipcode_98199      -0.013707      -0.013341      -0.013525      -0.009716   \n",
       "\n",
       "               zipcode_98198  zipcode_98199  \n",
       "price              -0.074064       0.083688  \n",
       "sqft_living        -0.041815       0.010832  \n",
       "sqft_lot           -0.012657      -0.028480  \n",
       "waterfront          0.035501      -0.005371  \n",
       "age_when_sold       0.016741       0.060139  \n",
       "...                      ...            ...  \n",
       "zipcode_98177      -0.012528      -0.013341  \n",
       "zipcode_98178      -0.012700      -0.013525  \n",
       "zipcode_98188      -0.009123      -0.009716  \n",
       "zipcode_98198       1.000000      -0.013988  \n",
       "zipcode_98199      -0.013988       1.000000  \n",
       "\n",
       "[144 rows x 144 columns]"
      ]
     },
     "execution_count": 28,
     "metadata": {},
     "output_type": "execute_result"
    }
   ],
   "source": [
    "housing_pred_final.corr()"
   ]
  },
  {
   "cell_type": "markdown",
   "metadata": {},
   "source": [
    "Since it is a far bigger dataframe can't visually inspect all the values to search for collinearity with the other predictors. Therefore have to colinear pairs another way. Any of the predictors with correlation of.75 or higher will be something that will have to be addressed."
   ]
  },
  {
   "cell_type": "code",
   "execution_count": 29,
   "metadata": {},
   "outputs": [
    {
     "data": {
      "text/html": [
       "<div>\n",
       "<style scoped>\n",
       "    .dataframe tbody tr th:only-of-type {\n",
       "        vertical-align: middle;\n",
       "    }\n",
       "\n",
       "    .dataframe tbody tr th {\n",
       "        vertical-align: top;\n",
       "    }\n",
       "\n",
       "    .dataframe thead th {\n",
       "        text-align: right;\n",
       "    }\n",
       "</style>\n",
       "<table border=\"1\" class=\"dataframe\">\n",
       "  <thead>\n",
       "    <tr style=\"text-align: right;\">\n",
       "      <th></th>\n",
       "      <th>cc</th>\n",
       "    </tr>\n",
       "    <tr>\n",
       "      <th>pairs</th>\n",
       "      <th></th>\n",
       "    </tr>\n",
       "  </thead>\n",
       "  <tbody>\n",
       "    <tr>\n",
       "      <th>(condition_4, condition_3)</th>\n",
       "      <td>0.812294</td>\n",
       "    </tr>\n",
       "    <tr>\n",
       "      <th>(floors_1.0, floors_2.0)</th>\n",
       "      <td>0.775976</td>\n",
       "    </tr>\n",
       "  </tbody>\n",
       "</table>\n",
       "</div>"
      ],
      "text/plain": [
       "                                  cc\n",
       "pairs                               \n",
       "(condition_4, condition_3)  0.812294\n",
       "(floors_1.0, floors_2.0)    0.775976"
      ]
     },
     "execution_count": 29,
     "metadata": {},
     "output_type": "execute_result"
    }
   ],
   "source": [
    "# Breaking down the correlation table to find pairings of .75 or higher that aren't to our target price\n",
    "df=housing_pred_final.corr().abs().stack().reset_index().sort_values(0, ascending=False)\n",
    "\n",
    "# zipping the variable name columns in a new column named \"pairs\"\n",
    "df['pairs'] = list(zip(df.level_0, df.level_1))\n",
    "\n",
    "# setting index to pairs\n",
    "df.set_index(['pairs'], inplace = True)\n",
    "\n",
    "#dropping level columns\n",
    "df.drop(columns=['level_1', 'level_0'], inplace = True)\n",
    "\n",
    "# renaming correlation column as cc rather than 0\n",
    "df.columns = ['cc']\n",
    "\n",
    "# drop duplicates.\n",
    "df.drop_duplicates(inplace=True)\n",
    "\n",
    "\n",
    "\n",
    "df[(df.cc>.75) & (df.cc <1)]"
   ]
  },
  {
   "cell_type": "markdown",
   "metadata": {},
   "source": [
    "condition_4, condition_3 have correlation number of .812294 while floors_1, floors_2 have a correlation value of .775976"
   ]
  },
  {
   "cell_type": "markdown",
   "metadata": {},
   "source": [
    "With our dataframe now dealt with we can now created our dummy regressor"
   ]
  },
  {
   "cell_type": "code",
   "execution_count": 30,
   "metadata": {},
   "outputs": [],
   "source": [
    "# Putting our target in the X_dummy variable and the rest of the dataframe without price in the y_dummy variable\n",
    "X_dummy = housing_pred_final['price']\n",
    "y_dummy = housing_pred_final.drop('price', axis = 1)"
   ]
  },
  {
   "cell_type": "code",
   "execution_count": 31,
   "metadata": {},
   "outputs": [],
   "source": [
    "# Splitting up our dummy variables into two subsets: for training data and testing data\n",
    "X_train, X_test, y_train, y_test = train_test_split(X_dummy, y_dummy, test_size=0.2, random_state=42)"
   ]
  },
  {
   "cell_type": "code",
   "execution_count": 32,
   "metadata": {},
   "outputs": [
    {
     "data": {
      "text/plain": [
       "DummyRegressor()"
      ]
     },
     "execution_count": 32,
     "metadata": {},
     "output_type": "execute_result"
    }
   ],
   "source": [
    "# Setting up our dummy regressor\n",
    "dummy_regr = DummyRegressor(strategy=\"mean\")\n",
    "dummy_regr.fit(X_train, y_train)"
   ]
  },
  {
   "cell_type": "code",
   "execution_count": 33,
   "metadata": {},
   "outputs": [
    {
     "name": "stdout",
     "output_type": "stream",
     "text": [
      "0.013986013986011344\n",
      "-0.00028236347826728\n"
     ]
    }
   ],
   "source": [
    "print(dummy_regr.score(X_train, y_train))\n",
    "print(dummy_regr.score(X_test, y_test))"
   ]
  },
  {
   "cell_type": "markdown",
   "metadata": {},
   "source": [
    "We will now make a simple linear regressor model "
   ]
  },
  {
   "cell_type": "code",
   "execution_count": 34,
   "metadata": {
    "scrolled": true
   },
   "outputs": [
    {
     "data": {
      "text/plain": [
       "<AxesSubplot:>"
      ]
     },
     "execution_count": 34,
     "metadata": {},
     "output_type": "execute_result"
    },
    {
     "data": {
      "image/png": "[encoded data removed]",
      "text/plain": [
       "<Figure size 432x288 with 2 Axes>"
      ]
     },
     "metadata": {
      "needs_background": "light"
     },
     "output_type": "display_data"
    }
   ],
   "source": [
    "# Creating a heat map to decide which of our columns we will use as our independent variable to our dependent \n",
    "# variable price \n",
    "heat_map = housing_ols.corr()\n",
    "heat_map_price = heat_map[['price']]\n",
    "sns.heatmap(heat_map_price, annot=True, linewidths =2.5)"
   ]
  },
  {
   "cell_type": "markdown",
   "metadata": {},
   "source": [
    "We can see from the heat map, that focuses on price, that sqft_living has the highest correlation to price."
   ]
  },
  {
   "cell_type": "code",
   "execution_count": 35,
   "metadata": {},
   "outputs": [],
   "source": [
    "simple_model_df = pd.concat([housing_pred_final['price'], housing_pred_final['sqft_living']], axis = 1)\n",
    "X_simple = simple_model_df.drop('price', axis = 1)\n",
    "y_simple = simple_model_df['price']"
   ]
  },
  {
   "cell_type": "code",
   "execution_count": 36,
   "metadata": {},
   "outputs": [],
   "source": [
    "from sklearn.model_selection import train_test_split\n",
    "X_train, X_test, y_train, y_test = train_test_split(X_simple, y_simple, test_size=0.2, random_state=42)"
   ]
  },
  {
   "cell_type": "code",
   "execution_count": 37,
   "metadata": {
    "scrolled": true
   },
   "outputs": [
    {
     "name": "stdout",
     "output_type": "stream",
     "text": [
      "0.49249290659878187\n",
      "0.49332469237979504\n"
     ]
    }
   ],
   "source": [
    "simple_reg = LinearRegression()\n",
    "simple_reg.fit(X_train, y_train)\n",
    "print(simple_reg.score(X_train, y_train))\n",
    "print(simple_reg.score(X_test, y_test))"
   ]
  },
  {
   "cell_type": "code",
   "execution_count": 38,
   "metadata": {},
   "outputs": [
    {
     "name": "stdout",
     "output_type": "stream",
     "text": [
      "Train Mean Squarred Error: 69086961740.93782\n",
      "Test Mean Squarred Error: 65977373783.61759\n"
     ]
    }
   ],
   "source": [
    "y_hat_train = simple_reg.predict(X_train)\n",
    "y_hat_test = simple_reg.predict(X_test)\n",
    "train_mse = mean_squared_error(y_train, y_hat_train)\n",
    "test_mse = mean_squared_error(y_test, y_hat_test)\n",
    "print('Train Mean Squarred Error:', train_mse)\n",
    "print('Test Mean Squarred Error:', test_mse)"
   ]
  },
  {
   "cell_type": "code",
   "execution_count": 39,
   "metadata": {},
   "outputs": [],
   "source": [
    "multi_model_1 = pd.concat([housing_pred_final['price'], housing_pred_final['sqft_living'], view_encoded_ohe], axis = 1)\n",
    "X_multi1 = multi_model_1.drop('price', axis = 1)\n",
    "y_multi1 = multi_model_1['price']"
   ]
  },
  {
   "cell_type": "code",
   "execution_count": 40,
   "metadata": {},
   "outputs": [],
   "source": [
    "X_train, X_test, y_train, y_test = train_test_split(X_multi1, y_multi1, test_size=0.2, random_state=42)"
   ]
  },
  {
   "cell_type": "code",
   "execution_count": 41,
   "metadata": {},
   "outputs": [
    {
     "name": "stdout",
     "output_type": "stream",
     "text": [
      "0.5424908222182263\n",
      "0.5435522225645002\n"
     ]
    }
   ],
   "source": [
    "multi1_reg = LinearRegression()\n",
    "multi1_reg.fit(X_train, y_train)\n",
    "print(multi1_reg.score(X_train, y_train))\n",
    "print(multi1_reg.score(X_test, y_test))"
   ]
  },
  {
   "cell_type": "code",
   "execution_count": 42,
   "metadata": {},
   "outputs": [
    {
     "name": "stdout",
     "output_type": "stream",
     "text": [
      "Train Mean Squarred Error: 62280743407.36189\n",
      "Test Mean Squarred Error: 59436931643.68158\n"
     ]
    }
   ],
   "source": [
    "y_hat_train = multi1_reg.predict(X_train)\n",
    "y_hat_test = multi1_reg.predict(X_test)\n",
    "train_mse = mean_squared_error(y_train, y_hat_train)\n",
    "test_mse = mean_squared_error(y_test, y_hat_test)\n",
    "print('Train Mean Squarred Error:', train_mse)\n",
    "print('Test Mean Squarred Error:', test_mse)"
   ]
  },
  {
   "cell_type": "code",
   "execution_count": 43,
   "metadata": {},
   "outputs": [],
   "source": [
    "multi_model_2 = pd.concat([housing_pred_final['price'], housing_pred_final['sqft_living'], view_encoded_ohe, cond_encoded_ohe], axis = 1)\n",
    "X_multi2 = multi_model_2.drop('price', axis = 1)\n",
    "y_multi2 = multi_model_2['price']"
   ]
  },
  {
   "cell_type": "code",
   "execution_count": 44,
   "metadata": {},
   "outputs": [],
   "source": [
    "from sklearn.model_selection import train_test_split\n",
    "X_train, X_test, y_train, y_test = train_test_split(X_multi2, y_multi2, test_size=0.2, random_state=42)"
   ]
  },
  {
   "cell_type": "code",
   "execution_count": 45,
   "metadata": {},
   "outputs": [
    {
     "name": "stdout",
     "output_type": "stream",
     "text": [
      "0.5478229394408431\n",
      "0.5451114161992303\n"
     ]
    }
   ],
   "source": [
    "multi2_reg = LinearRegression()\n",
    "multi2_reg.fit(X_train, y_train)\n",
    "print(multi2_reg.score(X_train, y_train))\n",
    "print(multi2_reg.score(X_test, y_test))"
   ]
  },
  {
   "cell_type": "code",
   "execution_count": 46,
   "metadata": {},
   "outputs": [
    {
     "name": "stdout",
     "output_type": "stream",
     "text": [
      "Train Mean Squarred Error: 61554882067.98965\n",
      "Test Mean Squarred Error: 59233899248.59054\n"
     ]
    }
   ],
   "source": [
    "y_hat_train = multi2_reg.predict(X_train)\n",
    "y_hat_test = multi2_reg.predict(X_test)\n",
    "train_mse = mean_squared_error(y_train, y_hat_train)\n",
    "test_mse = mean_squared_error(y_test, y_hat_test)\n",
    "print('Train Mean Squarred Error:', train_mse)\n",
    "print('Test Mean Squarred Error:', test_mse)"
   ]
  },
  {
   "cell_type": "code",
   "execution_count": 47,
   "metadata": {},
   "outputs": [],
   "source": [
    "multi_model_3 = pd.concat([housing_pred_final['price'], housing_pred_final['sqft_living'], zipcode_encoded_ohe], axis = 1)\n",
    "X_multi3 = multi_model_3.drop('price', axis = 1)\n",
    "y_multi3 = multi_model_3['price']"
   ]
  },
  {
   "cell_type": "code",
   "execution_count": 48,
   "metadata": {},
   "outputs": [],
   "source": [
    "from sklearn.model_selection import train_test_split\n",
    "X_train, X_test, y_train, y_test = train_test_split(X_multi3, y_multi3, test_size=0.2, random_state=42)"
   ]
  },
  {
   "cell_type": "code",
   "execution_count": 49,
   "metadata": {},
   "outputs": [
    {
     "name": "stdout",
     "output_type": "stream",
     "text": [
      "0.7328746275271403\n",
      "0.7158407143347644\n"
     ]
    }
   ],
   "source": [
    "multi3_reg = LinearRegression()\n",
    "multi3_reg.fit(X_train, y_train)\n",
    "print(multi3_reg.score(X_train, y_train))\n",
    "print(multi3_reg.score(X_test, y_test))"
   ]
  },
  {
   "cell_type": "code",
   "execution_count": 50,
   "metadata": {},
   "outputs": [
    {
     "name": "stdout",
     "output_type": "stream",
     "text": [
      "Train Mean Squarred Error: 36363788069.21702\n",
      "Test Mean Squarred Error: 37002165139.009026\n"
     ]
    }
   ],
   "source": [
    "y_hat_train = multi3_reg.predict(X_train)\n",
    "y_hat_test = multi3_reg.predict(X_test)\n",
    "train_mse = mean_squared_error(y_train, y_hat_train)\n",
    "test_mse = mean_squared_error(y_test, y_hat_test)\n",
    "print('Train Mean Squarred Error:', train_mse)\n",
    "print('Test Mean Squarred Error:', test_mse)"
   ]
  },
  {
   "cell_type": "code",
   "execution_count": 51,
   "metadata": {},
   "outputs": [],
   "source": [
    "multi_model_4 = pd.concat([housing_pred_final['price'], housing_pred_final['sqft_living'], zipcode_encoded_ohe, bathrooms_encoded_ohe], axis = 1)\n",
    "X_multi4 = multi_model_4.drop('price', axis = 1)\n",
    "y_multi4 = multi_model_4['price']"
   ]
  },
  {
   "cell_type": "code",
   "execution_count": 52,
   "metadata": {},
   "outputs": [],
   "source": [
    "from sklearn.model_selection import train_test_split\n",
    "X_train, X_test, y_train, y_test = train_test_split(X_multi4, y_multi4, test_size=0.2, random_state=42)"
   ]
  },
  {
   "cell_type": "code",
   "execution_count": 53,
   "metadata": {},
   "outputs": [
    {
     "name": "stdout",
     "output_type": "stream",
     "text": [
      "0.7593855457499735\n",
      "0.6979657661742273\n"
     ]
    }
   ],
   "source": [
    "multi4_reg = LinearRegression()\n",
    "multi4_reg.fit(X_train, y_train)\n",
    "print(multi4_reg.score(X_train, y_train))\n",
    "print(multi4_reg.score(X_test, y_test))"
   ]
  },
  {
   "cell_type": "code",
   "execution_count": 54,
   "metadata": {},
   "outputs": [],
   "source": [
    "# Bathrooms lead to overfit"
   ]
  },
  {
   "cell_type": "code",
   "execution_count": 55,
   "metadata": {},
   "outputs": [],
   "source": [
    "multi_model_5 = pd.concat([housing_pred_final['price'], housing_pred_final['sqft_living'], zipcode_encoded_ohe, bedrooms_encoded_ohe], axis = 1)\n",
    "X_multi5 = multi_model_5.drop('price', axis = 1)\n",
    "y_multi5 = multi_model_5['price']"
   ]
  },
  {
   "cell_type": "code",
   "execution_count": 56,
   "metadata": {},
   "outputs": [],
   "source": [
    "from sklearn.model_selection import train_test_split\n",
    "X_train, X_test, y_train, y_test = train_test_split(X_multi5, y_multi5, test_size=0.2, random_state=42)"
   ]
  },
  {
   "cell_type": "code",
   "execution_count": 57,
   "metadata": {},
   "outputs": [
    {
     "name": "stdout",
     "output_type": "stream",
     "text": [
      "0.7418669882820191\n",
      "0.7263888168079438\n"
     ]
    }
   ],
   "source": [
    "multi5_reg = LinearRegression()\n",
    "multi5_reg.fit(X_train, y_train)\n",
    "print(multi5_reg.score(X_train, y_train))\n",
    "print(multi5_reg.score(X_test, y_test))"
   ]
  },
  {
   "cell_type": "code",
   "execution_count": 58,
   "metadata": {},
   "outputs": [
    {
     "name": "stdout",
     "output_type": "stream",
     "text": [
      "Train Mean Squarred Error: 35139657625.50343\n",
      "Test Mean Squarred Error: 35628630472.6966\n"
     ]
    }
   ],
   "source": [
    "y_hat_train = multi5_reg.predict(X_train)\n",
    "y_hat_test = multi5_reg.predict(X_test)\n",
    "train_mse = mean_squared_error(y_train, y_hat_train)\n",
    "test_mse = mean_squared_error(y_test, y_hat_test)\n",
    "print('Train Mean Squarred Error:', train_mse)\n",
    "print('Test Mean Squarred Error:', test_mse)"
   ]
  },
  {
   "cell_type": "code",
   "execution_count": 59,
   "metadata": {},
   "outputs": [],
   "source": [
    "multi_model_6 = pd.concat([housing_pred_final['price'], housing_pred_final['sqft_living'], zipcode_encoded_ohe, bedrooms_encoded_ohe, view_encoded_ohe], axis = 1)\n",
    "X_multi6 = multi_model_6.drop('price', axis = 1)\n",
    "y_multi6 = multi_model_6['price']"
   ]
  },
  {
   "cell_type": "code",
   "execution_count": 60,
   "metadata": {},
   "outputs": [],
   "source": [
    "from sklearn.model_selection import train_test_split\n",
    "X_train, X_test, y_train, y_test = train_test_split(X_multi6, y_multi6, test_size=0.2, random_state=42)"
   ]
  },
  {
   "cell_type": "code",
   "execution_count": 61,
   "metadata": {},
   "outputs": [
    {
     "name": "stdout",
     "output_type": "stream",
     "text": [
      "0.7805888466129296\n",
      "0.7605237505631132\n"
     ]
    }
   ],
   "source": [
    "multi6_reg = LinearRegression()\n",
    "multi6_reg.fit(X_train, y_train)\n",
    "print(multi6_reg.score(X_train, y_train))\n",
    "print(multi6_reg.score(X_test, y_test))"
   ]
  },
  {
   "cell_type": "code",
   "execution_count": 62,
   "metadata": {},
   "outputs": [
    {
     "name": "stdout",
     "output_type": "stream",
     "text": [
      "Train Mean Squarred Error: 29868449439.787064\n",
      "Test Mean Squarred Error: 31183706377.18099\n"
     ]
    }
   ],
   "source": [
    "y_hat_train = multi6_reg.predict(X_train)\n",
    "y_hat_test = multi6_reg.predict(X_test)\n",
    "train_mse = mean_squared_error(y_train, y_hat_train)\n",
    "test_mse = mean_squared_error(y_test, y_hat_test)\n",
    "print('Train Mean Squarred Error:', train_mse)\n",
    "print('Test Mean Squarred Error:', test_mse)"
   ]
  },
  {
   "cell_type": "code",
   "execution_count": 63,
   "metadata": {},
   "outputs": [],
   "source": [
    "multi_model_7 = pd.concat([housing_pred_final['price'], housing_pred_final['sqft_living'], housing_pred_final['waterfront'], zipcode_encoded_ohe, view_encoded_ohe, bedrooms_encoded_ohe], axis = 1)\n",
    "X_multi7 = multi_model_7.drop('price', axis = 1)\n",
    "y_multi7 = multi_model_7['price']"
   ]
  },
  {
   "cell_type": "code",
   "execution_count": 64,
   "metadata": {},
   "outputs": [],
   "source": [
    "from sklearn.model_selection import train_test_split\n",
    "X_train, X_test, y_train, y_test = train_test_split(X_multi7, y_multi7, test_size=0.2, random_state=42)"
   ]
  },
  {
   "cell_type": "code",
   "execution_count": 65,
   "metadata": {},
   "outputs": [
    {
     "name": "stdout",
     "output_type": "stream",
     "text": [
      "0.7911726897062953\n",
      "0.7743165151965006\n"
     ]
    }
   ],
   "source": [
    "multi7_reg = LinearRegression()\n",
    "multi7_reg.fit(X_train, y_train)\n",
    "print(multi7_reg.score(X_train, y_train))\n",
    "print(multi7_reg.score(X_test, y_test))"
   ]
  },
  {
   "cell_type": "code",
   "execution_count": 66,
   "metadata": {},
   "outputs": [
    {
     "name": "stdout",
     "output_type": "stream",
     "text": [
      "Train Mean Squarred Error: 28427670439.11725\n",
      "Test Mean Squarred Error: 29387663874.141567\n"
     ]
    }
   ],
   "source": [
    "y_hat_train = multi7_reg.predict(X_train)\n",
    "y_hat_test = multi7_reg.predict(X_test)\n",
    "train_mse = mean_squared_error(y_train, y_hat_train)\n",
    "test_mse = mean_squared_error(y_test, y_hat_test)\n",
    "print('Train Mean Squarred Error:', train_mse)\n",
    "print('Test Mean Squarred Error:', test_mse)"
   ]
  },
  {
   "cell_type": "code",
   "execution_count": 67,
   "metadata": {},
   "outputs": [],
   "source": [
    "multi_model_8 = pd.concat([housing_pred_final['price'], housing_pred_final['sqft_living'], housing_pred_final['waterfront'], housing_pred_final['Basement'], zipcode_encoded_ohe, view_encoded_ohe, bedrooms_encoded_ohe, cond_encoded_ohe, floors_encoded_ohe], axis = 1)\n",
    "X_multi8 = multi_model_8.drop('price', axis = 1)\n",
    "y_multi8 = multi_model_8['price']"
   ]
  },
  {
   "cell_type": "code",
   "execution_count": 68,
   "metadata": {},
   "outputs": [],
   "source": [
    "from sklearn.model_selection import train_test_split\n",
    "X_train, X_test, y_train, y_test = train_test_split(X_multi8, y_multi8, test_size=0.2, random_state=42)"
   ]
  },
  {
   "cell_type": "code",
   "execution_count": 69,
   "metadata": {},
   "outputs": [
    {
     "name": "stdout",
     "output_type": "stream",
     "text": [
      "0.7987394059886364\n",
      "0.7819816688203198\n"
     ]
    }
   ],
   "source": [
    "multi8_reg = LinearRegression()\n",
    "multi8_reg.fit(X_train, y_train)\n",
    "print(multi8_reg.score(X_train, y_train))\n",
    "print(multi8_reg.score(X_test, y_test))"
   ]
  },
  {
   "cell_type": "code",
   "execution_count": 70,
   "metadata": {
    "scrolled": true
   },
   "outputs": [
    {
     "name": "stdout",
     "output_type": "stream",
     "text": [
      "Train Mean Squarred Error: 27397613036.768093\n",
      "Test Mean Squarred Error: 28389536082.750057\n"
     ]
    }
   ],
   "source": [
    "y_hat_train = multi8_reg.predict(X_train)\n",
    "y_hat_test = multi8_reg.predict(X_test)\n",
    "train_mse = mean_squared_error(y_train, y_hat_train)\n",
    "test_mse = mean_squared_error(y_test, y_hat_test)\n",
    "print('Train Mean Squarred Error:', train_mse)\n",
    "print('Test Mean Squarred Error:', test_mse)"
   ]
  },
  {
   "cell_type": "code",
   "execution_count": 71,
   "metadata": {},
   "outputs": [
    {
     "data": {
      "text/plain": [
       "array([0.79522696, 0.77482714, 0.80091842, 0.80963121, 0.78737221])"
      ]
     },
     "execution_count": 71,
     "metadata": {},
     "output_type": "execute_result"
    }
   ],
   "source": [
    "cross_val_score(multi8_reg, X_train, y_train, cv=5)"
   ]
  },
  {
   "cell_type": "code",
   "execution_count": 72,
   "metadata": {},
   "outputs": [
    {
     "data": {
      "text/plain": [
       "array([ 2.62071766e+02,  5.71040298e+05, -6.73131948e+04, -2.29182609e+05,\n",
       "       -2.10226069e+05, -2.12131212e+05,  5.74133834e+05,  1.35825630e+05,\n",
       "        8.30433699e+04,  6.24842667e+04,  4.62550988e+04, -1.59221872e+05,\n",
       "       -8.87510729e+04, -1.27109818e+05, -1.42015915e+05, -2.24700065e+05,\n",
       "       -2.34424977e+05, -4.83711735e+04, -2.98531718e+04, -9.84887142e+04,\n",
       "        2.39813734e+04, -2.13294012e+05, -2.00693116e+05, -2.11269885e+05,\n",
       "        1.67855865e+05, -2.62288837e+03, -1.97926041e+05,  1.20783615e+06,\n",
       "        3.51449915e+05, -2.14954880e+05, -1.22121972e+05,  3.68649502e+04,\n",
       "       -1.65884362e+04, -1.71628214e+05, -1.28768198e+05, -1.78539942e+05,\n",
       "       -1.33538730e+05, -1.51391211e+05, -2.08302231e+05, -4.58505261e+04,\n",
       "       -4.59769494e+03, -7.37133013e+03, -5.84317885e+04, -2.44270364e+05,\n",
       "        3.52390583e+05,  1.50952849e+05,  3.10434098e+05, -6.40545154e+04,\n",
       "        1.64514613e+05, -8.31057412e+04,  3.53091858e+05,  4.90149041e+05,\n",
       "        1.40030666e+05,  1.08765357e+05,  1.31771567e+05, -3.51670584e+04,\n",
       "        3.32923295e+05,  1.69191482e+05, -4.80683346e+03, -8.70103570e+03,\n",
       "       -3.96338404e+04,  5.97893663e+04,  8.84296815e+04, -1.09458777e+05,\n",
       "       -1.51160803e+05, -6.55674937e+04, -1.53773997e+05, -1.50939852e+05,\n",
       "        2.15245710e+04, -1.86469296e+05, -1.86178672e+05, -2.30030550e+05,\n",
       "        2.21997114e+05, -6.48098753e+04,  2.21396702e+05, -4.56775099e+04,\n",
       "        3.77377604e+04, -1.48647077e+05,  1.82751556e+05,  1.57911578e+05,\n",
       "        1.36124463e+05,  9.49843914e+04,  6.27302147e+04,  4.63477195e+04,\n",
       "       -9.48225048e+04, -4.41857107e+04, -1.55616584e+05, -3.74146029e+05,\n",
       "       -1.20790944e+04, -3.63797881e-11, -7.54191547e+04,  5.01326728e+03,\n",
       "        1.40656111e+03,  1.40870602e+04,  5.49122661e+04, -2.56745662e+03,\n",
       "       -2.01259672e+04, -2.83395034e+04,  8.04776664e+04, -7.04965847e+04,\n",
       "        4.10518454e+04])"
      ]
     },
     "execution_count": 72,
     "metadata": {},
     "output_type": "execute_result"
    }
   ],
   "source": [
    "multi8_reg.coef_"
   ]
  },
  {
   "cell_type": "code",
   "execution_count": 73,
   "metadata": {},
   "outputs": [
    {
     "data": {
      "text/html": [
       "<div>\n",
       "<style scoped>\n",
       "    .dataframe tbody tr th:only-of-type {\n",
       "        vertical-align: middle;\n",
       "    }\n",
       "\n",
       "    .dataframe tbody tr th {\n",
       "        vertical-align: top;\n",
       "    }\n",
       "\n",
       "    .dataframe thead th {\n",
       "        text-align: right;\n",
       "    }\n",
       "</style>\n",
       "<table border=\"1\" class=\"dataframe\">\n",
       "  <thead>\n",
       "    <tr style=\"text-align: right;\">\n",
       "      <th></th>\n",
       "      <th>price</th>\n",
       "      <th>sqft_living</th>\n",
       "      <th>sqft_lot</th>\n",
       "      <th>waterfront</th>\n",
       "      <th>age_when_sold</th>\n",
       "      <th>Basement</th>\n",
       "      <th>bedrooms_1</th>\n",
       "      <th>bedrooms_2</th>\n",
       "      <th>bedrooms_3</th>\n",
       "      <th>bedrooms_4</th>\n",
       "      <th>...</th>\n",
       "      <th>zipcode_98146</th>\n",
       "      <th>zipcode_98148</th>\n",
       "      <th>zipcode_98155</th>\n",
       "      <th>zipcode_98166</th>\n",
       "      <th>zipcode_98168</th>\n",
       "      <th>zipcode_98177</th>\n",
       "      <th>zipcode_98178</th>\n",
       "      <th>zipcode_98188</th>\n",
       "      <th>zipcode_98198</th>\n",
       "      <th>zipcode_98199</th>\n",
       "    </tr>\n",
       "  </thead>\n",
       "  <tbody>\n",
       "    <tr>\n",
       "      <th>0</th>\n",
       "      <td>221900.0</td>\n",
       "      <td>1180</td>\n",
       "      <td>5650</td>\n",
       "      <td>0.0</td>\n",
       "      <td>59</td>\n",
       "      <td>0</td>\n",
       "      <td>0.0</td>\n",
       "      <td>0.0</td>\n",
       "      <td>1.0</td>\n",
       "      <td>0.0</td>\n",
       "      <td>...</td>\n",
       "      <td>0.0</td>\n",
       "      <td>0.0</td>\n",
       "      <td>0.0</td>\n",
       "      <td>0.0</td>\n",
       "      <td>0.0</td>\n",
       "      <td>0.0</td>\n",
       "      <td>1.0</td>\n",
       "      <td>0.0</td>\n",
       "      <td>0.0</td>\n",
       "      <td>0.0</td>\n",
       "    </tr>\n",
       "    <tr>\n",
       "      <th>1</th>\n",
       "      <td>538000.0</td>\n",
       "      <td>2570</td>\n",
       "      <td>7242</td>\n",
       "      <td>0.0</td>\n",
       "      <td>63</td>\n",
       "      <td>1</td>\n",
       "      <td>0.0</td>\n",
       "      <td>0.0</td>\n",
       "      <td>1.0</td>\n",
       "      <td>0.0</td>\n",
       "      <td>...</td>\n",
       "      <td>0.0</td>\n",
       "      <td>0.0</td>\n",
       "      <td>0.0</td>\n",
       "      <td>0.0</td>\n",
       "      <td>0.0</td>\n",
       "      <td>0.0</td>\n",
       "      <td>0.0</td>\n",
       "      <td>0.0</td>\n",
       "      <td>0.0</td>\n",
       "      <td>0.0</td>\n",
       "    </tr>\n",
       "    <tr>\n",
       "      <th>2</th>\n",
       "      <td>180000.0</td>\n",
       "      <td>770</td>\n",
       "      <td>10000</td>\n",
       "      <td>0.0</td>\n",
       "      <td>82</td>\n",
       "      <td>0</td>\n",
       "      <td>0.0</td>\n",
       "      <td>1.0</td>\n",
       "      <td>0.0</td>\n",
       "      <td>0.0</td>\n",
       "      <td>...</td>\n",
       "      <td>0.0</td>\n",
       "      <td>0.0</td>\n",
       "      <td>0.0</td>\n",
       "      <td>0.0</td>\n",
       "      <td>0.0</td>\n",
       "      <td>0.0</td>\n",
       "      <td>0.0</td>\n",
       "      <td>0.0</td>\n",
       "      <td>0.0</td>\n",
       "      <td>0.0</td>\n",
       "    </tr>\n",
       "    <tr>\n",
       "      <th>3</th>\n",
       "      <td>604000.0</td>\n",
       "      <td>1960</td>\n",
       "      <td>5000</td>\n",
       "      <td>0.0</td>\n",
       "      <td>49</td>\n",
       "      <td>1</td>\n",
       "      <td>0.0</td>\n",
       "      <td>0.0</td>\n",
       "      <td>0.0</td>\n",
       "      <td>1.0</td>\n",
       "      <td>...</td>\n",
       "      <td>0.0</td>\n",
       "      <td>0.0</td>\n",
       "      <td>0.0</td>\n",
       "      <td>0.0</td>\n",
       "      <td>0.0</td>\n",
       "      <td>0.0</td>\n",
       "      <td>0.0</td>\n",
       "      <td>0.0</td>\n",
       "      <td>0.0</td>\n",
       "      <td>0.0</td>\n",
       "    </tr>\n",
       "    <tr>\n",
       "      <th>4</th>\n",
       "      <td>510000.0</td>\n",
       "      <td>1680</td>\n",
       "      <td>8080</td>\n",
       "      <td>0.0</td>\n",
       "      <td>28</td>\n",
       "      <td>0</td>\n",
       "      <td>0.0</td>\n",
       "      <td>0.0</td>\n",
       "      <td>1.0</td>\n",
       "      <td>0.0</td>\n",
       "      <td>...</td>\n",
       "      <td>0.0</td>\n",
       "      <td>0.0</td>\n",
       "      <td>0.0</td>\n",
       "      <td>0.0</td>\n",
       "      <td>0.0</td>\n",
       "      <td>0.0</td>\n",
       "      <td>0.0</td>\n",
       "      <td>0.0</td>\n",
       "      <td>0.0</td>\n",
       "      <td>0.0</td>\n",
       "    </tr>\n",
       "    <tr>\n",
       "      <th>...</th>\n",
       "      <td>...</td>\n",
       "      <td>...</td>\n",
       "      <td>...</td>\n",
       "      <td>...</td>\n",
       "      <td>...</td>\n",
       "      <td>...</td>\n",
       "      <td>...</td>\n",
       "      <td>...</td>\n",
       "      <td>...</td>\n",
       "      <td>...</td>\n",
       "      <td>...</td>\n",
       "      <td>...</td>\n",
       "      <td>...</td>\n",
       "      <td>...</td>\n",
       "      <td>...</td>\n",
       "      <td>...</td>\n",
       "      <td>...</td>\n",
       "      <td>...</td>\n",
       "      <td>...</td>\n",
       "      <td>...</td>\n",
       "      <td>...</td>\n",
       "    </tr>\n",
       "    <tr>\n",
       "      <th>21592</th>\n",
       "      <td>360000.0</td>\n",
       "      <td>1530</td>\n",
       "      <td>1131</td>\n",
       "      <td>0.0</td>\n",
       "      <td>5</td>\n",
       "      <td>0</td>\n",
       "      <td>0.0</td>\n",
       "      <td>0.0</td>\n",
       "      <td>1.0</td>\n",
       "      <td>0.0</td>\n",
       "      <td>...</td>\n",
       "      <td>0.0</td>\n",
       "      <td>0.0</td>\n",
       "      <td>0.0</td>\n",
       "      <td>0.0</td>\n",
       "      <td>0.0</td>\n",
       "      <td>0.0</td>\n",
       "      <td>0.0</td>\n",
       "      <td>0.0</td>\n",
       "      <td>0.0</td>\n",
       "      <td>0.0</td>\n",
       "    </tr>\n",
       "    <tr>\n",
       "      <th>21593</th>\n",
       "      <td>400000.0</td>\n",
       "      <td>2310</td>\n",
       "      <td>5813</td>\n",
       "      <td>0.0</td>\n",
       "      <td>1</td>\n",
       "      <td>0</td>\n",
       "      <td>0.0</td>\n",
       "      <td>0.0</td>\n",
       "      <td>0.0</td>\n",
       "      <td>1.0</td>\n",
       "      <td>...</td>\n",
       "      <td>1.0</td>\n",
       "      <td>0.0</td>\n",
       "      <td>0.0</td>\n",
       "      <td>0.0</td>\n",
       "      <td>0.0</td>\n",
       "      <td>0.0</td>\n",
       "      <td>0.0</td>\n",
       "      <td>0.0</td>\n",
       "      <td>0.0</td>\n",
       "      <td>0.0</td>\n",
       "    </tr>\n",
       "    <tr>\n",
       "      <th>21594</th>\n",
       "      <td>402101.0</td>\n",
       "      <td>1020</td>\n",
       "      <td>1350</td>\n",
       "      <td>0.0</td>\n",
       "      <td>5</td>\n",
       "      <td>0</td>\n",
       "      <td>0.0</td>\n",
       "      <td>1.0</td>\n",
       "      <td>0.0</td>\n",
       "      <td>0.0</td>\n",
       "      <td>...</td>\n",
       "      <td>0.0</td>\n",
       "      <td>0.0</td>\n",
       "      <td>0.0</td>\n",
       "      <td>0.0</td>\n",
       "      <td>0.0</td>\n",
       "      <td>0.0</td>\n",
       "      <td>0.0</td>\n",
       "      <td>0.0</td>\n",
       "      <td>0.0</td>\n",
       "      <td>0.0</td>\n",
       "    </tr>\n",
       "    <tr>\n",
       "      <th>21595</th>\n",
       "      <td>400000.0</td>\n",
       "      <td>1600</td>\n",
       "      <td>2388</td>\n",
       "      <td>0.0</td>\n",
       "      <td>11</td>\n",
       "      <td>0</td>\n",
       "      <td>0.0</td>\n",
       "      <td>0.0</td>\n",
       "      <td>1.0</td>\n",
       "      <td>0.0</td>\n",
       "      <td>...</td>\n",
       "      <td>0.0</td>\n",
       "      <td>0.0</td>\n",
       "      <td>0.0</td>\n",
       "      <td>0.0</td>\n",
       "      <td>0.0</td>\n",
       "      <td>0.0</td>\n",
       "      <td>0.0</td>\n",
       "      <td>0.0</td>\n",
       "      <td>0.0</td>\n",
       "      <td>0.0</td>\n",
       "    </tr>\n",
       "    <tr>\n",
       "      <th>21596</th>\n",
       "      <td>325000.0</td>\n",
       "      <td>1020</td>\n",
       "      <td>1076</td>\n",
       "      <td>0.0</td>\n",
       "      <td>6</td>\n",
       "      <td>0</td>\n",
       "      <td>0.0</td>\n",
       "      <td>1.0</td>\n",
       "      <td>0.0</td>\n",
       "      <td>0.0</td>\n",
       "      <td>...</td>\n",
       "      <td>0.0</td>\n",
       "      <td>0.0</td>\n",
       "      <td>0.0</td>\n",
       "      <td>0.0</td>\n",
       "      <td>0.0</td>\n",
       "      <td>0.0</td>\n",
       "      <td>0.0</td>\n",
       "      <td>0.0</td>\n",
       "      <td>0.0</td>\n",
       "      <td>0.0</td>\n",
       "    </tr>\n",
       "  </tbody>\n",
       "</table>\n",
       "<p>21597 rows × 140 columns</p>\n",
       "</div>"
      ],
      "text/plain": [
       "          price  sqft_living  sqft_lot  waterfront  age_when_sold  Basement  \\\n",
       "0      221900.0         1180      5650         0.0             59         0   \n",
       "1      538000.0         2570      7242         0.0             63         1   \n",
       "2      180000.0          770     10000         0.0             82         0   \n",
       "3      604000.0         1960      5000         0.0             49         1   \n",
       "4      510000.0         1680      8080         0.0             28         0   \n",
       "...         ...          ...       ...         ...            ...       ...   \n",
       "21592  360000.0         1530      1131         0.0              5         0   \n",
       "21593  400000.0         2310      5813         0.0              1         0   \n",
       "21594  402101.0         1020      1350         0.0              5         0   \n",
       "21595  400000.0         1600      2388         0.0             11         0   \n",
       "21596  325000.0         1020      1076         0.0              6         0   \n",
       "\n",
       "       bedrooms_1  bedrooms_2  bedrooms_3  bedrooms_4  ...  zipcode_98146  \\\n",
       "0             0.0         0.0         1.0         0.0  ...            0.0   \n",
       "1             0.0         0.0         1.0         0.0  ...            0.0   \n",
       "2             0.0         1.0         0.0         0.0  ...            0.0   \n",
       "3             0.0         0.0         0.0         1.0  ...            0.0   \n",
       "4             0.0         0.0         1.0         0.0  ...            0.0   \n",
       "...           ...         ...         ...         ...  ...            ...   \n",
       "21592         0.0         0.0         1.0         0.0  ...            0.0   \n",
       "21593         0.0         0.0         0.0         1.0  ...            1.0   \n",
       "21594         0.0         1.0         0.0         0.0  ...            0.0   \n",
       "21595         0.0         0.0         1.0         0.0  ...            0.0   \n",
       "21596         0.0         1.0         0.0         0.0  ...            0.0   \n",
       "\n",
       "       zipcode_98148  zipcode_98155  zipcode_98166  zipcode_98168  \\\n",
       "0                0.0            0.0            0.0            0.0   \n",
       "1                0.0            0.0            0.0            0.0   \n",
       "2                0.0            0.0            0.0            0.0   \n",
       "3                0.0            0.0            0.0            0.0   \n",
       "4                0.0            0.0            0.0            0.0   \n",
       "...              ...            ...            ...            ...   \n",
       "21592            0.0            0.0            0.0            0.0   \n",
       "21593            0.0            0.0            0.0            0.0   \n",
       "21594            0.0            0.0            0.0            0.0   \n",
       "21595            0.0            0.0            0.0            0.0   \n",
       "21596            0.0            0.0            0.0            0.0   \n",
       "\n",
       "       zipcode_98177  zipcode_98178  zipcode_98188  zipcode_98198  \\\n",
       "0                0.0            1.0            0.0            0.0   \n",
       "1                0.0            0.0            0.0            0.0   \n",
       "2                0.0            0.0            0.0            0.0   \n",
       "3                0.0            0.0            0.0            0.0   \n",
       "4                0.0            0.0            0.0            0.0   \n",
       "...              ...            ...            ...            ...   \n",
       "21592            0.0            0.0            0.0            0.0   \n",
       "21593            0.0            0.0            0.0            0.0   \n",
       "21594            0.0            0.0            0.0            0.0   \n",
       "21595            0.0            0.0            0.0            0.0   \n",
       "21596            0.0            0.0            0.0            0.0   \n",
       "\n",
       "       zipcode_98199  \n",
       "0                0.0  \n",
       "1                0.0  \n",
       "2                0.0  \n",
       "3                0.0  \n",
       "4                0.0  \n",
       "...              ...  \n",
       "21592            0.0  \n",
       "21593            0.0  \n",
       "21594            0.0  \n",
       "21595            0.0  \n",
       "21596            0.0  \n",
       "\n",
       "[21597 rows x 140 columns]"
      ]
     },
     "execution_count": 73,
     "metadata": {},
     "output_type": "execute_result"
    }
   ],
   "source": [
    "housing_pred_final_no_corr = housing_pred_final.copy()\n",
    "housing_pred_final_no_corr.drop(['condition_4', 'condition_3','floors_1.0', 'floors_2.0'], axis=1)"
   ]
  },
  {
   "cell_type": "code",
   "execution_count": 74,
   "metadata": {},
   "outputs": [],
   "source": [
    "# Y = housing_pred_final_no_corr['price']\n",
    "# X = housing_pred_final_no_corr.drop(['price'], axis=1)\n",
    "# X = sm.add_constant(X)\n",
    "# model = sm.OLS(Y,X)\n",
    "# results = model.fit()\n",
    "\n"
   ]
  },
  {
   "cell_type": "code",
   "execution_count": 75,
   "metadata": {
    "scrolled": true
   },
   "outputs": [
    {
     "data": {
      "text/html": [
       "<div>\n",
       "<style scoped>\n",
       "    .dataframe tbody tr th:only-of-type {\n",
       "        vertical-align: middle;\n",
       "    }\n",
       "\n",
       "    .dataframe tbody tr th {\n",
       "        vertical-align: top;\n",
       "    }\n",
       "\n",
       "    .dataframe thead th {\n",
       "        text-align: right;\n",
       "    }\n",
       "</style>\n",
       "<table border=\"1\" class=\"dataframe\">\n",
       "  <thead>\n",
       "    <tr style=\"text-align: right;\">\n",
       "      <th></th>\n",
       "      <th>sqft_living</th>\n",
       "    </tr>\n",
       "  </thead>\n",
       "  <tbody>\n",
       "    <tr>\n",
       "      <th>0</th>\n",
       "      <td>-0.980652</td>\n",
       "    </tr>\n",
       "    <tr>\n",
       "      <th>1</th>\n",
       "      <td>0.533369</td>\n",
       "    </tr>\n",
       "    <tr>\n",
       "      <th>2</th>\n",
       "      <td>-1.427234</td>\n",
       "    </tr>\n",
       "    <tr>\n",
       "      <th>3</th>\n",
       "      <td>-0.131057</td>\n",
       "    </tr>\n",
       "    <tr>\n",
       "      <th>4</th>\n",
       "      <td>-0.436040</td>\n",
       "    </tr>\n",
       "    <tr>\n",
       "      <th>...</th>\n",
       "      <td>...</td>\n",
       "    </tr>\n",
       "    <tr>\n",
       "      <th>21592</th>\n",
       "      <td>-0.599424</td>\n",
       "    </tr>\n",
       "    <tr>\n",
       "      <th>21593</th>\n",
       "      <td>0.250171</td>\n",
       "    </tr>\n",
       "    <tr>\n",
       "      <th>21594</th>\n",
       "      <td>-1.154928</td>\n",
       "    </tr>\n",
       "    <tr>\n",
       "      <th>21595</th>\n",
       "      <td>-0.523178</td>\n",
       "    </tr>\n",
       "    <tr>\n",
       "      <th>21596</th>\n",
       "      <td>-1.154928</td>\n",
       "    </tr>\n",
       "  </tbody>\n",
       "</table>\n",
       "<p>21597 rows × 1 columns</p>\n",
       "</div>"
      ],
      "text/plain": [
       "       sqft_living\n",
       "0        -0.980652\n",
       "1         0.533369\n",
       "2        -1.427234\n",
       "3        -0.131057\n",
       "4        -0.436040\n",
       "...            ...\n",
       "21592    -0.599424\n",
       "21593     0.250171\n",
       "21594    -1.154928\n",
       "21595    -0.523178\n",
       "21596    -1.154928\n",
       "\n",
       "[21597 rows x 1 columns]"
      ]
     },
     "execution_count": 75,
     "metadata": {},
     "output_type": "execute_result"
    }
   ],
   "source": [
    "columns_to_scale  = ['sqft_living']\n",
    "scaler = StandardScaler()\n",
    "scaled_fit = scaler.fit(housing_ols[columns_to_scale])\n",
    "scaled_columns = scaled_fit.transform(housing_ols[columns_to_scale])\n",
    "scaled_columns = pd.DataFrame(scaled_columns)\n",
    "scaled_columns.columns = columns_to_scale\n",
    "scaled_columns"
   ]
  },
  {
   "cell_type": "code",
   "execution_count": 76,
   "metadata": {
    "scrolled": true
   },
   "outputs": [],
   "source": [
    "formula = 'price ~ sqft_living + waterfront + C(zipcode) + C(view)'\n",
    "\n",
    "model_ols_8 = ols(formula=formula, data=housing_ols).fit()"
   ]
  },
  {
   "cell_type": "code",
   "execution_count": 77,
   "metadata": {
    "scrolled": true
   },
   "outputs": [
    {
     "data": {
      "text/html": [
       "<table class=\"simpletable\">\n",
       "<caption>OLS Regression Results</caption>\n",
       "<tr>\n",
       "  <th>Dep. Variable:</th>          <td>price</td>      <th>  R-squared:         </th>  <td>   0.783</td>  \n",
       "</tr>\n",
       "<tr>\n",
       "  <th>Model:</th>                   <td>OLS</td>       <th>  Adj. R-squared:    </th>  <td>   0.783</td>  \n",
       "</tr>\n",
       "<tr>\n",
       "  <th>Method:</th>             <td>Least Squares</td>  <th>  F-statistic:       </th>  <td>   1037.</td>  \n",
       "</tr>\n",
       "<tr>\n",
       "  <th>Date:</th>             <td>Thu, 18 Nov 2021</td> <th>  Prob (F-statistic):</th>   <td>  0.00</td>   \n",
       "</tr>\n",
       "<tr>\n",
       "  <th>Time:</th>                 <td>15:09:30</td>     <th>  Log-Likelihood:    </th> <td>-2.9088e+05</td>\n",
       "</tr>\n",
       "<tr>\n",
       "  <th>No. Observations:</th>      <td> 21597</td>      <th>  AIC:               </th>  <td>5.819e+05</td> \n",
       "</tr>\n",
       "<tr>\n",
       "  <th>Df Residuals:</th>          <td> 21521</td>      <th>  BIC:               </th>  <td>5.825e+05</td> \n",
       "</tr>\n",
       "<tr>\n",
       "  <th>Df Model:</th>              <td>    75</td>      <th>                     </th>      <td> </td>     \n",
       "</tr>\n",
       "<tr>\n",
       "  <th>Covariance Type:</th>      <td>nonrobust</td>    <th>                     </th>      <td> </td>     \n",
       "</tr>\n",
       "</table>\n",
       "<table class=\"simpletable\">\n",
       "<tr>\n",
       "            <td></td>              <th>coef</th>     <th>std err</th>      <th>t</th>      <th>P>|t|</th>  <th>[0.025</th>    <th>0.975]</th>  \n",
       "</tr>\n",
       "<tr>\n",
       "  <th>Intercept</th>            <td>-6.965e+04</td> <td> 1.13e+04</td> <td>   -6.163</td> <td> 0.000</td> <td>-9.18e+04</td> <td>-4.75e+04</td>\n",
       "</tr>\n",
       "<tr>\n",
       "  <th>C(zipcode)[T.98002]</th>  <td> 2.111e+04</td> <td> 1.51e+04</td> <td>    1.395</td> <td> 0.163</td> <td>-8548.801</td> <td> 5.08e+04</td>\n",
       "</tr>\n",
       "<tr>\n",
       "  <th>C(zipcode)[T.98003]</th>  <td> 1694.0541</td> <td> 1.36e+04</td> <td>    0.124</td> <td> 0.901</td> <td>-2.51e+04</td> <td> 2.84e+04</td>\n",
       "</tr>\n",
       "<tr>\n",
       "  <th>C(zipcode)[T.98004]</th>  <td> 8.298e+05</td> <td> 1.33e+04</td> <td>   62.525</td> <td> 0.000</td> <td> 8.04e+05</td> <td> 8.56e+05</td>\n",
       "</tr>\n",
       "<tr>\n",
       "  <th>C(zipcode)[T.98005]</th>  <td> 3.568e+05</td> <td>  1.6e+04</td> <td>   22.247</td> <td> 0.000</td> <td> 3.25e+05</td> <td> 3.88e+05</td>\n",
       "</tr>\n",
       "<tr>\n",
       "  <th>C(zipcode)[T.98006]</th>  <td> 3.139e+05</td> <td> 1.19e+04</td> <td>   26.304</td> <td> 0.000</td> <td> 2.91e+05</td> <td> 3.37e+05</td>\n",
       "</tr>\n",
       "<tr>\n",
       "  <th>C(zipcode)[T.98007]</th>  <td> 2.774e+05</td> <td>  1.7e+04</td> <td>   16.299</td> <td> 0.000</td> <td> 2.44e+05</td> <td> 3.11e+05</td>\n",
       "</tr>\n",
       "<tr>\n",
       "  <th>C(zipcode)[T.98008]</th>  <td> 2.654e+05</td> <td> 1.36e+04</td> <td>   19.488</td> <td> 0.000</td> <td> 2.39e+05</td> <td> 2.92e+05</td>\n",
       "</tr>\n",
       "<tr>\n",
       "  <th>C(zipcode)[T.98010]</th>  <td> 8.977e+04</td> <td> 1.94e+04</td> <td>    4.636</td> <td> 0.000</td> <td> 5.18e+04</td> <td> 1.28e+05</td>\n",
       "</tr>\n",
       "<tr>\n",
       "  <th>C(zipcode)[T.98011]</th>  <td> 1.314e+05</td> <td> 1.52e+04</td> <td>    8.626</td> <td> 0.000</td> <td> 1.02e+05</td> <td> 1.61e+05</td>\n",
       "</tr>\n",
       "<tr>\n",
       "  <th>C(zipcode)[T.98014]</th>  <td> 1.222e+05</td> <td> 1.78e+04</td> <td>    6.853</td> <td> 0.000</td> <td> 8.73e+04</td> <td> 1.57e+05</td>\n",
       "</tr>\n",
       "<tr>\n",
       "  <th>C(zipcode)[T.98019]</th>  <td> 8.768e+04</td> <td> 1.54e+04</td> <td>    5.708</td> <td> 0.000</td> <td> 5.76e+04</td> <td> 1.18e+05</td>\n",
       "</tr>\n",
       "<tr>\n",
       "  <th>C(zipcode)[T.98022]</th>  <td> 2.208e+04</td> <td> 1.44e+04</td> <td>    1.529</td> <td> 0.126</td> <td>-6225.613</td> <td> 5.04e+04</td>\n",
       "</tr>\n",
       "<tr>\n",
       "  <th>C(zipcode)[T.98023]</th>  <td>-1.936e+04</td> <td> 1.18e+04</td> <td>   -1.636</td> <td> 0.102</td> <td>-4.26e+04</td> <td> 3840.555</td>\n",
       "</tr>\n",
       "<tr>\n",
       "  <th>C(zipcode)[T.98024]</th>  <td> 1.941e+05</td> <td> 2.12e+04</td> <td>    9.165</td> <td> 0.000</td> <td> 1.53e+05</td> <td> 2.36e+05</td>\n",
       "</tr>\n",
       "<tr>\n",
       "  <th>C(zipcode)[T.98027]</th>  <td> 1.905e+05</td> <td> 1.24e+04</td> <td>   15.381</td> <td> 0.000</td> <td> 1.66e+05</td> <td> 2.15e+05</td>\n",
       "</tr>\n",
       "<tr>\n",
       "  <th>C(zipcode)[T.98028]</th>  <td> 1.241e+05</td> <td> 1.36e+04</td> <td>    9.123</td> <td> 0.000</td> <td> 9.75e+04</td> <td> 1.51e+05</td>\n",
       "</tr>\n",
       "<tr>\n",
       "  <th>C(zipcode)[T.98029]</th>  <td> 2.467e+05</td> <td> 1.32e+04</td> <td>   18.750</td> <td> 0.000</td> <td> 2.21e+05</td> <td> 2.72e+05</td>\n",
       "</tr>\n",
       "<tr>\n",
       "  <th>C(zipcode)[T.98030]</th>  <td> 6416.6664</td> <td>  1.4e+04</td> <td>    0.458</td> <td> 0.647</td> <td> -2.1e+04</td> <td> 3.39e+04</td>\n",
       "</tr>\n",
       "<tr>\n",
       "  <th>C(zipcode)[T.98031]</th>  <td> 1.872e+04</td> <td> 1.37e+04</td> <td>    1.362</td> <td> 0.173</td> <td>-8214.050</td> <td> 4.57e+04</td>\n",
       "</tr>\n",
       "<tr>\n",
       "  <th>C(zipcode)[T.98032]</th>  <td> 8435.7696</td> <td> 1.78e+04</td> <td>    0.474</td> <td> 0.635</td> <td>-2.64e+04</td> <td> 4.33e+04</td>\n",
       "</tr>\n",
       "<tr>\n",
       "  <th>C(zipcode)[T.98033]</th>  <td> 3.978e+05</td> <td> 1.22e+04</td> <td>   32.500</td> <td> 0.000</td> <td> 3.74e+05</td> <td> 4.22e+05</td>\n",
       "</tr>\n",
       "<tr>\n",
       "  <th>C(zipcode)[T.98034]</th>  <td>   2.1e+05</td> <td> 1.16e+04</td> <td>   18.062</td> <td> 0.000</td> <td> 1.87e+05</td> <td> 2.33e+05</td>\n",
       "</tr>\n",
       "<tr>\n",
       "  <th>C(zipcode)[T.98038]</th>  <td>  3.43e+04</td> <td> 1.15e+04</td> <td>    2.993</td> <td> 0.003</td> <td> 1.18e+04</td> <td> 5.68e+04</td>\n",
       "</tr>\n",
       "<tr>\n",
       "  <th>C(zipcode)[T.98039]</th>  <td> 1.411e+06</td> <td>  2.6e+04</td> <td>   54.255</td> <td> 0.000</td> <td> 1.36e+06</td> <td> 1.46e+06</td>\n",
       "</tr>\n",
       "<tr>\n",
       "  <th>C(zipcode)[T.98040]</th>  <td> 5.734e+05</td> <td> 1.38e+04</td> <td>   41.687</td> <td> 0.000</td> <td> 5.46e+05</td> <td>    6e+05</td>\n",
       "</tr>\n",
       "<tr>\n",
       "  <th>C(zipcode)[T.98042]</th>  <td> 1.685e+04</td> <td> 1.16e+04</td> <td>    1.450</td> <td> 0.147</td> <td>-5924.646</td> <td> 3.96e+04</td>\n",
       "</tr>\n",
       "<tr>\n",
       "  <th>C(zipcode)[T.98045]</th>  <td> 1.127e+05</td> <td> 1.47e+04</td> <td>    7.690</td> <td> 0.000</td> <td>  8.4e+04</td> <td> 1.41e+05</td>\n",
       "</tr>\n",
       "<tr>\n",
       "  <th>C(zipcode)[T.98052]</th>  <td> 2.583e+05</td> <td> 1.15e+04</td> <td>   22.407</td> <td> 0.000</td> <td> 2.36e+05</td> <td> 2.81e+05</td>\n",
       "</tr>\n",
       "<tr>\n",
       "  <th>C(zipcode)[T.98053]</th>  <td> 2.348e+05</td> <td> 1.25e+04</td> <td>   18.844</td> <td> 0.000</td> <td>  2.1e+05</td> <td> 2.59e+05</td>\n",
       "</tr>\n",
       "<tr>\n",
       "  <th>C(zipcode)[T.98055]</th>  <td> 5.027e+04</td> <td> 1.38e+04</td> <td>    3.639</td> <td> 0.000</td> <td> 2.32e+04</td> <td> 7.73e+04</td>\n",
       "</tr>\n",
       "<tr>\n",
       "  <th>C(zipcode)[T.98056]</th>  <td> 1.048e+05</td> <td> 1.24e+04</td> <td>    8.454</td> <td> 0.000</td> <td> 8.05e+04</td> <td> 1.29e+05</td>\n",
       "</tr>\n",
       "<tr>\n",
       "  <th>C(zipcode)[T.98058]</th>  <td>  4.39e+04</td> <td> 1.21e+04</td> <td>    3.635</td> <td> 0.000</td> <td> 2.02e+04</td> <td> 6.76e+04</td>\n",
       "</tr>\n",
       "<tr>\n",
       "  <th>C(zipcode)[T.98059]</th>  <td> 1.024e+05</td> <td>  1.2e+04</td> <td>    8.517</td> <td> 0.000</td> <td> 7.89e+04</td> <td> 1.26e+05</td>\n",
       "</tr>\n",
       "<tr>\n",
       "  <th>C(zipcode)[T.98065]</th>  <td> 8.341e+04</td> <td> 1.33e+04</td> <td>    6.260</td> <td> 0.000</td> <td> 5.73e+04</td> <td>  1.1e+05</td>\n",
       "</tr>\n",
       "<tr>\n",
       "  <th>C(zipcode)[T.98070]</th>  <td> 3.542e+04</td> <td> 1.85e+04</td> <td>    1.919</td> <td> 0.055</td> <td> -753.618</td> <td> 7.16e+04</td>\n",
       "</tr>\n",
       "<tr>\n",
       "  <th>C(zipcode)[T.98072]</th>  <td> 1.855e+05</td> <td> 1.38e+04</td> <td>   13.480</td> <td> 0.000</td> <td> 1.59e+05</td> <td> 2.12e+05</td>\n",
       "</tr>\n",
       "<tr>\n",
       "  <th>C(zipcode)[T.98074]</th>  <td> 2.201e+05</td> <td> 1.22e+04</td> <td>   18.031</td> <td> 0.000</td> <td> 1.96e+05</td> <td> 2.44e+05</td>\n",
       "</tr>\n",
       "<tr>\n",
       "  <th>C(zipcode)[T.98075]</th>  <td> 2.266e+05</td> <td> 1.29e+04</td> <td>   17.610</td> <td> 0.000</td> <td> 2.01e+05</td> <td> 2.52e+05</td>\n",
       "</tr>\n",
       "<tr>\n",
       "  <th>C(zipcode)[T.98077]</th>  <td> 1.906e+05</td> <td> 1.52e+04</td> <td>   12.520</td> <td> 0.000</td> <td> 1.61e+05</td> <td>  2.2e+05</td>\n",
       "</tr>\n",
       "<tr>\n",
       "  <th>C(zipcode)[T.98092]</th>  <td>-1.475e+04</td> <td> 1.28e+04</td> <td>   -1.148</td> <td> 0.251</td> <td>-3.99e+04</td> <td> 1.04e+04</td>\n",
       "</tr>\n",
       "<tr>\n",
       "  <th>C(zipcode)[T.98102]</th>  <td> 5.584e+05</td> <td> 1.91e+04</td> <td>   29.284</td> <td> 0.000</td> <td> 5.21e+05</td> <td> 5.96e+05</td>\n",
       "</tr>\n",
       "<tr>\n",
       "  <th>C(zipcode)[T.98103]</th>  <td> 3.587e+05</td> <td> 1.14e+04</td> <td>   31.430</td> <td> 0.000</td> <td> 3.36e+05</td> <td> 3.81e+05</td>\n",
       "</tr>\n",
       "<tr>\n",
       "  <th>C(zipcode)[T.98105]</th>  <td> 5.043e+05</td> <td> 1.45e+04</td> <td>   34.818</td> <td> 0.000</td> <td> 4.76e+05</td> <td> 5.33e+05</td>\n",
       "</tr>\n",
       "<tr>\n",
       "  <th>C(zipcode)[T.98106]</th>  <td>  1.35e+05</td> <td>  1.3e+04</td> <td>   10.372</td> <td> 0.000</td> <td> 1.09e+05</td> <td>  1.6e+05</td>\n",
       "</tr>\n",
       "<tr>\n",
       "  <th>C(zipcode)[T.98107]</th>  <td> 3.655e+05</td> <td> 1.39e+04</td> <td>   26.377</td> <td> 0.000</td> <td> 3.38e+05</td> <td> 3.93e+05</td>\n",
       "</tr>\n",
       "<tr>\n",
       "  <th>C(zipcode)[T.98108]</th>  <td> 1.203e+05</td> <td> 1.55e+04</td> <td>    7.777</td> <td> 0.000</td> <td>    9e+04</td> <td> 1.51e+05</td>\n",
       "</tr>\n",
       "<tr>\n",
       "  <th>C(zipcode)[T.98109]</th>  <td> 5.459e+05</td> <td> 1.87e+04</td> <td>   29.121</td> <td> 0.000</td> <td> 5.09e+05</td> <td> 5.83e+05</td>\n",
       "</tr>\n",
       "<tr>\n",
       "  <th>C(zipcode)[T.98112]</th>  <td> 6.786e+05</td> <td> 1.38e+04</td> <td>   49.073</td> <td> 0.000</td> <td> 6.51e+05</td> <td> 7.06e+05</td>\n",
       "</tr>\n",
       "<tr>\n",
       "  <th>C(zipcode)[T.98115]</th>  <td> 3.462e+05</td> <td> 1.15e+04</td> <td>   30.157</td> <td> 0.000</td> <td> 3.24e+05</td> <td> 3.69e+05</td>\n",
       "</tr>\n",
       "<tr>\n",
       "  <th>C(zipcode)[T.98116]</th>  <td>  3.08e+05</td> <td> 1.31e+04</td> <td>   23.523</td> <td> 0.000</td> <td> 2.82e+05</td> <td> 3.34e+05</td>\n",
       "</tr>\n",
       "<tr>\n",
       "  <th>C(zipcode)[T.98117]</th>  <td> 3.379e+05</td> <td> 1.16e+04</td> <td>   29.135</td> <td> 0.000</td> <td> 3.15e+05</td> <td> 3.61e+05</td>\n",
       "</tr>\n",
       "<tr>\n",
       "  <th>C(zipcode)[T.98118]</th>  <td> 1.711e+05</td> <td> 1.18e+04</td> <td>   14.488</td> <td> 0.000</td> <td> 1.48e+05</td> <td> 1.94e+05</td>\n",
       "</tr>\n",
       "<tr>\n",
       "  <th>C(zipcode)[T.98119]</th>  <td> 5.186e+05</td> <td> 1.55e+04</td> <td>   33.363</td> <td> 0.000</td> <td> 4.88e+05</td> <td> 5.49e+05</td>\n",
       "</tr>\n",
       "<tr>\n",
       "  <th>C(zipcode)[T.98122]</th>  <td> 3.737e+05</td> <td> 1.35e+04</td> <td>   27.654</td> <td> 0.000</td> <td> 3.47e+05</td> <td>    4e+05</td>\n",
       "</tr>\n",
       "<tr>\n",
       "  <th>C(zipcode)[T.98125]</th>  <td> 2.037e+05</td> <td> 1.24e+04</td> <td>   16.453</td> <td> 0.000</td> <td> 1.79e+05</td> <td> 2.28e+05</td>\n",
       "</tr>\n",
       "<tr>\n",
       "  <th>C(zipcode)[T.98126]</th>  <td> 2.114e+05</td> <td> 1.28e+04</td> <td>   16.448</td> <td> 0.000</td> <td> 1.86e+05</td> <td> 2.37e+05</td>\n",
       "</tr>\n",
       "<tr>\n",
       "  <th>C(zipcode)[T.98133]</th>  <td> 1.765e+05</td> <td> 1.19e+04</td> <td>   14.865</td> <td> 0.000</td> <td> 1.53e+05</td> <td>    2e+05</td>\n",
       "</tr>\n",
       "<tr>\n",
       "  <th>C(zipcode)[T.98136]</th>  <td> 2.629e+05</td> <td>  1.4e+04</td> <td>   18.839</td> <td> 0.000</td> <td> 2.36e+05</td> <td>  2.9e+05</td>\n",
       "</tr>\n",
       "<tr>\n",
       "  <th>C(zipcode)[T.98144]</th>  <td> 2.886e+05</td> <td> 1.29e+04</td> <td>   22.318</td> <td> 0.000</td> <td> 2.63e+05</td> <td> 3.14e+05</td>\n",
       "</tr>\n",
       "<tr>\n",
       "  <th>C(zipcode)[T.98146]</th>  <td> 1.051e+05</td> <td> 1.36e+04</td> <td>    7.751</td> <td> 0.000</td> <td> 7.85e+04</td> <td> 1.32e+05</td>\n",
       "</tr>\n",
       "<tr>\n",
       "  <th>C(zipcode)[T.98148]</th>  <td> 7.608e+04</td> <td> 2.44e+04</td> <td>    3.115</td> <td> 0.002</td> <td> 2.82e+04</td> <td> 1.24e+05</td>\n",
       "</tr>\n",
       "<tr>\n",
       "  <th>C(zipcode)[T.98155]</th>  <td> 1.564e+05</td> <td> 1.21e+04</td> <td>   12.892</td> <td> 0.000</td> <td> 1.33e+05</td> <td>  1.8e+05</td>\n",
       "</tr>\n",
       "<tr>\n",
       "  <th>C(zipcode)[T.98166]</th>  <td>  7.28e+04</td> <td> 1.41e+04</td> <td>    5.171</td> <td> 0.000</td> <td> 4.52e+04</td> <td>    1e+05</td>\n",
       "</tr>\n",
       "<tr>\n",
       "  <th>C(zipcode)[T.98168]</th>  <td> 6.307e+04</td> <td> 1.38e+04</td> <td>    4.566</td> <td> 0.000</td> <td>  3.6e+04</td> <td> 9.01e+04</td>\n",
       "</tr>\n",
       "<tr>\n",
       "  <th>C(zipcode)[T.98177]</th>  <td> 2.458e+05</td> <td> 1.41e+04</td> <td>   17.456</td> <td> 0.000</td> <td> 2.18e+05</td> <td> 2.73e+05</td>\n",
       "</tr>\n",
       "<tr>\n",
       "  <th>C(zipcode)[T.98178]</th>  <td> 1.954e+04</td> <td> 1.39e+04</td> <td>    1.402</td> <td> 0.161</td> <td>-7781.738</td> <td> 4.69e+04</td>\n",
       "</tr>\n",
       "<tr>\n",
       "  <th>C(zipcode)[T.98188]</th>  <td> 2.867e+04</td> <td> 1.72e+04</td> <td>    1.663</td> <td> 0.096</td> <td>-5119.600</td> <td> 6.25e+04</td>\n",
       "</tr>\n",
       "<tr>\n",
       "  <th>C(zipcode)[T.98198]</th>  <td> 2709.8193</td> <td> 1.37e+04</td> <td>    0.198</td> <td> 0.843</td> <td>-2.41e+04</td> <td> 2.95e+04</td>\n",
       "</tr>\n",
       "<tr>\n",
       "  <th>C(zipcode)[T.98199]</th>  <td> 4.254e+05</td> <td> 1.32e+04</td> <td>   32.169</td> <td> 0.000</td> <td>    4e+05</td> <td> 4.51e+05</td>\n",
       "</tr>\n",
       "<tr>\n",
       "  <th>C(view)[T.EXCELLENT]</th> <td> 2.858e+05</td> <td>  1.3e+04</td> <td>   21.904</td> <td> 0.000</td> <td>  2.6e+05</td> <td> 3.11e+05</td>\n",
       "</tr>\n",
       "<tr>\n",
       "  <th>C(view)[T.FAIR]</th>      <td>-3837.2274</td> <td>  1.1e+04</td> <td>   -0.349</td> <td> 0.727</td> <td>-2.54e+04</td> <td> 1.77e+04</td>\n",
       "</tr>\n",
       "<tr>\n",
       "  <th>C(view)[T.GOOD]</th>      <td> 9.513e+04</td> <td> 9458.007</td> <td>   10.058</td> <td> 0.000</td> <td> 7.66e+04</td> <td> 1.14e+05</td>\n",
       "</tr>\n",
       "<tr>\n",
       "  <th>C(view)[T.NONE]</th>      <td>-8.722e+04</td> <td> 5866.449</td> <td>  -14.868</td> <td> 0.000</td> <td>-9.87e+04</td> <td>-7.57e+04</td>\n",
       "</tr>\n",
       "<tr>\n",
       "  <th>sqft_living</th>          <td>  227.0684</td> <td>    1.482</td> <td>  153.194</td> <td> 0.000</td> <td>  224.163</td> <td>  229.974</td>\n",
       "</tr>\n",
       "<tr>\n",
       "  <th>waterfront</th>           <td> 6.028e+05</td> <td> 1.76e+04</td> <td>   34.229</td> <td> 0.000</td> <td> 5.68e+05</td> <td> 6.37e+05</td>\n",
       "</tr>\n",
       "</table>\n",
       "<table class=\"simpletable\">\n",
       "<tr>\n",
       "  <th>Omnibus:</th>       <td>18848.582</td> <th>  Durbin-Watson:     </th>  <td>   1.983</td>  \n",
       "</tr>\n",
       "<tr>\n",
       "  <th>Prob(Omnibus):</th>  <td> 0.000</td>   <th>  Jarque-Bera (JB):  </th> <td>2787513.409</td>\n",
       "</tr>\n",
       "<tr>\n",
       "  <th>Skew:</th>           <td> 3.593</td>   <th>  Prob(JB):          </th>  <td>    0.00</td>  \n",
       "</tr>\n",
       "<tr>\n",
       "  <th>Kurtosis:</th>       <td>58.191</td>   <th>  Cond. No.          </th>  <td>1.49e+05</td>  \n",
       "</tr>\n",
       "</table><br/><br/>Notes:<br/>[1] Standard Errors assume that the covariance matrix of the errors is correctly specified.<br/>[2] The condition number is large, 1.49e+05. This might indicate that there are<br/>strong multicollinearity or other numerical problems."
      ],
      "text/plain": [
       "<class 'statsmodels.iolib.summary.Summary'>\n",
       "\"\"\"\n",
       "                            OLS Regression Results                            \n",
       "==============================================================================\n",
       "Dep. Variable:                  price   R-squared:                       0.783\n",
       "Model:                            OLS   Adj. R-squared:                  0.783\n",
       "Method:                 Least Squares   F-statistic:                     1037.\n",
       "Date:                Thu, 18 Nov 2021   Prob (F-statistic):               0.00\n",
       "Time:                        15:09:30   Log-Likelihood:            -2.9088e+05\n",
       "No. Observations:               21597   AIC:                         5.819e+05\n",
       "Df Residuals:                   21521   BIC:                         5.825e+05\n",
       "Df Model:                          75                                         \n",
       "Covariance Type:            nonrobust                                         \n",
       "========================================================================================\n",
       "                           coef    std err          t      P>|t|      [0.025      0.975]\n",
       "----------------------------------------------------------------------------------------\n",
       "Intercept            -6.965e+04   1.13e+04     -6.163      0.000   -9.18e+04   -4.75e+04\n",
       "C(zipcode)[T.98002]   2.111e+04   1.51e+04      1.395      0.163   -8548.801    5.08e+04\n",
       "C(zipcode)[T.98003]   1694.0541   1.36e+04      0.124      0.901   -2.51e+04    2.84e+04\n",
       "C(zipcode)[T.98004]   8.298e+05   1.33e+04     62.525      0.000    8.04e+05    8.56e+05\n",
       "C(zipcode)[T.98005]   3.568e+05    1.6e+04     22.247      0.000    3.25e+05    3.88e+05\n",
       "C(zipcode)[T.98006]   3.139e+05   1.19e+04     26.304      0.000    2.91e+05    3.37e+05\n",
       "C(zipcode)[T.98007]   2.774e+05    1.7e+04     16.299      0.000    2.44e+05    3.11e+05\n",
       "C(zipcode)[T.98008]   2.654e+05   1.36e+04     19.488      0.000    2.39e+05    2.92e+05\n",
       "C(zipcode)[T.98010]   8.977e+04   1.94e+04      4.636      0.000    5.18e+04    1.28e+05\n",
       "C(zipcode)[T.98011]   1.314e+05   1.52e+04      8.626      0.000    1.02e+05    1.61e+05\n",
       "C(zipcode)[T.98014]   1.222e+05   1.78e+04      6.853      0.000    8.73e+04    1.57e+05\n",
       "C(zipcode)[T.98019]   8.768e+04   1.54e+04      5.708      0.000    5.76e+04    1.18e+05\n",
       "C(zipcode)[T.98022]   2.208e+04   1.44e+04      1.529      0.126   -6225.613    5.04e+04\n",
       "C(zipcode)[T.98023]  -1.936e+04   1.18e+04     -1.636      0.102   -4.26e+04    3840.555\n",
       "C(zipcode)[T.98024]   1.941e+05   2.12e+04      9.165      0.000    1.53e+05    2.36e+05\n",
       "C(zipcode)[T.98027]   1.905e+05   1.24e+04     15.381      0.000    1.66e+05    2.15e+05\n",
       "C(zipcode)[T.98028]   1.241e+05   1.36e+04      9.123      0.000    9.75e+04    1.51e+05\n",
       "C(zipcode)[T.98029]   2.467e+05   1.32e+04     18.750      0.000    2.21e+05    2.72e+05\n",
       "C(zipcode)[T.98030]   6416.6664    1.4e+04      0.458      0.647    -2.1e+04    3.39e+04\n",
       "C(zipcode)[T.98031]   1.872e+04   1.37e+04      1.362      0.173   -8214.050    4.57e+04\n",
       "C(zipcode)[T.98032]   8435.7696   1.78e+04      0.474      0.635   -2.64e+04    4.33e+04\n",
       "C(zipcode)[T.98033]   3.978e+05   1.22e+04     32.500      0.000    3.74e+05    4.22e+05\n",
       "C(zipcode)[T.98034]     2.1e+05   1.16e+04     18.062      0.000    1.87e+05    2.33e+05\n",
       "C(zipcode)[T.98038]    3.43e+04   1.15e+04      2.993      0.003    1.18e+04    5.68e+04\n",
       "C(zipcode)[T.98039]   1.411e+06    2.6e+04     54.255      0.000    1.36e+06    1.46e+06\n",
       "C(zipcode)[T.98040]   5.734e+05   1.38e+04     41.687      0.000    5.46e+05       6e+05\n",
       "C(zipcode)[T.98042]   1.685e+04   1.16e+04      1.450      0.147   -5924.646    3.96e+04\n",
       "C(zipcode)[T.98045]   1.127e+05   1.47e+04      7.690      0.000     8.4e+04    1.41e+05\n",
       "C(zipcode)[T.98052]   2.583e+05   1.15e+04     22.407      0.000    2.36e+05    2.81e+05\n",
       "C(zipcode)[T.98053]   2.348e+05   1.25e+04     18.844      0.000     2.1e+05    2.59e+05\n",
       "C(zipcode)[T.98055]   5.027e+04   1.38e+04      3.639      0.000    2.32e+04    7.73e+04\n",
       "C(zipcode)[T.98056]   1.048e+05   1.24e+04      8.454      0.000    8.05e+04    1.29e+05\n",
       "C(zipcode)[T.98058]    4.39e+04   1.21e+04      3.635      0.000    2.02e+04    6.76e+04\n",
       "C(zipcode)[T.98059]   1.024e+05    1.2e+04      8.517      0.000    7.89e+04    1.26e+05\n",
       "C(zipcode)[T.98065]   8.341e+04   1.33e+04      6.260      0.000    5.73e+04     1.1e+05\n",
       "C(zipcode)[T.98070]   3.542e+04   1.85e+04      1.919      0.055    -753.618    7.16e+04\n",
       "C(zipcode)[T.98072]   1.855e+05   1.38e+04     13.480      0.000    1.59e+05    2.12e+05\n",
       "C(zipcode)[T.98074]   2.201e+05   1.22e+04     18.031      0.000    1.96e+05    2.44e+05\n",
       "C(zipcode)[T.98075]   2.266e+05   1.29e+04     17.610      0.000    2.01e+05    2.52e+05\n",
       "C(zipcode)[T.98077]   1.906e+05   1.52e+04     12.520      0.000    1.61e+05     2.2e+05\n",
       "C(zipcode)[T.98092]  -1.475e+04   1.28e+04     -1.148      0.251   -3.99e+04    1.04e+04\n",
       "C(zipcode)[T.98102]   5.584e+05   1.91e+04     29.284      0.000    5.21e+05    5.96e+05\n",
       "C(zipcode)[T.98103]   3.587e+05   1.14e+04     31.430      0.000    3.36e+05    3.81e+05\n",
       "C(zipcode)[T.98105]   5.043e+05   1.45e+04     34.818      0.000    4.76e+05    5.33e+05\n",
       "C(zipcode)[T.98106]    1.35e+05    1.3e+04     10.372      0.000    1.09e+05     1.6e+05\n",
       "C(zipcode)[T.98107]   3.655e+05   1.39e+04     26.377      0.000    3.38e+05    3.93e+05\n",
       "C(zipcode)[T.98108]   1.203e+05   1.55e+04      7.777      0.000       9e+04    1.51e+05\n",
       "C(zipcode)[T.98109]   5.459e+05   1.87e+04     29.121      0.000    5.09e+05    5.83e+05\n",
       "C(zipcode)[T.98112]   6.786e+05   1.38e+04     49.073      0.000    6.51e+05    7.06e+05\n",
       "C(zipcode)[T.98115]   3.462e+05   1.15e+04     30.157      0.000    3.24e+05    3.69e+05\n",
       "C(zipcode)[T.98116]    3.08e+05   1.31e+04     23.523      0.000    2.82e+05    3.34e+05\n",
       "C(zipcode)[T.98117]   3.379e+05   1.16e+04     29.135      0.000    3.15e+05    3.61e+05\n",
       "C(zipcode)[T.98118]   1.711e+05   1.18e+04     14.488      0.000    1.48e+05    1.94e+05\n",
       "C(zipcode)[T.98119]   5.186e+05   1.55e+04     33.363      0.000    4.88e+05    5.49e+05\n",
       "C(zipcode)[T.98122]   3.737e+05   1.35e+04     27.654      0.000    3.47e+05       4e+05\n",
       "C(zipcode)[T.98125]   2.037e+05   1.24e+04     16.453      0.000    1.79e+05    2.28e+05\n",
       "C(zipcode)[T.98126]   2.114e+05   1.28e+04     16.448      0.000    1.86e+05    2.37e+05\n",
       "C(zipcode)[T.98133]   1.765e+05   1.19e+04     14.865      0.000    1.53e+05       2e+05\n",
       "C(zipcode)[T.98136]   2.629e+05    1.4e+04     18.839      0.000    2.36e+05     2.9e+05\n",
       "C(zipcode)[T.98144]   2.886e+05   1.29e+04     22.318      0.000    2.63e+05    3.14e+05\n",
       "C(zipcode)[T.98146]   1.051e+05   1.36e+04      7.751      0.000    7.85e+04    1.32e+05\n",
       "C(zipcode)[T.98148]   7.608e+04   2.44e+04      3.115      0.002    2.82e+04    1.24e+05\n",
       "C(zipcode)[T.98155]   1.564e+05   1.21e+04     12.892      0.000    1.33e+05     1.8e+05\n",
       "C(zipcode)[T.98166]    7.28e+04   1.41e+04      5.171      0.000    4.52e+04       1e+05\n",
       "C(zipcode)[T.98168]   6.307e+04   1.38e+04      4.566      0.000     3.6e+04    9.01e+04\n",
       "C(zipcode)[T.98177]   2.458e+05   1.41e+04     17.456      0.000    2.18e+05    2.73e+05\n",
       "C(zipcode)[T.98178]   1.954e+04   1.39e+04      1.402      0.161   -7781.738    4.69e+04\n",
       "C(zipcode)[T.98188]   2.867e+04   1.72e+04      1.663      0.096   -5119.600    6.25e+04\n",
       "C(zipcode)[T.98198]   2709.8193   1.37e+04      0.198      0.843   -2.41e+04    2.95e+04\n",
       "C(zipcode)[T.98199]   4.254e+05   1.32e+04     32.169      0.000       4e+05    4.51e+05\n",
       "C(view)[T.EXCELLENT]  2.858e+05    1.3e+04     21.904      0.000     2.6e+05    3.11e+05\n",
       "C(view)[T.FAIR]      -3837.2274    1.1e+04     -0.349      0.727   -2.54e+04    1.77e+04\n",
       "C(view)[T.GOOD]       9.513e+04   9458.007     10.058      0.000    7.66e+04    1.14e+05\n",
       "C(view)[T.NONE]      -8.722e+04   5866.449    -14.868      0.000   -9.87e+04   -7.57e+04\n",
       "sqft_living            227.0684      1.482    153.194      0.000     224.163     229.974\n",
       "waterfront            6.028e+05   1.76e+04     34.229      0.000    5.68e+05    6.37e+05\n",
       "==============================================================================\n",
       "Omnibus:                    18848.582   Durbin-Watson:                   1.983\n",
       "Prob(Omnibus):                  0.000   Jarque-Bera (JB):          2787513.409\n",
       "Skew:                           3.593   Prob(JB):                         0.00\n",
       "Kurtosis:                      58.191   Cond. No.                     1.49e+05\n",
       "==============================================================================\n",
       "\n",
       "Notes:\n",
       "[1] Standard Errors assume that the covariance matrix of the errors is correctly specified.\n",
       "[2] The condition number is large, 1.49e+05. This might indicate that there are\n",
       "strong multicollinearity or other numerical problems.\n",
       "\"\"\""
      ]
     },
     "execution_count": 77,
     "metadata": {},
     "output_type": "execute_result"
    }
   ],
   "source": [
    "model_summary = model_ols_8.summary()\n",
    "model_summary"
   ]
  },
  {
   "cell_type": "code",
   "execution_count": null,
   "metadata": {},
   "outputs": [],
   "source": []
  },
  {
   "cell_type": "code",
   "execution_count": null,
   "metadata": {},
   "outputs": [],
   "source": [
    "wtr_df = housing_ols.groupby(by = 'waterfront').mean().reset_index()"
   ]
  },
  {
   "cell_type": "code",
   "execution_count": null,
   "metadata": {
    "scrolled": true
   },
   "outputs": [],
   "source": [
    "wtr_fig, ax = plt.subplots(figsize=(10,6))\n",
    "sns.set_style(\"dark\")\n",
    "\n",
    "plt.bar(wtr_df['waterfront'], wtr_df['price'], color = 'skyblue')\n",
    "plt.xlabel('Waterfront(No/Yes)')\n",
    "plt.ylabel('Average Price')\n",
    "plt.title('Presence of Waterfront')\n",
    "ax.ticklabel_format(style='plain', axis = 'y');"
   ]
  },
  {
   "cell_type": "code",
   "execution_count": null,
   "metadata": {},
   "outputs": [],
   "source": [
    "base_df = housing_ols.groupby(by = 'Basement').mean().reset_index()\n",
    "base_df"
   ]
  },
  {
   "cell_type": "code",
   "execution_count": null,
   "metadata": {},
   "outputs": [],
   "source": [
    "base_fig, ax = plt.subplots(figsize=(10,6))\n",
    "sns.set_style(\"dark\")\n",
    "\n",
    "plt.bar(base_df['Basement'], base_df['price'])"
   ]
  },
  {
   "cell_type": "code",
   "execution_count": null,
   "metadata": {},
   "outputs": [],
   "source": [
    "view_df = housing_ols.groupby(by = 'view').mean().reset_index()\n",
    "view_df.sort_values(by = 'price', ascending = True, inplace = True)\n",
    "view_df"
   ]
  },
  {
   "cell_type": "code",
   "execution_count": null,
   "metadata": {},
   "outputs": [],
   "source": [
    "view_fig, ax = plt.subplots(figsize=(10,6))\n",
    "sns.set_style(\"dark\")\n",
    "color = ['SkyBlue', 'blue', 'tomato', 'SkyBlue', 'SkyBlue']\n",
    "plt.bar(view_df['view'], view_df['price'], color = color)\n",
    "plt.ylabel('Average Price')\n",
    "plt.xlabel('Quality of View')\n",
    "plt.title('Avg Price Based on View')\n",
    "ax.ticklabel_format(style='plain', axis = 'y');"
   ]
  },
  {
   "cell_type": "code",
   "execution_count": null,
   "metadata": {},
   "outputs": [],
   "source": [
    "cond_df = housing_ols.groupby(by = 'condition').mean().reset_index()\n",
    "cond_df.sort_values(by = 'condition', ascending = True, inplace = True)\n",
    "cond_df"
   ]
  },
  {
   "cell_type": "code",
   "execution_count": null,
   "metadata": {},
   "outputs": [],
   "source": [
    "cond_fig, ax = plt.subplots(figsize=(10,6))\n",
    "sns.set_style(\"dark\")\n",
    "\n",
    "plt.bar(cond_df['condition'], cond_df['price'])"
   ]
  },
  {
   "cell_type": "code",
   "execution_count": null,
   "metadata": {},
   "outputs": [],
   "source": [
    "floor_df = housing_ols.groupby(by = 'floors').mean().reset_index()\n",
    "floor_df.sort_values(by = 'floors', ascending = True, inplace = True)\n",
    "floor_df"
   ]
  },
  {
   "cell_type": "code",
   "execution_count": null,
   "metadata": {},
   "outputs": [],
   "source": [
    "floor_fig, ax = plt.subplots(figsize=(10,6))\n",
    "sns.set_style(\"dark\")\n",
    "\n",
    "plt.bar(floor_df['floors'], floor_df['price'])"
   ]
  },
  {
   "cell_type": "code",
   "execution_count": null,
   "metadata": {},
   "outputs": [],
   "source": [
    "bedr_df = housing_ols.groupby(by = 'bedrooms').mean().reset_index()\n",
    "bedr_df.sort_values(by = 'bedrooms', ascending = True, inplace = True)\n",
    "bedr_df"
   ]
  },
  {
   "cell_type": "code",
   "execution_count": null,
   "metadata": {},
   "outputs": [],
   "source": [
    "bedr_fig, ax = plt.subplots(figsize=(10,6))\n",
    "sns.set_style(\"dark\")\n",
    "\n",
    "plt.bar(bedr_df['bedrooms'], bedr_df['price'])"
   ]
  },
  {
   "cell_type": "code",
   "execution_count": null,
   "metadata": {},
   "outputs": [],
   "source": [
    "zipcode_df = housing_ols.groupby(by = 'zipcode').mean().reset_index()\n",
    "zipcode_df.sort_values(by = 'price', ascending = True, inplace=True)\n",
    "zipcode_df"
   ]
  },
  {
   "cell_type": "code",
   "execution_count": null,
   "metadata": {},
   "outputs": [],
   "source": [
    "zipcode_df = zipcode_df.reset_index()\n",
    "zipcode_df"
   ]
  },
  {
   "cell_type": "code",
   "execution_count": null,
   "metadata": {
    "scrolled": true
   },
   "outputs": [],
   "source": [
    "zipcode_fig, ax = plt.subplots(figsize=(10,6))\n",
    "sns.set_style(\"dark\")\n",
    "\n",
    "plt.barh(zipcode_df.index, zipcode_df['price'])\n",
    "ax.ticklabel_format(style='plain', axis = 'y');"
   ]
  },
  {
   "cell_type": "code",
   "execution_count": 78,
   "metadata": {},
   "outputs": [
    {
     "data": {
      "image/png": "[encoded data removed]",
      "text/plain": [
       "<Figure size 432x288 with 1 Axes>"
      ]
     },
     "metadata": {
      "needs_background": "light"
     },
     "output_type": "display_data"
    }
   ],
   "source": [
    "sm.ProbPlot(model_ols_8.resid).qqplot(line='s');\n",
    "plt.title('Q-Q plot');"
   ]
  },
  {
   "cell_type": "code",
   "execution_count": 79,
   "metadata": {},
   "outputs": [
    {
     "data": {
      "text/plain": [
       "[Text(0.5, 0, 'Fitted Values'), Text(0, 0.5, 'sqrt(abs(Residuals))')]"
      ]
     },
     "execution_count": 79,
     "metadata": {},
     "output_type": "execute_result"
    },
    {
     "data": {
      "image/png": "[encoded data removed]",
      "text/plain": [
       "<Figure size 432x288 with 2 Axes>"
      ]
     },
     "metadata": {
      "needs_background": "light"
     },
     "output_type": "display_data"
    }
   ],
   "source": [
    "fitted_vals = model_ols_8.predict()\n",
    "resids = model_ols_8.resid\n",
    "resids_standardized = model_ols_8.get_influence().resid_studentized_internal\n",
    "\n",
    "fig, ax = plt.subplots(1,2)\n",
    "\n",
    "sns.regplot(x=fitted_vals, y=resids, lowess=True, ax=ax[0], line_kws={'color': 'red'})\n",
    "ax[0].set_title('Residuals vs Fitted', fontsize=16)\n",
    "ax[0].set(xlabel='Fitted Values', ylabel='Residuals')\n",
    "\n",
    "sns.regplot(x=fitted_vals, y=np.sqrt(np.abs(resids_standardized)), lowess=True, ax=ax[1], line_kws={'color': 'red'})\n",
    "ax[1].set_title('Scale-Location', fontsize=16)\n",
    "ax[1].set(xlabel='Fitted Values', ylabel='sqrt(abs(Residuals))')"
   ]
  },
  {
   "cell_type": "code",
   "execution_count": null,
   "metadata": {},
   "outputs": [],
   "source": []
  }
 ],
 "metadata": {
  "kernelspec": {
   "display_name": "Python 3",
   "language": "python",
   "name": "python3"
  },
  "language_info": {
   "codemirror_mode": {
    "name": "ipython",
    "version": 3
   },
   "file_extension": ".py",
   "mimetype": "text/x-python",
   "name": "python",
   "nbconvert_exporter": "python",
   "pygments_lexer": "ipython3",
   "version": "3.8.5"
  }
 },
 "nbformat": 4,
 "nbformat_minor": 2
}
